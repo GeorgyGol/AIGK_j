{
 "cells": [
  {
   "cell_type": "markdown",
   "metadata": {},
   "source": [
    "# Работа с базой данных для модели микроуровневого стресс-тестирования (банкротства застройщиков)\n",
    "\n",
    "<div class=\"alert alert-block alert-info\"><b>Блокнот предназначен для создания и обновления базы данных для модели \"банкротства застройщиков\"</b></div>\n",
    "\n",
    "<div class=\"alert alert-block alert-warning\">\n",
    "Этот блокнот может вызываться из другого блокнота с параметрами - путем к файлу slite3 с базой данных для модели \"банкротств застройщиков\"<br>\n",
    "Проверяйте, с какой именно базой работаете\n",
    "</div>\n",
    "\n",
    "***\n",
    "\n",
    "**Источники данных:**\n",
    "  - xlsx-файл с данными, передаваемый ДОМ-РФ (NOZA)\n",
    "  - xlsx-файл с данными, скачиваемый с платной базы данных SPARK\n",
    "  - http://cbr.ru/statistics/bank_sector/int_rat/ xlsx-файл с данными \"Сведения по кредитам в рублях, долларах США и евро нефинансовым организациям\", используется для моделирования показателя Z_A (Чистая кредиторская задолженность (по модулю), медиана по отрасли)\n",
    "  - xlsx-файл с данными, скаченными из https://www.kp.ru/guide/bankrotstvo-predprijatija.html (процесс скачивания довольно сложный), по фактическому банкротству компаний по датам. Из данного файла (лист `base_bnk`) брется столбец Y - (1 - банкротство, 0 - нет банкротстсва) для обучения основной модели.\n",
    "  \n",
    "<p>Данные поставляются в виде файлов, стандартно размещаются в папке ./DB/SRC (кроме файла с кредитной ставкой, он обрабатывается непосредствено с сайта ЦБР)</p>\n",
    "<div class=\"alert alert-block alert-warning\">\n",
    "<b>Блокнот настроен на определенный формат обоих файлов, при изменения формата необходима коррекция кода</b>\n",
    "</div>\n",
    "\n",
    "***\n",
    "\n",
    "#### Алгоритм работы\n",
    "\n",
    "  - считываем данные из Ексель-файлов\n",
    "  - выбираем нужные поля, чистим данные, переименовываем поля для удобного использования в коде\n",
    "  - трансформируем форму представления данных в удобный для Питона формат\n",
    "  - назначаем ключевые поля - для таблицы noza - поле **Идентификационный номер объекта**, для таблицы SPARK ключ будет составным из полей **ИНН** и **года**\n",
    "  - записываем все таблицы в базу данных (по умолчанию - <b>./DB/bankrp.sqlite3</b>). <b>В разные таблицы - noza, spark, loan (кредитная ставка), bankrp (фактические банкротства)</b> В дальнейшем модель работает именно с этим файлом и таблицами. Тип ключевых полей:\n",
    "    - ИД объекта (имя в базе **obj_id**) - **int**\n",
    "    - ИНН (имя в базе - **inn**) - **string**\n",
    "    - Год (имя в базе - **year**) - **int**\n",
    "  - **Готовим таблицу с данными для конечной модели банкротств.** Для этого моделируем поля ROA и Z_A для **каждой компании** в базе SPARK, продлевая их на прогнозный период. **Для этого выполняется промежуточное моделирование на основе данных из базы даных и xlsx-файла с данными долгосрочной модели. Моделирование выполняется в отдельном jupyter-блокноте**. Результат записывается в отдельную таблицу базы данных (исходные первичные данные - таблицы, скаченные из Сети или полученые из файлов Excel - остаются без изменений). В полученную таблицу добавляем данные о фактическом банкротстве. "
   ]
  },
  {
   "cell_type": "code",
   "execution_count": 1,
   "metadata": {},
   "outputs": [
    {
     "data": {
      "application/javascript": [
       "// В этой ячейке читаем параметры вызова данного блокнота - ожидается имя рабочей базы данных \n",
       "// (отличное от имени по умолчанию). Код этой ячейки - java-script\n",
       "\n",
       "IPython.notebook.kernel.execute(\"URL = '\" + window.location + \"'\");\n"
      ],
      "text/plain": [
       "<IPython.core.display.Javascript object>"
      ]
     },
     "metadata": {},
     "output_type": "display_data"
    }
   ],
   "source": [
    "%%javascript\n",
    "// В этой ячейке читаем параметры вызова данного блокнота - ожидается имя рабочей базы данных \n",
    "// (отличное от имени по умолчанию). Код этой ячейки - java-script\n",
    "\n",
    "IPython.notebook.kernel.execute(\"URL = '\" + window.location + \"'\");"
   ]
  },
  {
   "cell_type": "code",
   "execution_count": 25,
   "metadata": {},
   "outputs": [],
   "source": [
    "from os import path, remove\n",
    "import urllib.parse as urlparse\n",
    "from urllib.parse import parse_qs, urljoin\n",
    "import requests\n",
    "from bs4 import BeautifulSoup\n",
    "import datetime as dt\n",
    "import pandas as pd\n",
    "import numpy as np\n",
    "import re\n",
    "import sqlalchemy as sa\n",
    "import locale\n",
    "from cmasf import pandas_sql as pds\n",
    "from IPython.display import Markdown as md"
   ]
  },
  {
   "cell_type": "markdown",
   "metadata": {},
   "source": [
    "#### Устанавливаем значения общих переменных (далее константы)"
   ]
  },
  {
   "cell_type": "code",
   "execution_count": 26,
   "metadata": {},
   "outputs": [],
   "source": [
    "# пути к файлам\n",
    "strBasePath=path.join('..', 'DB', 'bankrp.sqlite3') # путь к рабочей базе данных SQLite - может быть изменено в вызывающем блокноте\n",
    "strNOZA_XLSX=path.join('..', 'DB', 'SRC', 'noza2020.xlsx') # пусть к файлу с исходными даными для BD (NOZA)\n",
    "strNOZA_sheet='Строящиеся дома'\n",
    "strSPARK_XLSX=path.join('..', 'DB', 'SRC', 'SPARK.xlsx') # пусть к файлу с исходными даными для BD (SPARK)\n",
    "strNOZA_inn=path.join('..', 'DB', 'Temp', 'inn_{date}.csv') # пусть к файлу с уникальными ИНН из BD NOZA для запроса BD SPARK\n",
    "strBNKRP_path=path.join('..', 'DB', 'SRC', 'Bnk_graphics.xlsx') # пусть к файлу с фактическими банкротствами компаний\n",
    "# ------------\n",
    "\n",
    "# константы базы данных SQLite3\n",
    "strNOZA_table='noza' # название таблицы NOZA в базе данных SQLite\n",
    "strNOZA_data_pass='noza_columns' # таблица с названиями колонок для таблицы noza\n",
    "strSPARK_table='spark' # название таблицы SPARK в базе данных SQLite\n",
    "strSPARK_data_pass='spark_columns' # таблица с названиями колонок для таблицы SPARK\n",
    "strInfoTable='update_info' # таблица с информацией об обновлении базы даных\n",
    "strLOAN_table='loan' # название таблицы LOAN в базе данных SQLite\n",
    "strLOAN_data_pass='loan_columns' # таблица с названиями колонок для таблицы loan\n",
    "strRNKRP_table='bankrp' # таблица с фактическими банкротствами компаний\n",
    "strLendTable='lending'\n",
    "strLendPRC='lending_persc'\n",
    "strLendReserv='lending_reserv'\n",
    "# ------------\n",
    "\n",
    "#  DB/SRC/Bnk_graphics.xlsx, лист `base_bnk` данные получены из  возможна перестройка на внутреннюю базу данных заказчика)\n",
    "\n",
    "# константы для NOZA\n",
    "\n",
    "# поля базы данных NOZA, используемые для хранения и расчетов (остальные поля импортироваться в базу не будут)\n",
    "iNOZAFileType=2\n",
    "\n",
    "if iNOZAFileType==1:\n",
    "    lstNOZA_use_cols=['ИНН застройщика',\n",
    "     'Идентификационный номер объекта', # ключевое поле, уникальное\n",
    "     'Наименование застройщика',\n",
    "     'Организационно-правовая форма',\n",
    "     'Размер уставного капитала',\n",
    "     'Субъект Российской Федерации (регион)',\n",
    "     'Проектная площадь жилых помещений',\n",
    "     'Минимальная цена 1 кв м всех квартир без учета скидок',\n",
    "     'Минимальная цена проектной площади жилых помещений, руб.',\n",
    "     'Запланированный срок ввода в эксплуатацию (текущий)',\n",
    "     'Планируемая стоимость строительства',\n",
    "     'Новая планируемая стоимость строительства']\n",
    "\n",
    "    # список новых имен для используемых полей базы NOZA (порядок соотв. предыдущему списку)\n",
    "    lst_NOZA_names=['inn', 'obj_id', 'Name', 'OPF', 'Capital', 'REGION', 'Sq_living_proj', 'Min_proce_1sqm', \n",
    "               'Min_price_living_r', 'Input_date', 'Bld_price_proj', 'Bld_price_proj_new']\n",
    "    strNOZAKey='obj_id'\n",
    "else:\n",
    "    \n",
    "    lstNOZA_use_cols= ['Отчетная дата',\n",
    "     'Идентификатор дома',\n",
    "     'ИНН юрлица',\n",
    "     'Наименование юрлица',\n",
    "     'Регион',\n",
    "     'Метод обеспечения ответственности',\n",
    "     'Стоимость строительства,\\nруб.',\n",
    "     'Жилая площадь,\\nкв. м',\n",
    "     'Планируемая дата ввода']\n",
    "    lst_NOZA_names=['pub_date', 'obj_id', 'inn', 'Name', 'REGION', 'Resp', 'bld_price', 'sq_living', 'Input_date']\n",
    "    strNOZAKey=['pub_date', 'obj_id']\n",
    "\n",
    "\n",
    "\n",
    "#константы для SPARK\n",
    "# поля базы данных SPARK, используемые для хранения и расчетов \n",
    "# (кроме этих полей выбираются так же все поля, имеющие 4 цифры года в заголовке)\n",
    "lstSPARK_use_cols=['Наименование',\n",
    " 'Дата ликвидации',\n",
    " 'Код налогоплательщика',\n",
    " 'Регион регистрации']\n",
    "\n",
    "# список новых имен для используемых полей базы SPARK (порядок соотв. предыдущему списку)\n",
    "lst_SPARK_names=['Name', 'Cancel_date', 'inn', 'REGION']\n",
    "\n",
    "# словарь переименования полей базы данных SPARK, содержащих год в заголовке (цифры года уйдут в новое поле индекса)\n",
    "dctDFS={'receivables':'Дебиторская задолженность, RUB', 'actives':'Активы  всего, RUB', \n",
    "            'capital':'Уставный капитал , RUB', 'acc_pay':'Кредиторская задолженность, RUB', \n",
    "            'profit':r'Чистая прибыль \\(убыток\\), RUB', 'roa':r'Рентабельность активов \\(ROA\\), %'}\n",
    "\n",
    "lstSPARKIndexFields=['year', 'inn'] # список ключевых полей для SPARK\n",
    "#---------------"
   ]
  },
  {
   "cell_type": "code",
   "execution_count": 27,
   "metadata": {},
   "outputs": [
    {
     "data": {
      "text/markdown": [
       "<hr><div class=\"alert alert-block alert-info\">\n",
       "<b>Рабочая база данных - ../DB/bankrp.sqlite3</b></div>  <hr>  "
      ],
      "text/plain": [
       "<IPython.core.display.Markdown object>"
      ]
     },
     "execution_count": 27,
     "metadata": {},
     "output_type": "execute_result"
    }
   ],
   "source": [
    "# блок для парсинга параметров вызова данного блокнота \n",
    "# изменяет рабочую базу данных по умолчанию на указанную в параметрах вызова\n",
    "parsed = urlparse.urlparse(URL)\n",
    "try:\n",
    "    strBasePath=parse_qs(parsed.query)['DATABASE'][0] \n",
    "except KeyError:\n",
    "    pass\n",
    "\n",
    "strMess='''<hr><div class=\"alert alert-block alert-info\">\n",
    "<b>Рабочая база данных - {file_name}</b></div>  <hr>  '''.format(file_name=strBasePath)\n",
    "\n",
    "conWork = sa.create_engine('sqlite+pysqlite:///{db_name}'.format(db_name=strBasePath)) # connection к рабочей базе данных\n",
    "md(strMess)"
   ]
  },
  {
   "cell_type": "markdown",
   "metadata": {},
   "source": [
    "создание (если не существует) дополнительной таблицы с информацией об обновлении базы данных"
   ]
  },
  {
   "cell_type": "code",
   "execution_count": 28,
   "metadata": {},
   "outputs": [
    {
     "name": "stdout",
     "output_type": "stream",
     "text": [
      "таблица создана\n"
     ]
    }
   ],
   "source": [
    "strCreateQ='''\n",
    "CREATE TABLE IF NOT EXISTS {tab_name} (\"utable\" TEXT, \"udate\" TEXT NOT NULL, PRIMARY KEY(\"utable\"))\n",
    "'''\n",
    "\n",
    "conWork.execute(strCreateQ.format(tab_name=strInfoTable))\n",
    "print('таблица создана')"
   ]
  },
  {
   "cell_type": "markdown",
   "metadata": {},
   "source": [
    "### Обработка базы данных NOZA\n",
    "\n",
    "<p>Алгоритм обработки:</p>\n",
    "\n",
    "  - читаем таблицу из файла Ексель (`strNOZA_XLSX`, преполагается, что там один лист с нужной таблицей - первый)\n",
    "  - выбираем нужные поля, переименовываем их в удобный формат\n",
    "  - из поля `Запланированный срок ввода в эксплуатацию (текущий)` (`Input_date`) выбираем год (`year`) (предварительно поле преобразуется в тип `datetime`), создаем новое поле `year` типа `int`\n",
    "  - поле `ИНН застройщика` (`inn`) преобразуется в тип `string`)\n",
    "  - поле `Идентификационный номер объекта` (`obj_id`) преобразуется в тип `int`)\n",
    "  - поля `'Размер уставного капитала', 'Проектная площадь жилых помещений', 'Минимальная цена 1 кв м всех квартир без учета скидок', 'Минимальная цена проектной площади жилых помещений, руб.', 'Планируемая стоимость строительства', 'Новая планируемая стоимость строительства'`(`'Capital', 'Sq_living_proj', 'Min_proce_1sqm', Min_price_living_r', 'Bld_price_proj', 'Bld_price_proj_new'`)  преобразуется в тип `float`)\n",
    "  - удаляются записи с пустыми полями `ИНН застройщика` (`inn`) и `Запланированный срок ввода в эксплуатацию (текущий)` (`Input_date`)\n",
    "  - в качестве индексов устанавливается поле `obj_id` и `year`.\n",
    "  - полученный `DataFrame` записываем в таблицу `strNOZA_table` базы данных `strBasePath`\n",
    "  \n",
    " <p>Дополнительно в ту же базу записываем словарь переименования полей из исходных в используемые в дальнейшем</p>"
   ]
  },
  {
   "cell_type": "code",
   "execution_count": 29,
   "metadata": {},
   "outputs": [
    {
     "name": "stdout",
     "output_type": "stream",
     "text": [
      "Прочитано из файла Excel -  (111706, 9)\n",
      "После очистки -  (9614, 8)\n",
      "==================================================\n",
      "                          inn                             Name  \\\n",
      "pub_date   obj_id                                                \n",
      "2020-03-26 2230    5321078745                      ПРОЕКТСТРОЙ   \n",
      "           2569    4632005459  МКП УКС АДМИНИСТРАЦИИ Г. КУРСКА   \n",
      "           4796    2311231205                 НЕМЕЦКАЯ ДЕРЕВНЯ   \n",
      "           4892    2311231205                 НЕМЕЦКАЯ ДЕРЕВНЯ   \n",
      "           29059   7448046410                      СЗ 10-Й ДОМ   \n",
      "\n",
      "                                 REGION  \\\n",
      "pub_date   obj_id                         \n",
      "2020-03-26 2230    Новгородская область   \n",
      "           2569         Курская область   \n",
      "           4796      Краснодарский край   \n",
      "           4892      Краснодарский край   \n",
      "           29059    Челябинская область   \n",
      "\n",
      "                                                                Resp  \\\n",
      "pub_date   obj_id                                                      \n",
      "2020-03-26 2230    Соответствуют критериям ПП РФ №480 (продажи бе...   \n",
      "           2569    Соответствуют критериям ПП РФ №480 (продажи бе...   \n",
      "           4796     Осуществляют строительство без средств дольщиков   \n",
      "           4892     Осуществляют строительство без средств дольщиков   \n",
      "           29059           Предусмотрено использование счетов эскроу   \n",
      "\n",
      "                   bld_price  sq_living Input_date  completion_year  \n",
      "pub_date   obj_id                                                    \n",
      "2020-03-26 2230    286936000    7857.22 2020-09-30             2020  \n",
      "           2569    198773600    7162.27 2020-06-30             2020  \n",
      "           4796     27934336     795.80 2022-06-30             2022  \n",
      "           4892     22588200     677.85 2020-12-31             2020  \n",
      "           29059   699660224   16016.04 2020-09-30             2020  \n"
     ]
    }
   ],
   "source": [
    "def NOZA_transform(pdf, file_type=iNOZAFileType):\n",
    "    \"\"\"функция очистки и преобразования таблицы XLS с данными NOZA в Dataframe\"\"\"\n",
    "\n",
    "    pdfN=pdf.rename(columns=dict(zip(lstNOZA_use_cols, lst_NOZA_names))) # переименование колонок\n",
    "    \n",
    "    pdfN=pdfN[pdfN['inn'].notnull() & pdfN['Input_date'].notnull()] # убираем пустые ИНН и даты\n",
    "    pdfN['completion_year']=pdfN['Input_date'].dt.year # выделяем из даты год запланированного ввода в эксплуатацию\n",
    "    pdfN['completion_year']=pdfN['completion_year'].astype(int) \n",
    "    pdfN[strNOZAKey]=pdfN[strNOZAKey].astype(int) \n",
    "     \n",
    "    if file_type==1:\n",
    "        pdfN[['Capital', 'Sq_living_proj', 'Min_proce_1sqm', \n",
    "               'Min_price_living_r', 'Bld_price_proj', 'Bld_price_proj_new']]=pdfN[['Capital', 'Sq_living_proj', 'Min_proce_1sqm', \n",
    "               'Min_price_living_r', 'Bld_price_proj', 'Bld_price_proj_new']].apply(pd.to_numeric)\n",
    "    else:\n",
    "        pdfN[['bld_price', 'sq_living']]=pdfN[['bld_price', 'sq_living']].apply(pd.to_numeric)\n",
    "        pdfN['pub_date']=pd.to_datetime(pdfN['pub_date'], format='%Y-%m-%d')\n",
    "        pdfN=pdfN.loc[pdfN['pub_date']==pdfN.sort_values(by='pub_date', ascending=False)['pub_date'].iloc[0], :] # выбираем данные по последней отчетной дате\n",
    "#         pdfN['pub_date']=pd.to_datetime(pdfN['pub_date'], format='%Y-%m-%d') \n",
    "    return pdfN.set_index(strNOZAKey)\n",
    "\n",
    "\n",
    "# тип ИНН - string устанавливаем именно здесь, чтобы не возиться с лидирующими нулями\n",
    "if iNOZAFileType==1:\n",
    "    pdfNOZA=pd.read_excel(strNOZA_XLSX, header=3, usecols=lstNOZA_use_cols,  dtype={'ИНН застройщика':str}) # читаем данные из Excel\n",
    "else:\n",
    "    pdfNOZA=pd.read_excel(strNOZA_XLSX, sheet_name=strNOZA_sheet, usecols=lstNOZA_use_cols,  dtype={'ИНН юрлица':str}) # читаем данные из Excel\n",
    "    \n",
    "print('Прочитано из файла Excel - ', pdfNOZA.shape)\n",
    "# print(pdfNOZA)\n",
    "pdfNOZA=NOZA_transform(pdfNOZA)\n",
    "print('После очистки - ', pdfNOZA.shape)\n",
    "print('='*50)\n",
    "print(pdfNOZA.head())"
   ]
  },
  {
   "cell_type": "markdown",
   "metadata": {},
   "source": [
    "<div style=\"background-color:#F5DEB3\">\n",
    "    \n",
    "#### Запись подготовленного фрейма в рабочую базу\n",
    "*Используется доработанный класс `DataFrame` - `DataFrameDATA` для возможности полноценного использования `UPSERT` - добавления отсутсвующих записей и обновления существующих* \n",
    "</div>"
   ]
  },
  {
   "cell_type": "code",
   "execution_count": 8,
   "metadata": {},
   "outputs": [
    {
     "name": "stdout",
     "output_type": "stream",
     "text": [
      "Done writing to SQLite3 ../DB/bankrp.sqlite3 to table noza (9614, 8)\n",
      "Done writing NOZA columns names to SQLite3 ../DB/bankrp.sqlite3 to table noza_columns\n"
     ]
    }
   ],
   "source": [
    "_pdf=pds.DataFrameDATA(pdfNOZA)\n",
    "\n",
    "_pdf.to_sql(strNOZA_table, con=conWork, if_exists='upsert', chunksize=int(1e4))\n",
    "\n",
    "print('Done writing to SQLite3 {} to table {}'.format(strBasePath, strNOZA_table), _pdf.shape)\n",
    "_ser=pd.Series(dict(zip(lst_NOZA_names, lstNOZA_use_cols)), name='col_name')\n",
    "_ser.at['completion_year']= 'Год планируемого ввода'\n",
    "_ser.to_sql(strNOZA_data_pass, con=conWork, if_exists='replace')\n",
    "\n",
    "print('Done writing NOZA columns names to SQLite3 {} to table {}'.format(strBasePath, strNOZA_data_pass))\n",
    "\n",
    "_=conWork.execute('''INSERT OR REPLACE INTO {tab_info}(utable, udate) VALUES\n",
    "('{table_name}', '{update_date}') '''.format(tab_info=strInfoTable, \n",
    "                                          update_date=dt.datetime.now().strftime('%Y-%m-%d'), table_name=strNOZA_table))"
   ]
  },
  {
   "cell_type": "markdown",
   "metadata": {},
   "source": [
    "#### Подготовка запросов для таблицы NOZA\n",
    "Так как имеется два формата данных NOZA (а, возможно, будет и больше) для каждого формата создается отдельный агрегирующий запрос.  \n",
    "Запрос, построенных для другого типа исходного формата данных, в базе работать не будет"
   ]
  },
  {
   "cell_type": "code",
   "execution_count": 9,
   "metadata": {},
   "outputs": [
    {
     "name": "stdout",
     "output_type": "stream",
     "text": [
      "done create\n"
     ]
    }
   ],
   "source": [
    "if iNOZAFileType==1:\n",
    "    pass # пока не реализовано, основной формат = 2\n",
    "elif iNOZAFileType==2:\n",
    "    strNOZA_CreateAGGview='''\n",
    "create view if not exists noza_ag as\n",
    "select {noza_table}.pub_date, {noza_table}.inn, {noza_table}.completion_year, \n",
    "sum({noza_table}.bld_price) as price, sum({noza_table}.sq_living) as square\n",
    "from {noza_table}\n",
    "group by {noza_table}.pub_date, {noza_table}.inn, {noza_table}.completion_year;\n",
    "    '''.format(noza_table=strNOZA_table)\n",
    "else:\n",
    "    pass\n",
    "conWork.execute(strNOZA_CreateAGGview)\n",
    "\n",
    "print('done create')"
   ]
  },
  {
   "cell_type": "markdown",
   "metadata": {},
   "source": [
    "#### Подготовка данных для запроса в базу данных SPARK\n",
    "\n",
    "Из базы данных SPARK запрашиваем данные только для тех компаний, которые имеются в базе данных NOZA. Для запроса используем список ИНН компаний из NOZA (только уникальные).\n",
    "\n",
    "Список сохраняем в csv (txt) файле, этот файл передаем на вход сервиса SPARK"
   ]
  },
  {
   "cell_type": "code",
   "execution_count": 30,
   "metadata": {},
   "outputs": [
    {
     "name": "stdout",
     "output_type": "stream",
     "text": [
      "3339 ИНН записано в файл ../DB/Temp/inn_2020_09_23.csv\n"
     ]
    }
   ],
   "source": [
    "strFileINN=strNOZA_inn.format(date=dt.datetime.now().strftime('%Y_%m_%d'))\n",
    "# pdfNOZA.inn.unique().to_csv(strFileINN, sep=';', encoding='cp1251')\n",
    "with open(strFileINN, 'w') as inn_file:\n",
    "    for i in pdfNOZA.inn.unique():\n",
    "        inn_file.write(i + '\\n')\n",
    "\n",
    "print('{cnt} ИНН записано в файл {name}'.format(cnt=len(pdfNOZA.inn.unique()), name= strFileINN))"
   ]
  },
  {
   "cell_type": "markdown",
   "metadata": {},
   "source": [
    "***\n",
    "***"
   ]
  },
  {
   "cell_type": "markdown",
   "metadata": {},
   "source": [
    "### Обработка базы данных SPARK\n",
    "\n",
    "<p>База SPARK представляет собой файл MS Excel, сформированный программой выдачи интернет-ресурса</p>\n",
    "<p>Особенность формата: годовые данные выводятся в колонках, при этом имя колонки содержит номер года и название поля, то есть : </p>\n",
    "\n",
    "| 2015, Активы  всего, RUB | 2016, Активы  всего, RUB |\t2017, Активы  всего, RUB | ... |  \n",
    "|--------------------------|--------------------------|--------------------------|-----|\n",
    "| 13 222 000 | 103 491 000 |\t126 160 000 | ... |\n",
    "\n",
    "<p>Необходимо разделить названия и года, преобразовать из широкого представления данных в длинный, то есть к виду: <p>\n",
    "\n",
    "| year | Активы  всего, RUB | ... |  \n",
    "|------|----------------|-----|\n",
    "| 2015 | 13 222 000     | ... |\n",
    "|------|----------------|-----|\n",
    "| 2016 | 103 491 000    | ... |\n",
    "|------|----------------|-----|\n",
    "| 2017 | 126 160 000    | ... |\n",
    "    \n",
    "<p>Таких полей 6: <i>'Дебиторская задолженность, RUB', 'Активы  всего, RUB', 'Уставный капитал , RUB', 'Кредиторская задолженность, RUB', 'Чистая прибыль (убыток), RUB', 'Рентабельность активов (ROA), %'</i></p>\n",
    "\n",
    "   - После преобразования получившиеся колонки переименовываются в удобные для работы названия\n",
    "   - Корректируются типы колонок (эти 6 полей должны иметь тип `float`), поле `ИНН` (`inn`) - `string`, поле `year` - `int`\n",
    "   - Удяляются записи с пустыми значениями в полях `inn` и `year`\n",
    "   - Для получившегося `DataFrame` устанавливаются в качестве индексов комбинация полей `inn` и `year`\n",
    "   - Получившийся `DataFrame` записываем в таблицу `strSPARK_table` базы данных `strBasePath`"
   ]
  },
  {
   "cell_type": "code",
   "execution_count": 31,
   "metadata": {},
   "outputs": [
    {
     "name": "stdout",
     "output_type": "stream",
     "text": [
      "Прочитано из файла Excel -  (8674, 39)\n",
      "(8674, 39)\n",
      "После очистки -  (43440, 9)\n",
      "==================================================\n",
      "                 receivables      actives    capital      acc_pay     profit  \\\n",
      "year inn                                                                       \n",
      "2015 3906245291          NaN          NaN        NaN          NaN        NaN   \n",
      "     3801132195    3414000.0   13222000.0        NaN    1656000.0   516000.0   \n",
      "     5050102110  139989000.0  973110000.0    10000.0  512847000.0  1556000.0   \n",
      "     7448046410          NaN      10000.0        NaN          NaN        NaN   \n",
      "     1840032987   17597000.0   62803000.0  5050000.0   46430000.0    34000.0   \n",
      "\n",
      "                    roa                                            Name  \\\n",
      "year inn                                                                  \n",
      "2015 3906245291     NaN                     1 СТРОИТЕЛЬНЫЙ ХОЛДИНГ, ООО   \n",
      "     3801132195  0.0781        1-ДСК, ООО СПЕЦИАЛИЗИРОВАННЫЙ ЗАСТРОЙЩИК   \n",
      "     5050102110  0.0020                                 10 КВАРТАЛ, ООО   \n",
      "     7448046410     NaN     10-Й ДОМ, ООО СПЕЦИАЛИЗИРОВАННЫЙ ЗАСТРОЙЩИК   \n",
      "     1840032987  0.0009  1000 ЭТАЖЕЙ, ООО СПЕЦИАЛИЗИРОВАННЫЙ ЗАСТРОЙЩИК   \n",
      "\n",
      "                Cancel_date                   REGION  \n",
      "year inn                                              \n",
      "2015 3906245291         NaT  Калининградская область  \n",
      "     3801132195         NaT        Иркутская область  \n",
      "     5050102110         NaT       Московская область  \n",
      "     7448046410         NaT      Челябинская область  \n",
      "     1840032987         NaT    Удмуртская Республика  \n"
     ]
    }
   ],
   "source": [
    "def SPARK_transform(pdf):\n",
    "    \"\"\" подготовка базы данных СПАРК для использования в обучающей последовательности \"\"\"\n",
    "    \n",
    "    dctRes=dict()\n",
    "    \n",
    "    # p_name=pdfSPARK[['INN', 'Name', 'REGION']].drop_duplicates().set_index('INN')\n",
    "\n",
    "    _use_cols1=lstSPARK_use_cols+[c for c in pdf.columns if re.match(r'\\d{4}', c)] # список: заданные колонки и колонки, начинающиеся с года\n",
    "    pdfSrc=pdf[_use_cols1].rename(columns=dict(zip(lstSPARK_use_cols, lst_SPARK_names))) # переименовываем в новые названия для базы \n",
    "\n",
    "    for k, v in dctDFS.items():\n",
    "        _use_cols=['inn',]+[c for c in pdf.columns if re.search(v, c)] # список: ИНН и колонки, начинающиеся с года\n",
    "        _pdf=pdfSrc[pdfSrc['inn'].notnull()] # новый ДатаФрейм, очищенный от пропусков ИНН\n",
    "        _pdf=_pdf[_use_cols].set_index('inn') # ДатаФрейм с ИНН и одним показателем по нескольким годам\n",
    "        _pdf.columns=_pdf.columns.str[:4].astype(int)\n",
    "        _pdf=_pdf.unstack()\n",
    "        _pdf.index.levels[0].astype(int)\n",
    "        _pdf.name=k\n",
    "        dctRes.setdefault(k, _pdf)\n",
    "        \n",
    "    pdfRes=pd.DataFrame(dctRes).join(pdfSrc[lst_SPARK_names].set_index('inn'), on='inn')\n",
    "    pdfRes.index.names=lstSPARKIndexFields\n",
    "    return pdfRes\n",
    "\n",
    "# для заполнения СПАРК ист-данными - раскомментировать следующее\n",
    "# strSPARK_hist1='СПАРК_Выборка_компаний_20200723_1612.xlsx'\n",
    "# strSPARK_hist2='СПАРК_Выборка_компаний_20200723_1609.xlsx'\n",
    "# strSPARK_hist3='СПАРК_Выборка_компаний_20200723_1614.xlsx' # !!! глючит!! дупликаты в базе !!!\n",
    "\n",
    "# strSP_path=path.join('DB', 'SRC', strSPARK_hist2) # для заполнения базы СПАРК данными предшествующих годов (база позволяет выкачивать по 5 лет за один раз)\n",
    "# pdfSPARK=pd.read_excel(strSP_path, header=3, dtype={'Код налогоплательщика':str})\n",
    "#----------------------------------------\n",
    "\n",
    "# для заполнения последней точки - раскомментировать следующее\n",
    "pdfSPARK=pd.read_excel(strSPARK_XLSX, header=3, dtype={'Код налогоплательщика':str})\n",
    "#---------------------------------------\n",
    "\n",
    "print('Прочитано из файла Excel - ', pdfSPARK.shape)\n",
    "print(pdfSPARK.shape)\n",
    "# pdfSPARK[pdfSPARK['Код налогоплательщика'].duplicated(keep=False)].to_csv('dupls.csv', sep=';')\n",
    "pdfSPARK=SPARK_transform(pdfSPARK)\n",
    "print('После очистки - ', pdfSPARK.shape)\n",
    "print('='*50)\n",
    "print(pdfSPARK.head())"
   ]
  },
  {
   "cell_type": "markdown",
   "metadata": {},
   "source": [
    "<div style=\"background-color:#F5DEB3\">\n",
    "\n",
    "#### Запись подготовленного фрейма в рабочую базу\n",
    "\n",
    "*Используется доработанный класс `DataFrame` - `DataFrameDATA` для возможности полноценного использования `UPSERT` - добавления отсутсвующих записей и обновления существующих* \n",
    "</div>"
   ]
  },
  {
   "cell_type": "code",
   "execution_count": 12,
   "metadata": {},
   "outputs": [
    {
     "name": "stdout",
     "output_type": "stream",
     "text": [
      "Done writing to SQLite3 ../DB/bankrp.sqlite3 to table spark (43440, 9)\n",
      "Done writing SPARK columns names to SQLite3 ../DB/bankrp.sqlite3 to table spark_columns\n"
     ]
    }
   ],
   "source": [
    "_pdf=pds.DataFrameDATA(pdfSPARK.copy())\n",
    "try:\n",
    "    _pdf['Cancel_date']=_pdf['Cancel_date'].dt.strftime('%Y-%m-%d') # преобразование в строку чтобы убрать NaT (в SQLite все равно в строке лежит)\n",
    "except AttributeError: # уже в строке\n",
    "    pass\n",
    "    \n",
    "_pdf.to_sql(strSPARK_table, con=conWork, if_exists='upsert', chunksize=int(1e4))\n",
    "\n",
    "print('Done writing to SQLite3 {} to table {}'.format(strBasePath, strSPARK_table), _pdf.shape)\n",
    "\n",
    "dctSPARK_pass=dict(zip(lst_SPARK_names, lstSPARK_use_cols))\n",
    "dctSPARK_pass.update({k:v.replace('\\\\', '') for k, v in dctDFS.items()})\n",
    "pd.Series(dctSPARK_pass, name='col_name').to_sql(strSPARK_data_pass, con=conWork, if_exists='replace')\n",
    "\n",
    "print('Done writing SPARK columns names to SQLite3 {} to table {}'.format(strBasePath, strSPARK_data_pass))\n",
    "\n",
    "_=conWork.execute('''INSERT OR REPLACE INTO {tab_info}(utable, udate) VALUES\n",
    "('{table_name}', '{update_date}') '''.format(tab_info=strInfoTable, \n",
    "                                          update_date=dt.datetime.now().strftime('%Y-%m-%d'), table_name=strSPARK_table))"
   ]
  },
  {
   "cell_type": "markdown",
   "metadata": {},
   "source": [
    "#### Подготовка запросов для таблицы SPARK\n",
    "Данные модель будет получать посредством этого запроса\n",
    "\n",
    "Готовим два варианта запроса:\n",
    "  1. ROA компании используется из базы данных, не расчитывается; Z_A компании считается по формуле:\n",
    "  \n",
    "$Z\\_A = |\\frac{(КРЕДИТОРСКАЯ\\_ЗАДОЛЖЕННОСТЬ - ДЕБИТОРСКАЯ\\_ЗАДОЛЖЕННОСТЬ)}{АКТИВЫ\\_ВСЕГО}|$\n",
    "      \n",
    "      \n",
    "      \n",
    "  2. ROA компании расчитывается по формуле: \n",
    "  \n",
    "$ROA = ЧИСТАЯ\\_ПРИБЫЛЬ - АКТИВЫ\\_ВСЕГО$\n",
    "      \n",
    "      Z_A компании считается по формуле:\n",
    "      \n",
    "$Z\\_A=|\\dfrac{(КРЕДИТОРСКАЯ\\_ЗАДОЛЖЕННОСТЬ - ДЕБИТОРСКАЯ\\_ЗАДОЛЖЕННОСТЬ)}{АКТИВЫ\\_ВСЕГО}|$"
   ]
  },
  {
   "cell_type": "code",
   "execution_count": 13,
   "metadata": {},
   "outputs": [
    {
     "name": "stdout",
     "output_type": "stream",
     "text": [
      "done create\n"
     ]
    }
   ],
   "source": [
    "strSPARK_CreateAGGview='''\n",
    "create view if not exists spark_ag as\n",
    "select {spark_table}.inn, {spark_table}.year, {spark_table}.capital, {spark_table}.Cancel_date, \n",
    "{spark_table}.roa as ROA, \n",
    "abs( ({spark_table}.acc_pay-{spark_table}.receivables )/{spark_table}.actives) as Z_A\n",
    "from {spark_table};\n",
    "    '''.format(spark_table=strSPARK_table)\n",
    "\n",
    "strSPARK_CreateAGGview_ROA_CALC='''\n",
    "create view if not exists spark_ag_roa_calc as\n",
    "select {spark_table}.inn, {spark_table}.year, {spark_table}.capital, {spark_table}.Cancel_date, \n",
    "({spark_table}.profit - {spark_table}.actives) as ROA, \n",
    "abs( ({spark_table}.acc_pay-{spark_table}.receivables )/{spark_table}.actives) as Z_A\n",
    "from {spark_table};\n",
    "    '''.format(spark_table=strSPARK_table)\n",
    "\n",
    "conWork.execute(strSPARK_CreateAGGview)\n",
    "conWork.execute(strSPARK_CreateAGGview_ROA_CALC)\n",
    "\n",
    "print('done create')"
   ]
  },
  {
   "cell_type": "markdown",
   "metadata": {},
   "source": [
    "## Обработка базы данных кредитной ставки с сайта ЦБР\n",
    "\n",
    "**Источник - http://cbr.ru/statistics/bank_sector/int_rat/**  \n",
    "На странице источника ищем ссылки с ключевым текстом \"Сведения по кредитам в рублях, долларах США и евро нефинансовым организациям\"  "
   ]
  },
  {
   "cell_type": "code",
   "execution_count": 32,
   "metadata": {},
   "outputs": [
    {
     "name": "stdout",
     "output_type": "stream",
     "text": [
      "Найдено инфо-тегов 29\n"
     ]
    }
   ],
   "source": [
    "strCBR_LOAN_SRC=r'http://cbr.ru/statistics/bank_sector/int_rat/'\n",
    "\n",
    "strKeyText='Сведения по кредитам в рублях, долларах США и евро нефинансовым организациям'.replace(' ', '\\s+')\n",
    "\n",
    "re_t=re.compile(strKeyText)\n",
    "\n",
    "resp=requests.get(strCBR_LOAN_SRC)\n",
    "\n",
    "loan_soup=BeautifulSoup(resp.text)\n",
    "\n",
    "div_docs=loan_soup.findAll('div', class_='document-regular')\n",
    "\n",
    "print('Найдено инфо-тегов', len(div_docs))"
   ]
  },
  {
   "cell_type": "markdown",
   "metadata": {},
   "source": [
    "Читаем файл по сылке, искомая ставка в столбце `F` листа `ставки_руб`.  \n",
    "Преобразуем даты в формат datetime"
   ]
  },
  {
   "cell_type": "code",
   "execution_count": 33,
   "metadata": {},
   "outputs": [
    {
     "name": "stdout",
     "output_type": "stream",
     "text": [
      "Найден файл с нужными данныи, дата публикации 2020-09-11, ссылка - /vfs/statistics/pdko/int_rat/loans_nonfin.xlsx\n"
     ]
    }
   ],
   "source": [
    "def find_link(div_tags):\n",
    "    for d in div_tags:\n",
    "        if d.find('span', class_='document-regular_name_visible', text=re_t) and d.find('div', class_='document-regular_comment', text=re.compile('в целом по Российской Федерации'.replace(' ', '\\s'))):\n",
    "            pub_date=dt.datetime.strptime(d.find('div', class_='document-regular_date').text.strip(), '%d.%m.%Y')\n",
    "            a=d.find('a')\n",
    "            \n",
    "            print('Найден файл с нужными данныи, дата публикации {date}, ссылка - {link}'.format(date=pub_date.date(), link=a['href']))\n",
    "            return pub_date, a['href']\n",
    "\n",
    "loan_pub_date, loan_href=find_link(div_docs)"
   ]
  },
  {
   "cell_type": "code",
   "execution_count": 34,
   "metadata": {},
   "outputs": [
    {
     "data": {
      "text/html": [
       "<div>\n",
       "<style scoped>\n",
       "    .dataframe tbody tr th:only-of-type {\n",
       "        vertical-align: middle;\n",
       "    }\n",
       "\n",
       "    .dataframe tbody tr th {\n",
       "        vertical-align: top;\n",
       "    }\n",
       "\n",
       "    .dataframe thead th {\n",
       "        text-align: right;\n",
       "    }\n",
       "</style>\n",
       "<table border=\"1\" class=\"dataframe\">\n",
       "  <thead>\n",
       "    <tr style=\"text-align: right;\">\n",
       "      <th></th>\n",
       "      <th>loan_nonfin</th>\n",
       "    </tr>\n",
       "    <tr>\n",
       "      <th>date</th>\n",
       "      <th></th>\n",
       "    </tr>\n",
       "  </thead>\n",
       "  <tbody>\n",
       "    <tr>\n",
       "      <th>2014-01-01</th>\n",
       "      <td>10.62</td>\n",
       "    </tr>\n",
       "    <tr>\n",
       "      <th>2014-02-01</th>\n",
       "      <td>10.98</td>\n",
       "    </tr>\n",
       "    <tr>\n",
       "      <th>2014-03-01</th>\n",
       "      <td>10.92</td>\n",
       "    </tr>\n",
       "    <tr>\n",
       "      <th>2014-04-01</th>\n",
       "      <td>11.57</td>\n",
       "    </tr>\n",
       "    <tr>\n",
       "      <th>2014-05-01</th>\n",
       "      <td>11.86</td>\n",
       "    </tr>\n",
       "    <tr>\n",
       "      <th>...</th>\n",
       "      <td>...</td>\n",
       "    </tr>\n",
       "    <tr>\n",
       "      <th>2020-03-01</th>\n",
       "      <td>8.88</td>\n",
       "    </tr>\n",
       "    <tr>\n",
       "      <th>2020-04-01</th>\n",
       "      <td>9.00</td>\n",
       "    </tr>\n",
       "    <tr>\n",
       "      <th>2020-05-01</th>\n",
       "      <td>8.57</td>\n",
       "    </tr>\n",
       "    <tr>\n",
       "      <th>2020-06-01</th>\n",
       "      <td>8.95</td>\n",
       "    </tr>\n",
       "    <tr>\n",
       "      <th>2020-07-01</th>\n",
       "      <td>7.91</td>\n",
       "    </tr>\n",
       "  </tbody>\n",
       "</table>\n",
       "<p>79 rows × 1 columns</p>\n",
       "</div>"
      ],
      "text/plain": [
       "            loan_nonfin\n",
       "date                   \n",
       "2014-01-01        10.62\n",
       "2014-02-01        10.98\n",
       "2014-03-01        10.92\n",
       "2014-04-01        11.57\n",
       "2014-05-01        11.86\n",
       "...                 ...\n",
       "2020-03-01         8.88\n",
       "2020-04-01         9.00\n",
       "2020-05-01         8.57\n",
       "2020-06-01         8.95\n",
       "2020-07-01         7.91\n",
       "\n",
       "[79 rows x 1 columns]"
      ]
     },
     "execution_count": 34,
     "metadata": {},
     "output_type": "execute_result"
    }
   ],
   "source": [
    "def convert_date(x):\n",
    "    dct_month_transl={'Январь':1, 'Февраль':2, 'Март':3, 'Апрель':4, 'Май':5, 'Июнь':6, \n",
    "                  'Июль':7, 'Август':8, 'Сентябрь':9, 'Октябрь':10, 'Ноябрь':11, 'Декабрь':12}\n",
    "    dtp=x.split(' ')\n",
    "    return dt.date(int(dtp[1]), dct_month_transl[dtp[0]], 1)\n",
    "\n",
    "pdf_loan=pd.read_excel(urljoin(strCBR_LOAN_SRC, loan_href), sheet_name='ставки_руб.', \n",
    "                       skiprows=4, usecols='A, F').dropna()\n",
    "\n",
    "pdf_loan.columns=['date', 'loan_nonfin']\n",
    "pdf_loan['date']=pdf_loan['date'].apply(convert_date)\n",
    "pdf_loan.set_index('date', inplace=True)\n",
    "pdf_loan"
   ]
  },
  {
   "cell_type": "markdown",
   "metadata": {},
   "source": [
    "<div style=\"background-color:#F5DEB3\">\n",
    "\n",
    "#### Запись фрейма в базу данных\n",
    "    \n",
    "\n",
    "</div>"
   ]
  },
  {
   "cell_type": "code",
   "execution_count": 18,
   "metadata": {},
   "outputs": [],
   "source": [
    "_pdf=pds.DataFrameDATA(pdf_loan.copy())\n",
    "_pdf.to_sql(strLOAN_table, con=conWork, if_exists='upsert', chunksize=int(1e4))\n",
    "\n",
    "pds.DataFrameDATA([{'index':'date', 'col_name': '''Средневзвешенные процентные ставки по кредитам, \n",
    "предоставленным кредитными организациями нефинансовым организациям в рублях, до 1 года, \n",
    "включая \"до востребования\"'''}] ).set_index('index').to_sql(strLOAN_data_pass, con=conWork, if_exists='replace')\n",
    "\n",
    "_=conWork.execute('''INSERT OR REPLACE INTO {tab_info}(utable, udate) VALUES\n",
    "('{table_name}', '{update_date}') '''.format(tab_info=strInfoTable, \n",
    "                                          update_date=dt.datetime.now().strftime('%Y-%m-%d'), \n",
    "                                             table_name=strLOAN_table))"
   ]
  },
  {
   "cell_type": "markdown",
   "metadata": {},
   "source": [
    "создание таблицы с описанием колонок loan и запроса выдачи данных"
   ]
  },
  {
   "cell_type": "code",
   "execution_count": 19,
   "metadata": {},
   "outputs": [],
   "source": [
    "strLOAN_CreateView_LOAN='''\n",
    "create view if not exists loan_agg as\n",
    "select {loan_table}.date, {loan_table}.loan_nonfin\n",
    "from {loan_table};\n",
    "    '''.format(loan_table=strLOAN_table)\n",
    "\n",
    "_=conWork.execute(strLOAN_CreateView_LOAN)"
   ]
  },
  {
   "cell_type": "markdown",
   "metadata": {},
   "source": [
    "## Читаем данные из \"Обзор банковского сектора Российской Федерации\"\n",
    "\n",
    "**Источник - http://cbr.ru/statistics/bank_sector/ **\n",
    "\n",
    "Читаем только Excel-файлы (ист. данные из pdf-файлов уже скачены и лежат в базе).  \n",
    "Выбираем файл с последней датой, экспресс-обзор игнорируется.  \n",
    "Читаем таблицы 47 и 51, из 47-й читаем и объемы и проценты, из 51-й читаем только \"Фактически сформированный резерв, в % от ссудной задолженности данной категории качества\"\n",
    "\n",
    "Есть возможность прочитать несколько файлов (надо код изменить)"
   ]
  },
  {
   "cell_type": "code",
   "execution_count": 35,
   "metadata": {},
   "outputs": [
    {
     "name": "stdout",
     "output_type": "stream",
     "text": [
      "<Response [200]>\n"
     ]
    }
   ],
   "source": [
    "strURL_=r'http://cbr.ru/statistics/bank_sector/review/'\n",
    "\n",
    "\n",
    "resp=requests.get(strURL_)\n",
    "ln2_soup=BeautifulSoup(resp.text)\n",
    "\n",
    "print(resp)"
   ]
  },
  {
   "cell_type": "markdown",
   "metadata": {},
   "source": [
    "Строим список нужный файлов с датой публикацией и текстом ссылки"
   ]
  },
  {
   "cell_type": "code",
   "execution_count": null,
   "metadata": {},
   "outputs": [],
   "source": [
    "strCBR=r'http://cbr.ru'\n",
    "\n",
    "a_refs=ln2_soup.findAll('a', class_='versions_item')\n",
    "\n",
    "lst_xsl_hrefs=[]\n",
    "\n",
    "for a in a_refs:\n",
    "    try:\n",
    "        iyear=re.search(r'(?m)(?P<year>\\d{4})', a['title']).group('year') \n",
    "        strSM=r'(?m)(?P<month>({months}))'.format(months=')|('.join(dct_month.keys()))\n",
    "        str_month=re.search(strSM, a.text).group('month') \n",
    "#         print(str_month)\n",
    "    except:\n",
    "        print('some error - ', a['title'], a['href'], a.text)\n",
    "        continue\n",
    "        \n",
    "    dtpub=dt.datetime.strptime('1 {month} {year}'.format(month=dct_month[str_month], year= iyear), '%d %b %Y')\n",
    "    \n",
    "    if re.search(r'\\.xls\\w', a['href']) and not re.search('экспресс-выпуск', a.text):\n",
    "        lst_xsl_hrefs.append({'url':strCBR + a['href'], 'date':dtpub, 'title':a.text})\n",
    "        \n",
    "pdf_files=pd.DataFrame(lst_xsl_hrefs).sort_values(by='date', ascending=False)\n",
    "print('='*70)\n",
    "pdf_files"
   ]
  },
  {
   "cell_type": "markdown",
   "metadata": {},
   "source": [
    "#### Читаем данные по выбранной ссылке (по споследней дате, можно изменить)\n",
    "\n",
    "Читаем три таблицы в три фрейма"
   ]
  },
  {
   "cell_type": "code",
   "execution_count": null,
   "metadata": {},
   "outputs": [],
   "source": [
    "iLoc=0\n",
    "\n",
    "print('Для обновления берем файл (один) с последней датой - ', pdf_files.iloc[iLoc, 1])\n",
    "\n",
    "href=pdf_files.iloc[iLoc, 0]\n",
    "print('Читаем по ссылке - ', href)\n",
    "\n",
    "def read_excel_bank_review(strUrl):\n",
    "    lst_head=['standart', 'nonsnandart', 'doubtful', 'problem', 'hopeless']\n",
    "    \n",
    "    def upwork(pdf, lstHead=lst_head):\n",
    "        _p=pdf.T\n",
    "        _p.columns=lstHead\n",
    "        _p.index.name='date'\n",
    "        _p=_p.astype(float)\n",
    "        return _p\n",
    "        \n",
    "    def read_t51(strUrl):\n",
    "        _p=pd.read_excel(strUrl, sheet_name='T51', header=3,\n",
    "                        usecols='A:K', nrows=4).rename(columns={'Unnamed: 0':'row_head'}).set_index('row_head')\n",
    "        _p.columns=[re.sub('^0', '', pd.to_datetime(c).strftime('%d.%m.%y'), count=1) for c in _p.columns]\n",
    "        _p=_p.iloc[:, _p.shape[1]//2:]\n",
    "        \n",
    "        _p=upwork(_p, lstHead=lst_head[1:])\n",
    "        return pds.DataFrameDATA(_p)\n",
    "    \n",
    "    def read_t47(strUrl):\n",
    "        _p=pd.read_excel(strUrl, sheet_name='T47', header=5, \n",
    "                        usecols='C:M', nrows=5, \n",
    "                        skiprows=[6,] ).rename(columns={'Unnamed: 2':'row_head'}).set_index('row_head')\n",
    "\n",
    "        lst_new_col=[c for c in _p.columns if not re.search('Unnamed\\:', str(c))]\n",
    "        _p1 = _p[[c for c in _p.columns if c not in lst_new_col]]\n",
    "        _p  = _p[lst_new_col]\n",
    "        _p.columns=[re.sub('^0', '', c.strftime('%d.%m.%y'), count=1) for c in _p.columns]\n",
    "        _p1.columns=_p.columns\n",
    "        \n",
    "        _p=upwork(_p)\n",
    "        _p1=upwork(_p1)\n",
    "        return pds.DataFrameDATA(_p1), pds.DataFrameDATA(_p)\n",
    "    \n",
    "    t47_prc, t47=read_t47(strUrl)\n",
    "    t51=read_t51(strUrl)\n",
    "    \n",
    "    return t47_prc, t47, t51\n",
    "\n",
    "\n",
    "p47_prct, p47, p51=read_excel_bank_review(href)\n",
    "\n",
    "print(p47_prct)\n",
    "print(p47)\n",
    "print(p51)"
   ]
  },
  {
   "cell_type": "markdown",
   "metadata": {},
   "source": [
    "<div style=\"background-color:#F5DEB3\">\n",
    "\n",
    "### Запись в базу данных информации по ссудам и резервам, обновление таблицы апдейтов\n",
    "    \n",
    "</div>"
   ]
  },
  {
   "cell_type": "code",
   "execution_count": null,
   "metadata": {},
   "outputs": [],
   "source": [
    "p47.to_sql(strLendTable, con=conWork, if_exists='upsert')\n",
    "_=conWork.execute('''INSERT OR REPLACE INTO {tab_info}(utable, udate) VALUES\n",
    "('{table_name}', '{update_date}') '''.format(tab_info=strInfoTable, \n",
    "                                          update_date=dt.datetime.now().strftime('%Y-%m-%d'), \n",
    "                                             table_name=strLendTable))\n",
    "\n",
    "p47_prct.to_sql(strLendPRC, con=conWork, if_exists='upsert')\n",
    "_=conWork.execute('''INSERT OR REPLACE INTO {tab_info}(utable, udate) VALUES\n",
    "('{table_name}', '{update_date}') '''.format(tab_info=strInfoTable, \n",
    "                                          update_date=dt.datetime.now().strftime('%Y-%m-%d'), \n",
    "                                             table_name=strLendPRC))\n",
    "\n",
    "p51.to_sql(strLendReserv, con=conWork, if_exists='upsert')\n",
    "_=conWork.execute('''INSERT OR REPLACE INTO {tab_info}(utable, udate) VALUES\n",
    "('{table_name}', '{update_date}') '''.format(tab_info=strInfoTable, \n",
    "                                          update_date=dt.datetime.now().strftime('%Y-%m-%d'), \n",
    "                                             table_name=strLendReserv))"
   ]
  },
  {
   "cell_type": "markdown",
   "metadata": {},
   "source": [
    "## Обработка базы данных с фактическими банкротствами компаний\n",
    "\n",
    "Источник данных - https://www.kp.ru/guide/bankrotstvo-predprijatija.html\n",
    "\n",
    "Данные скачиваются отдельно, специальной программой, записываются в файл `Bnk_graphics.xlsx`, в лист `base_bnk`\n",
    "\n",
    "Читаем данные из этого файла, формируем таблицу и записываем ее в базу данных."
   ]
  },
  {
   "cell_type": "code",
   "execution_count": 20,
   "metadata": {},
   "outputs": [
    {
     "data": {
      "text/html": [
       "<div>\n",
       "<style scoped>\n",
       "    .dataframe tbody tr th:only-of-type {\n",
       "        vertical-align: middle;\n",
       "    }\n",
       "\n",
       "    .dataframe tbody tr th {\n",
       "        vertical-align: top;\n",
       "    }\n",
       "\n",
       "    .dataframe thead th {\n",
       "        text-align: right;\n",
       "    }\n",
       "</style>\n",
       "<table border=\"1\" class=\"dataframe\">\n",
       "  <thead>\n",
       "    <tr style=\"text-align: right;\">\n",
       "      <th></th>\n",
       "      <th>y_pub</th>\n",
       "    </tr>\n",
       "    <tr>\n",
       "      <th>inn</th>\n",
       "      <th></th>\n",
       "    </tr>\n",
       "  </thead>\n",
       "  <tbody>\n",
       "    <tr>\n",
       "      <th>1001000647</th>\n",
       "      <td>2019</td>\n",
       "    </tr>\n",
       "    <tr>\n",
       "      <th>1001000809</th>\n",
       "      <td>2012</td>\n",
       "    </tr>\n",
       "    <tr>\n",
       "      <th>1001000975</th>\n",
       "      <td>2015</td>\n",
       "    </tr>\n",
       "    <tr>\n",
       "      <th>1001001295</th>\n",
       "      <td>2014</td>\n",
       "    </tr>\n",
       "    <tr>\n",
       "      <th>1001003560</th>\n",
       "      <td>2012</td>\n",
       "    </tr>\n",
       "  </tbody>\n",
       "</table>\n",
       "</div>"
      ],
      "text/plain": [
       "            y_pub\n",
       "inn              \n",
       "1001000647   2019\n",
       "1001000809   2012\n",
       "1001000975   2015\n",
       "1001001295   2014\n",
       "1001003560   2012"
      ]
     },
     "execution_count": 20,
     "metadata": {},
     "output_type": "execute_result"
    }
   ],
   "source": [
    "pdf_BankrupsFact=pd.read_excel(strBNKRP_path, sheet_name='base_bnk', usecols='G, P', \n",
    "                               header=5, converters={'inn':str,'y_pub':int})\n",
    "# pdf_BankrupsFact['inn']=pdf_BankrupsFact['inn'].astype(str)\n",
    "# pdf_BankrupsFact['y_pub']=pdf_BankrupsFact['y_pub'].astype(int)\n",
    "pdf_BankrupsFact=pdf_BankrupsFact.set_index('inn')\n",
    "pdf_BankrupsFact=pdf_BankrupsFact.loc[pdf_BankrupsFact['y_pub']>2008].sort_index()\n",
    "pdf_BankrupsFact.head()"
   ]
  },
  {
   "cell_type": "code",
   "execution_count": 21,
   "metadata": {},
   "outputs": [
    {
     "data": {
      "text/html": [
       "<div>\n",
       "<style scoped>\n",
       "    .dataframe tbody tr th:only-of-type {\n",
       "        vertical-align: middle;\n",
       "    }\n",
       "\n",
       "    .dataframe tbody tr th {\n",
       "        vertical-align: top;\n",
       "    }\n",
       "\n",
       "    .dataframe thead th {\n",
       "        text-align: right;\n",
       "    }\n",
       "</style>\n",
       "<table border=\"1\" class=\"dataframe\">\n",
       "  <thead>\n",
       "    <tr style=\"text-align: right;\">\n",
       "      <th></th>\n",
       "      <th></th>\n",
       "      <th>Y</th>\n",
       "    </tr>\n",
       "    <tr>\n",
       "      <th>inn</th>\n",
       "      <th>year</th>\n",
       "      <th></th>\n",
       "    </tr>\n",
       "  </thead>\n",
       "  <tbody>\n",
       "    <tr>\n",
       "      <th>1001000647</th>\n",
       "      <th>2019</th>\n",
       "      <td>1</td>\n",
       "    </tr>\n",
       "    <tr>\n",
       "      <th>1001000809</th>\n",
       "      <th>2012</th>\n",
       "      <td>1</td>\n",
       "    </tr>\n",
       "    <tr>\n",
       "      <th>1001000975</th>\n",
       "      <th>2015</th>\n",
       "      <td>1</td>\n",
       "    </tr>\n",
       "    <tr>\n",
       "      <th>1001001295</th>\n",
       "      <th>2014</th>\n",
       "      <td>1</td>\n",
       "    </tr>\n",
       "    <tr>\n",
       "      <th>1001003560</th>\n",
       "      <th>2012</th>\n",
       "      <td>1</td>\n",
       "    </tr>\n",
       "    <tr>\n",
       "      <th>...</th>\n",
       "      <th>...</th>\n",
       "      <td>...</td>\n",
       "    </tr>\n",
       "    <tr>\n",
       "      <th>9901007664</th>\n",
       "      <th>2012</th>\n",
       "      <td>1</td>\n",
       "    </tr>\n",
       "    <tr>\n",
       "      <th>9901034467</th>\n",
       "      <th>2015</th>\n",
       "      <td>1</td>\n",
       "    </tr>\n",
       "    <tr>\n",
       "      <th>9999999991</th>\n",
       "      <th>2016</th>\n",
       "      <td>1</td>\n",
       "    </tr>\n",
       "    <tr>\n",
       "      <th>9999999995</th>\n",
       "      <th>2016</th>\n",
       "      <td>1</td>\n",
       "    </tr>\n",
       "    <tr>\n",
       "      <th>9999999999</th>\n",
       "      <th>2012</th>\n",
       "      <td>1</td>\n",
       "    </tr>\n",
       "  </tbody>\n",
       "</table>\n",
       "<p>107226 rows × 1 columns</p>\n",
       "</div>"
      ],
      "text/plain": [
       "                 Y\n",
       "inn        year   \n",
       "1001000647 2019  1\n",
       "1001000809 2012  1\n",
       "1001000975 2015  1\n",
       "1001001295 2014  1\n",
       "1001003560 2012  1\n",
       "...             ..\n",
       "9901007664 2012  1\n",
       "9901034467 2015  1\n",
       "9999999991 2016  1\n",
       "9999999995 2016  1\n",
       "9999999999 2012  1\n",
       "\n",
       "[107226 rows x 1 columns]"
      ]
     },
     "execution_count": 21,
     "metadata": {},
     "output_type": "execute_result"
    }
   ],
   "source": [
    "pdf_BankrupsFact=pdf_BankrupsFact.reset_index().rename(columns={'y_pub':'year'}).dropna()\n",
    "pdf_BankrupsFact['Y']=1\n",
    "pdf_BankrupsFact=pdf_BankrupsFact[['inn', 'year', 'Y']].set_index(['inn', 'year'])\n",
    "pdf_BankrupsFact"
   ]
  },
  {
   "cell_type": "markdown",
   "metadata": {},
   "source": [
    "сохраняем полученные данные в базе данных"
   ]
  },
  {
   "cell_type": "code",
   "execution_count": 22,
   "metadata": {},
   "outputs": [
    {
     "name": "stdout",
     "output_type": "stream",
     "text": [
      "Done writing  bankrp table\n"
     ]
    }
   ],
   "source": [
    "_pdf=pds.DataFrameDATA(pdf_BankrupsFact.copy())\n",
    "_pdf.to_sql(strRNKRP_table, con=conWork, if_exists='upsert', chunksize=int(1e4))\n",
    "print('Done writing ', strRNKRP_table, 'table')"
   ]
  },
  {
   "cell_type": "markdown",
   "metadata": {},
   "source": [
    "## Окончание работы: очистка и сжатие конечного файла SQLite3"
   ]
  },
  {
   "cell_type": "code",
   "execution_count": 23,
   "metadata": {},
   "outputs": [
    {
     "data": {
      "text/markdown": [
       "\n",
       "<div class=\"alert alert-block alert-success\">\n",
       "<b>База данных - ../DB/bankrp.sqlite3 успешно обновлена<br>\n",
       "<a href=\"bankrupt_prob.ipynb?DATABASE=../DB/bankrp.sqlite3\" target=\"_blank\">Перейти в Модель микроуровневого стресс-тестирования</a></b><br>\n",
       "</div>\n"
      ],
      "text/plain": [
       "<IPython.core.display.Markdown object>"
      ]
     },
     "execution_count": 23,
     "metadata": {},
     "output_type": "execute_result"
    }
   ],
   "source": [
    "# ВНИМАНИЕ!!! УДАЛЕНИЕ ФАЙЛА С ИНН ДЛЯ ЗАПРОСА БАЗЫ СПАРК!!!\n",
    "try:\n",
    "    remove(strFileINN)\n",
    "except FileNotFoundError:\n",
    "    pass\n",
    "#==========================================================\n",
    "\n",
    "import sqlite3\n",
    "conn = sqlite3.connect(strBasePath, isolation_level=None)\n",
    "conn.execute(\"VACUUM\") # сжатие базы данных\n",
    "conn.close()\n",
    "\n",
    "strMD='''\n",
    "<div class=\"alert alert-block alert-success\">\n",
    "<b>База данных - {bd_path} успешно обновлена<br>\n",
    "<a href=\"{bankrupt_prob}?DATABASE={bd_path}\" target=\"_blank\">Перейти в Модель микроуровневого стресс-тестирования</a></b><br>\n",
    "</div>\n",
    "'''.format(bankrupt_prob='bankrupt_prob.ipynb', bd_path=strBasePath)\n",
    "md(strMD)"
   ]
  },
  {
   "cell_type": "code",
   "execution_count": null,
   "metadata": {},
   "outputs": [],
   "source": []
  }
 ],
 "metadata": {
  "kernelspec": {
   "display_name": "Python 3",
   "language": "python",
   "name": "python3"
  },
  "language_info": {
   "codemirror_mode": {
    "name": "ipython",
    "version": 3
   },
   "file_extension": ".py",
   "mimetype": "text/x-python",
   "name": "python",
   "nbconvert_exporter": "python",
   "pygments_lexer": "ipython3",
   "version": "3.6.7"
  }
 },
 "nbformat": 4,
 "nbformat_minor": 4
}
