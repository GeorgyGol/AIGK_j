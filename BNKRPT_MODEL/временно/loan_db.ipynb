{
 "cells": [
  {
   "cell_type": "markdown",
   "metadata": {},
   "source": [
    "# Чтение данных сайта ЦБР"
   ]
  },
  {
   "cell_type": "code",
   "execution_count": 1,
   "metadata": {},
   "outputs": [],
   "source": [
    "from os import path, remove\n",
    "import urllib.parse as urlparse\n",
    "from urllib.parse import parse_qs, urljoin\n",
    "import requests\n",
    "from bs4 import BeautifulSoup\n",
    "import datetime as dt\n",
    "import pandas as pd\n",
    "import numpy as np\n",
    "import re\n",
    "import sqlalchemy as sa\n",
    "import locale\n",
    "from cmasf import pandas_sql as pds\n",
    "import tabula\n",
    "\n",
    "from IPython.display import Markdown as md"
   ]
  },
  {
   "cell_type": "code",
   "execution_count": 2,
   "metadata": {},
   "outputs": [],
   "source": [
    "# пути к файлам\n",
    "strBasePath=path.join('..', 'DB', 'bankrp.sqlite3') # путь к рабочей базе данных SQLite - может быть изменено в вызывающем блокноте\n",
    "# ------------\n",
    "\n",
    "# константы базы данных SQLite3\n",
    "strLOAN_table='loan' # название таблицы LOAN в базе данных SQLite\n",
    "strLOAN_data_pass='loan_columns' # таблица с названиями колонок для таблицы loan\n",
    "strLendTable='lending'\n",
    "strLendPRC='lending_persc'\n",
    "strLendReserv='lending_reserv'\n",
    "\n",
    "strInfoTable='update_info'\n",
    "\n",
    "# словарь для конверсии русских дат в нормальные\n",
    "dct_month={'январь':'Jan', 'февраль':'Feb', 'март':'Mar', 'апрель':'Apr', 'май':'May', 'июнь':'Jun', \n",
    "           'июль':'Jul', 'август':'Aug', 'сентябрь':'Sep', 'октябрь':'Oct', 'ноябрь':'Nov', 'декабрь':'Dec'}\n",
    "\n",
    "\n",
    "conWork = sa.create_engine('sqlite+pysqlite:///{db_name}'.format(db_name=strBasePath)) # connection к рабочей базе данных\n",
    "\n",
    "def iterate_group(iterator, count):\n",
    "    itr = iter(iterator)\n",
    "    for i in range(0, len(iterator), count):\n",
    "        yield iterator[i:i + count]"
   ]
  },
  {
   "cell_type": "markdown",
   "metadata": {},
   "source": [
    "## Обработка базы данных кредитной ставки с сайта ЦБР\n",
    "\n",
    "**Источник - http://cbr.ru/statistics/bank_sector/int_rat/**  \n",
    "На странице источника ищем ссылки с ключевым текстом \"Сведения по кредитам в рублях, долларах США и евро нефинансовым организациям\" "
   ]
  },
  {
   "cell_type": "code",
   "execution_count": 3,
   "metadata": {},
   "outputs": [
    {
     "name": "stdout",
     "output_type": "stream",
     "text": [
      "Найдено инфо-тегов 31\n"
     ]
    }
   ],
   "source": [
    "strCBR_LOAN_SRC=r'http://cbr.ru/statistics/bank_sector/int_rat/'\n",
    "\n",
    "strKeyText='Сведения по кредитам в рублях, долларах США и евро нефинансовым организациям'.replace(' ', '\\s+')\n",
    "\n",
    "re_t=re.compile(strKeyText)\n",
    "\n",
    "resp=requests.get(strCBR_LOAN_SRC)\n",
    "\n",
    "loan_soup=BeautifulSoup(resp.text)\n",
    "\n",
    "div_docs=loan_soup.findAll('div', class_='document-regular')\n",
    "\n",
    "print('Найдено инфо-тегов', len(div_docs))"
   ]
  },
  {
   "cell_type": "markdown",
   "metadata": {},
   "source": [
    "Читаем файл по сылке, искомая ставка в столбце `F` листа `ставки_руб`.  \n",
    "Преобразуем даты в формат datetime"
   ]
  },
  {
   "cell_type": "code",
   "execution_count": 4,
   "metadata": {},
   "outputs": [
    {
     "name": "stdout",
     "output_type": "stream",
     "text": [
      "Найден файл с нужными данныи, дата публикации 2020-10-12, ссылка - /vfs/statistics/pdko/int_rat/loans_nonfin.xlsx\n"
     ]
    }
   ],
   "source": [
    "def find_link(div_tags):\n",
    "    for d in div_tags:\n",
    "        if d.find('span', class_='document-regular_name_visible', text=re_t) and d.find('div', class_='document-regular_comment', text=re.compile('в целом по Российской Федерации'.replace(' ', '\\s'))):\n",
    "            pub_date=dt.datetime.strptime(d.find('div', class_='document-regular_date').text.strip(), '%d.%m.%Y')\n",
    "            a=d.find('a')\n",
    "            \n",
    "            print('Найден файл с нужными данныи, дата публикации {date}, ссылка - {link}'.format(date=pub_date.date(), link=a['href']))\n",
    "            return pub_date, a['href']\n",
    "\n",
    "loan_pub_date, loan_href=find_link(div_docs)"
   ]
  },
  {
   "cell_type": "code",
   "execution_count": 5,
   "metadata": {},
   "outputs": [
    {
     "data": {
      "text/html": [
       "<div>\n",
       "<style scoped>\n",
       "    .dataframe tbody tr th:only-of-type {\n",
       "        vertical-align: middle;\n",
       "    }\n",
       "\n",
       "    .dataframe tbody tr th {\n",
       "        vertical-align: top;\n",
       "    }\n",
       "\n",
       "    .dataframe thead th {\n",
       "        text-align: right;\n",
       "    }\n",
       "</style>\n",
       "<table border=\"1\" class=\"dataframe\">\n",
       "  <thead>\n",
       "    <tr style=\"text-align: right;\">\n",
       "      <th></th>\n",
       "      <th>loan_nonfin</th>\n",
       "    </tr>\n",
       "    <tr>\n",
       "      <th>date</th>\n",
       "      <th></th>\n",
       "    </tr>\n",
       "  </thead>\n",
       "  <tbody>\n",
       "    <tr>\n",
       "      <th>2014-01-01</th>\n",
       "      <td>9.15</td>\n",
       "    </tr>\n",
       "    <tr>\n",
       "      <th>2014-02-01</th>\n",
       "      <td>9.43</td>\n",
       "    </tr>\n",
       "    <tr>\n",
       "      <th>2014-03-01</th>\n",
       "      <td>10.29</td>\n",
       "    </tr>\n",
       "    <tr>\n",
       "      <th>2014-04-01</th>\n",
       "      <td>10.53</td>\n",
       "    </tr>\n",
       "    <tr>\n",
       "      <th>2014-05-01</th>\n",
       "      <td>10.60</td>\n",
       "    </tr>\n",
       "    <tr>\n",
       "      <th>...</th>\n",
       "      <td>...</td>\n",
       "    </tr>\n",
       "    <tr>\n",
       "      <th>2020-04-01</th>\n",
       "      <td>7.71</td>\n",
       "    </tr>\n",
       "    <tr>\n",
       "      <th>2020-05-01</th>\n",
       "      <td>7.28</td>\n",
       "    </tr>\n",
       "    <tr>\n",
       "      <th>2020-06-01</th>\n",
       "      <td>6.89</td>\n",
       "    </tr>\n",
       "    <tr>\n",
       "      <th>2020-07-01</th>\n",
       "      <td>6.27</td>\n",
       "    </tr>\n",
       "    <tr>\n",
       "      <th>2020-08-01</th>\n",
       "      <td>6.02</td>\n",
       "    </tr>\n",
       "  </tbody>\n",
       "</table>\n",
       "<p>80 rows × 1 columns</p>\n",
       "</div>"
      ],
      "text/plain": [
       "            loan_nonfin\n",
       "date                   \n",
       "2014-01-01         9.15\n",
       "2014-02-01         9.43\n",
       "2014-03-01        10.29\n",
       "2014-04-01        10.53\n",
       "2014-05-01        10.60\n",
       "...                 ...\n",
       "2020-04-01         7.71\n",
       "2020-05-01         7.28\n",
       "2020-06-01         6.89\n",
       "2020-07-01         6.27\n",
       "2020-08-01         6.02\n",
       "\n",
       "[80 rows x 1 columns]"
      ]
     },
     "execution_count": 5,
     "metadata": {},
     "output_type": "execute_result"
    }
   ],
   "source": [
    "def convert_date(x):\n",
    "    dct_month_transl={'Январь':1, 'Февраль':2, 'Март':3, 'Апрель':4, 'Май':5, 'Июнь':6, \n",
    "                  'Июль':7, 'Август':8, 'Сентябрь':9, 'Октябрь':10, 'Ноябрь':11, 'Декабрь':12}\n",
    "    dtp=x.split(' ')\n",
    "    return pd.to_datetime(dt.date(int(dtp[1]), dct_month_transl[dtp[0]], 1))\n",
    "\n",
    "pdf_loan=pd.read_excel(urljoin(strCBR_LOAN_SRC, loan_href), sheet_name='ставки_руб.', \n",
    "                       skiprows=4, usecols='A, F').dropna()\n",
    "\n",
    "pdf_loan.columns=['date', 'loan_nonfin']\n",
    "pdf_loan['date']=pdf_loan['date'].apply(convert_date)\n",
    "pdf_loan.set_index('date', inplace=True)\n",
    "pdf_loan"
   ]
  },
  {
   "cell_type": "markdown",
   "metadata": {},
   "source": [
    "### Запись в базу данных и обновление таблицы апдейтов"
   ]
  },
  {
   "cell_type": "code",
   "execution_count": 7,
   "metadata": {},
   "outputs": [],
   "source": [
    "_pdf=pds.DataFrameDATA(pdf_loan.copy())\n",
    "_pdf.to_sql(strLOAN_table, con=conWork, if_exists='upsert', chunksize=int(1e4))\n",
    "\n",
    "pds.DataFrameDATA([{'index':'date', 'col_name': '''Средневзвешенные процентные ставки по кредитам, \n",
    "предоставленным кредитными организациями нефинансовым организациям в рублях, до 1 года, \n",
    "включая \"до востребования\"'''}] ).set_index('index').to_sql(strLOAN_data_pass, con=conWork, if_exists='replace')\n",
    "\n",
    "_=conWork.execute('''INSERT OR REPLACE INTO {tab_info}(utable, udate) VALUES\n",
    "('{table_name}', '{update_date}') '''.format(tab_info=strInfoTable, \n",
    "                                          update_date=dt.datetime.now().strftime('%Y-%m-%d'), \n",
    "                                             table_name=strLOAN_table))"
   ]
  },
  {
   "cell_type": "code",
   "execution_count": 8,
   "metadata": {},
   "outputs": [
    {
     "data": {
      "text/html": [
       "<div>\n",
       "<style scoped>\n",
       "    .dataframe tbody tr th:only-of-type {\n",
       "        vertical-align: middle;\n",
       "    }\n",
       "\n",
       "    .dataframe tbody tr th {\n",
       "        vertical-align: top;\n",
       "    }\n",
       "\n",
       "    .dataframe thead th {\n",
       "        text-align: right;\n",
       "    }\n",
       "</style>\n",
       "<table border=\"1\" class=\"dataframe\">\n",
       "  <thead>\n",
       "    <tr style=\"text-align: right;\">\n",
       "      <th></th>\n",
       "      <th>loan_nonfin</th>\n",
       "    </tr>\n",
       "    <tr>\n",
       "      <th>date</th>\n",
       "      <th></th>\n",
       "    </tr>\n",
       "  </thead>\n",
       "  <tbody>\n",
       "    <tr>\n",
       "      <th>2014-12-31</th>\n",
       "      <td>12.040000</td>\n",
       "    </tr>\n",
       "    <tr>\n",
       "      <th>2015-12-31</th>\n",
       "      <td>16.930000</td>\n",
       "    </tr>\n",
       "    <tr>\n",
       "      <th>2016-12-31</th>\n",
       "      <td>14.150000</td>\n",
       "    </tr>\n",
       "    <tr>\n",
       "      <th>2017-12-31</th>\n",
       "      <td>11.917500</td>\n",
       "    </tr>\n",
       "    <tr>\n",
       "      <th>2018-12-31</th>\n",
       "      <td>9.988333</td>\n",
       "    </tr>\n",
       "    <tr>\n",
       "      <th>2019-12-31</th>\n",
       "      <td>9.826667</td>\n",
       "    </tr>\n",
       "    <tr>\n",
       "      <th>2020-12-31</th>\n",
       "      <td>8.625714</td>\n",
       "    </tr>\n",
       "  </tbody>\n",
       "</table>\n",
       "</div>"
      ],
      "text/plain": [
       "            loan_nonfin\n",
       "date                   \n",
       "2014-12-31    12.040000\n",
       "2015-12-31    16.930000\n",
       "2016-12-31    14.150000\n",
       "2017-12-31    11.917500\n",
       "2018-12-31     9.988333\n",
       "2019-12-31     9.826667\n",
       "2020-12-31     8.625714"
      ]
     },
     "execution_count": 8,
     "metadata": {},
     "output_type": "execute_result"
    }
   ],
   "source": [
    "pdf_loan.groupby(pd.Grouper(freq='Y')).mean()"
   ]
  },
  {
   "cell_type": "markdown",
   "metadata": {},
   "source": [
    "## Читаем данные из \"Обзор банковского сектора Российской Федерации\"\n",
    "\n",
    "**Источник - http://cbr.ru/statistics/bank_sector/ **\n",
    "\n",
    "Читаем только Excel-файлы (ист. данные из pdf-файлов уже скачены и лежат в базе).  \n",
    "Выбираем файл с последней датой, экспресс-обзор игнорируется.  \n",
    "Читаем таблицы 47 и 51, из 47-й читаем и объемы и проценты, из 51-й читаем только \"Фактически сформированный резерв, в % от ссудной задолженности данной категории качества\"\n",
    "\n",
    "Есть возможность прочитать несколько файлов (надо код изменить)"
   ]
  },
  {
   "cell_type": "code",
   "execution_count": 4,
   "metadata": {},
   "outputs": [
    {
     "name": "stdout",
     "output_type": "stream",
     "text": [
      "<Response [200]>\n"
     ]
    }
   ],
   "source": [
    "strURL_=r'http://cbr.ru/statistics/bank_sector/review/'\n",
    "\n",
    "\n",
    "resp=requests.get(strURL_)\n",
    "ln2_soup=BeautifulSoup(resp.text)\n",
    "\n",
    "print(resp)"
   ]
  },
  {
   "cell_type": "markdown",
   "metadata": {},
   "source": [
    "Строим список нужный файлов с датой публикацией и текстом ссылки"
   ]
  },
  {
   "cell_type": "code",
   "execution_count": 17,
   "metadata": {},
   "outputs": [
    {
     "name": "stdout",
     "output_type": "stream",
     "text": [
      "some error -  Опубликовано 22 сентября 2020 /Collection/Collection/File/29261/obs_216.xlsx экспресс-выпуск (на 01.09.2020)\n",
      "some error -  Опубликовано 21 августа 2020 /Collection/Collection/File/29170/obs_215.xlsx экспресс-выпуск (на 01.08.2020)\n",
      "some error -  Опубликовано 03 декабря 2019 /Collection/Collection/File/25496/Metodol_21.pdf Выпуск 21\n",
      "some error -  Опубликовано 17 августа 2016 /Collection/Collection/File/8547/Metodol_20.pdf Выпуск 20\n",
      "some error -  Опубликовано 01 апреля 2014 /Collection/Collection/File/8548/Metodol_19.pdf Выпуск 19\n",
      "some error -  Опубликовано 18 марта 2013 /Collection/Collection/File/8549/Metodol_18.pdf Выпуск 18\n",
      "some error -  Опубликовано 06 августа 2012 /Collection/Collection/File/8550/Metodol_17.pdf Выпуск 17\n",
      "======================================================================\n"
     ]
    },
    {
     "data": {
      "text/html": [
       "<div>\n",
       "<style scoped>\n",
       "    .dataframe tbody tr th:only-of-type {\n",
       "        vertical-align: middle;\n",
       "    }\n",
       "\n",
       "    .dataframe tbody tr th {\n",
       "        vertical-align: top;\n",
       "    }\n",
       "\n",
       "    .dataframe thead th {\n",
       "        text-align: right;\n",
       "    }\n",
       "</style>\n",
       "<table border=\"1\" class=\"dataframe\">\n",
       "  <thead>\n",
       "    <tr style=\"text-align: right;\">\n",
       "      <th></th>\n",
       "      <th>url</th>\n",
       "      <th>date</th>\n",
       "      <th>title</th>\n",
       "    </tr>\n",
       "  </thead>\n",
       "  <tbody>\n",
       "    <tr>\n",
       "      <th>0</th>\n",
       "      <td>http://cbr.ru/Collection/Collection/File/28028...</td>\n",
       "      <td>2020-08-01</td>\n",
       "      <td>2020 г.: август</td>\n",
       "    </tr>\n",
       "    <tr>\n",
       "      <th>1</th>\n",
       "      <td>http://cbr.ru/Collection/Collection/File/27973...</td>\n",
       "      <td>2020-07-01</td>\n",
       "      <td>2020 г.: июль</td>\n",
       "    </tr>\n",
       "    <tr>\n",
       "      <th>2</th>\n",
       "      <td>http://cbr.ru/Collection/Collection/File/27902...</td>\n",
       "      <td>2020-06-01</td>\n",
       "      <td>2020 г.: июнь</td>\n",
       "    </tr>\n",
       "    <tr>\n",
       "      <th>3</th>\n",
       "      <td>http://cbr.ru/Collection/Collection/File/27838...</td>\n",
       "      <td>2020-05-01</td>\n",
       "      <td>2020 г.: май</td>\n",
       "    </tr>\n",
       "    <tr>\n",
       "      <th>4</th>\n",
       "      <td>http://cbr.ru/Collection/Collection/File/27388...</td>\n",
       "      <td>2020-03-01</td>\n",
       "      <td>2020 г.: март</td>\n",
       "    </tr>\n",
       "    <tr>\n",
       "      <th>5</th>\n",
       "      <td>http://cbr.ru/Collection/Collection/File/25668...</td>\n",
       "      <td>2020-01-01</td>\n",
       "      <td>2020 г.: январь</td>\n",
       "    </tr>\n",
       "  </tbody>\n",
       "</table>\n",
       "</div>"
      ],
      "text/plain": [
       "                                                 url       date  \\\n",
       "0  http://cbr.ru/Collection/Collection/File/28028... 2020-08-01   \n",
       "1  http://cbr.ru/Collection/Collection/File/27973... 2020-07-01   \n",
       "2  http://cbr.ru/Collection/Collection/File/27902... 2020-06-01   \n",
       "3  http://cbr.ru/Collection/Collection/File/27838... 2020-05-01   \n",
       "4  http://cbr.ru/Collection/Collection/File/27388... 2020-03-01   \n",
       "5  http://cbr.ru/Collection/Collection/File/25668... 2020-01-01   \n",
       "\n",
       "             title  \n",
       "0  2020 г.: август  \n",
       "1    2020 г.: июль  \n",
       "2    2020 г.: июнь  \n",
       "3     2020 г.: май  \n",
       "4    2020 г.: март  \n",
       "5  2020 г.: январь  "
      ]
     },
     "execution_count": 17,
     "metadata": {},
     "output_type": "execute_result"
    }
   ],
   "source": [
    "strCBR=r'http://cbr.ru'\n",
    "\n",
    "a_refs=ln2_soup.findAll('a', class_='versions_item')\n",
    "\n",
    "lst_xsl_hrefs=[]\n",
    "\n",
    "for a in a_refs:\n",
    "    try:\n",
    "        iyear=re.search(r'(?m)(?P<year>\\d{4})', a['title']).group('year') \n",
    "        strSM=r'(?m)(?P<month>({months}))'.format(months=')|('.join(dct_month.keys()))\n",
    "        str_month=re.search(strSM, a.text).group('month') \n",
    "#         print(str_month)\n",
    "    except:\n",
    "        print('some error - ', a['title'], a['href'], a.text)\n",
    "        continue\n",
    "        \n",
    "    dtpub=dt.datetime.strptime('1 {month} {year}'.format(month=dct_month[str_month], year= iyear), '%d %b %Y')\n",
    "    \n",
    "    if re.search(r'\\.xls\\w', a['href']) and not re.search('экспресс-выпуск', a.text):\n",
    "        lst_xsl_hrefs.append({'url':strCBR + a['href'], 'date':dtpub, 'title':a.text})\n",
    "        \n",
    "pdf_files=pd.DataFrame(lst_xsl_hrefs).sort_values(by='date', ascending=False)\n",
    "print('='*70)\n",
    "pdf_files"
   ]
  },
  {
   "cell_type": "markdown",
   "metadata": {},
   "source": [
    "#### Читаем данные по выбранной ссылке (по споследней дате, можно изменить)\n",
    "\n",
    "Читаем три таблицы в три фрейма"
   ]
  },
  {
   "cell_type": "code",
   "execution_count": 34,
   "metadata": {},
   "outputs": [
    {
     "name": "stdout",
     "output_type": "stream",
     "text": [
      "Для обновления берем файл (один) с последней датой -  2020-08-01 00:00:00\n",
      "Читаем по ссылке -  http://cbr.ru/Collection/Collection/File/28028/obs_214.xlsx\n",
      "          standart  nonsnandart  doubtful   problem  hopeless\n",
      "date                                                         \n",
      "1.01.19  43.994174    39.234376  6.647852  2.935216  7.188381\n",
      "1.01.20  41.445623    42.533939  6.727371  2.478985  6.814082\n",
      "1.04.20  42.009436    41.885082  6.658417  2.605955  6.841110\n",
      "1.06.20  41.177163    41.966653  7.196352  2.679141  6.980691\n",
      "1.07.20  40.588374    42.634103  7.201736  2.631722  6.944064\n",
      "             standart   nonsnandart     doubtful      problem     hopeless\n",
      "date                                                                      \n",
      "1.01.19  27680.139319  24685.382276  4182.677905  1846.771835  4522.766934\n",
      "1.01.20  27103.765896  27815.480532  4399.429346  1621.156486  4456.134548\n",
      "1.04.20  29156.661641  29070.353647  4621.276250  1808.663571  4748.074319\n",
      "1.06.20  28197.429752  28738.058949  4927.941336  1834.630447  4780.260152\n",
      "1.07.20  27971.721101  29381.547531  4963.119518  1813.666828  4785.543581\n",
      "         nonsnandart  doubtful  problem  hopeless\n",
      "date                                             \n",
      "1.01.19         2.17     18.08    46.99     81.28\n",
      "1.01.20         2.37     18.33    50.39     82.09\n",
      "1.04.20         2.60     17.88    49.97     83.75\n",
      "1.06.20         2.55     17.49    51.71     83.23\n",
      "1.07.20         2.38     18.04    51.27     83.71\n"
     ]
    }
   ],
   "source": [
    "iLoc=0\n",
    "\n",
    "print('Для обновления берем файл (один) с последней датой - ', pdf_files.iloc[iLoc, 1])\n",
    "\n",
    "href=pdf_files.iloc[iLoc, 0]\n",
    "print('Читаем по ссылке - ', href)\n",
    "\n",
    "def read_excel_bank_review(strUrl):\n",
    "    lst_head=['standart', 'nonsnandart', 'doubtful', 'problem', 'hopeless']\n",
    "    \n",
    "    def upwork(pdf, lstHead=lst_head):\n",
    "        _p=pdf.T\n",
    "        _p.columns=lstHead\n",
    "        _p.index.name='date'\n",
    "        _p=_p.astype(float)\n",
    "        return _p\n",
    "        \n",
    "    def read_t51(strUrl):\n",
    "        _p=pd.read_excel(strUrl, sheet_name='T51', header=3,\n",
    "                        usecols='A:K', nrows=4).rename(columns={'Unnamed: 0':'row_head'}).set_index('row_head')\n",
    "        _p.columns=[re.sub('^0', '', pd.to_datetime(c).strftime('%d.%m.%y'), count=1) for c in _p.columns]\n",
    "        _p=_p.iloc[:, _p.shape[1]//2:]\n",
    "        \n",
    "        _p=upwork(_p, lstHead=lst_head[1:])\n",
    "        return pds.DataFrameDATA(_p)\n",
    "    \n",
    "    def read_t47(strUrl):\n",
    "        _p=pd.read_excel(strUrl, sheet_name='T47', header=5, \n",
    "                        usecols='C:M', nrows=5, \n",
    "                        skiprows=[6,] ).rename(columns={'Unnamed: 2':'row_head'}).set_index('row_head')\n",
    "\n",
    "        lst_new_col=[c for c in _p.columns if not re.search('Unnamed\\:', str(c))]\n",
    "        _p1 = _p[[c for c in _p.columns if c not in lst_new_col]]\n",
    "        _p  = _p[lst_new_col]\n",
    "        _p.columns=[re.sub('^0', '', c.strftime('%d.%m.%y'), count=1) for c in _p.columns]\n",
    "        _p1.columns=_p.columns\n",
    "        \n",
    "        _p=upwork(_p)\n",
    "        _p1=upwork(_p1)\n",
    "        return pds.DataFrameDATA(_p1), pds.DataFrameDATA(_p)\n",
    "    \n",
    "    t47_prc, t47=read_t47(strUrl)\n",
    "    t51=read_t51(strUrl)\n",
    "    \n",
    "    return t47_prc, t47, t51\n",
    "\n",
    "\n",
    "p47_prct, p47, p51=read_excel_bank_review(href)\n",
    "\n",
    "print(p47_prct)\n",
    "print(p47)\n",
    "print(p51)"
   ]
  },
  {
   "cell_type": "markdown",
   "metadata": {},
   "source": [
    "### Запись в базу данных информации по ссудам и резервам, обновление таблицы апдейтов"
   ]
  },
  {
   "cell_type": "code",
   "execution_count": 32,
   "metadata": {},
   "outputs": [],
   "source": [
    "p47.to_sql(strLendTable, con=conWork, if_exists='upsert')\n",
    "_=conWork.execute('''INSERT OR REPLACE INTO {tab_info}(utable, udate) VALUES\n",
    "('{table_name}', '{update_date}') '''.format(tab_info=strInfoTable, \n",
    "                                          update_date=dt.datetime.now().strftime('%Y-%m-%d'), \n",
    "                                             table_name=strLendTable))\n",
    "\n",
    "p47_prct.to_sql(strLendPRC, con=conWork, if_exists='upsert')\n",
    "_=conWork.execute('''INSERT OR REPLACE INTO {tab_info}(utable, udate) VALUES\n",
    "('{table_name}', '{update_date}') '''.format(tab_info=strInfoTable, \n",
    "                                          update_date=dt.datetime.now().strftime('%Y-%m-%d'), \n",
    "                                             table_name=strLendPRC))\n",
    "\n",
    "p51.to_sql(strLendReserv, con=conWork, if_exists='upsert')\n",
    "_=conWork.execute('''INSERT OR REPLACE INTO {tab_info}(utable, udate) VALUES\n",
    "('{table_name}', '{update_date}') '''.format(tab_info=strInfoTable, \n",
    "                                          update_date=dt.datetime.now().strftime('%Y-%m-%d'), \n",
    "                                             table_name=strLendReserv))\n"
   ]
  },
  {
   "cell_type": "markdown",
   "metadata": {},
   "source": [
    "# Завершение работы, сжатие базы данных"
   ]
  },
  {
   "cell_type": "code",
   "execution_count": 8,
   "metadata": {},
   "outputs": [],
   "source": [
    "import sqlite3\n",
    "conn = sqlite3.connect(strBasePath, isolation_level=None)\n",
    "conn.execute(\"VACUUM\") # сжатие базы данных\n",
    "conn.close()"
   ]
  }
 ],
 "metadata": {
  "kernelspec": {
   "display_name": "Python 3",
   "language": "python",
   "name": "python3"
  },
  "language_info": {
   "codemirror_mode": {
    "name": "ipython",
    "version": 3
   },
   "file_extension": ".py",
   "mimetype": "text/x-python",
   "name": "python",
   "nbconvert_exporter": "python",
   "pygments_lexer": "ipython3",
   "version": "3.6.7"
  }
 },
 "nbformat": 4,
 "nbformat_minor": 4
}
