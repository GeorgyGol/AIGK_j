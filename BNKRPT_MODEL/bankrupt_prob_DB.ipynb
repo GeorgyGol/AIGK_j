{
 "cells": [
  {
   "cell_type": "markdown",
   "metadata": {},
   "source": [
    "# Работа с базой данных для модели микроуровневого стресс-тестирования (банкротства застройщиков)\n",
    "\n",
    "<div class=\"alert alert-block alert-info\"><b>Блокнот предназначен для создания и обновления базы данных для модели \"банкротства застройщиков\"</b></div>\n",
    "\n",
    "<div class=\"alert alert-block alert-warning\">\n",
    "Этот блокнот может вызываться из другого блокнота с параметрами - путем к файлу slite3 с базой данных для модели \"банкротств застройщиков\"<br>\n",
    "Проверяйте, с какой именно базой работаете\n",
    "</div>\n",
    "\n",
    "***"
   ]
  },
  {
   "cell_type": "code",
   "execution_count": 34,
   "metadata": {},
   "outputs": [
    {
     "data": {
      "application/javascript": [
       "// В этой ячейке читаем параметры вызова данного блокнота - ожидается имя рабочей базы данных \n",
       "// (отличное от имени по умолчанию). Код этой ячейки - java-script\n",
       "\n",
       "IPython.notebook.kernel.execute(\"URL = '\" + window.location + \"'\");\n"
      ],
      "text/plain": [
       "<IPython.core.display.Javascript object>"
      ]
     },
     "metadata": {},
     "output_type": "display_data"
    }
   ],
   "source": [
    "%%javascript\n",
    "// В этой ячейке читаем параметры вызова данного блокнота - ожидается имя рабочей базы данных \n",
    "// (отличное от имени по умолчанию). Код этой ячейки - java-script\n",
    "\n",
    "IPython.notebook.kernel.execute(\"URL = '\" + window.location + \"'\");"
   ]
  },
  {
   "cell_type": "code",
   "execution_count": 35,
   "metadata": {},
   "outputs": [],
   "source": [
    "from os import path, remove\n",
    "import urllib.parse as urlparse\n",
    "from urllib.parse import parse_qs, urljoin\n",
    "import requests\n",
    "from bs4 import BeautifulSoup\n",
    "import datetime as dt\n",
    "import pandas as pd\n",
    "import numpy as np\n",
    "import re\n",
    "import sqlalchemy as sa\n",
    "import locale\n",
    "from cmasf import pandas_sql as pds\n",
    "from IPython.display import Markdown as md\n",
    "\n",
    "# пути к рабочим файлам и каталогам\n",
    "strBasePath=path.join('..', 'DB', 'bankrp.sqlite3') # путь к рабочей базе данных SQLite - может быть изменено в вызывающем блокноте\n",
    "strDBPath=path.join('..', 'DB') # к каталогу с базой данных\n",
    "strDB_SRC_Path=path.join('..', 'DB', 'SRC') # к каталогу с файлами данных от поставщиков \n",
    "\n",
    "# имена таблиц в рабочей базе данных SQLite\n",
    "strInfoTable='update_info' # таблица с информацией об обновлении базы даных\n",
    "\n",
    "strNOZA_table='noza' # название таблицы NOZA\n",
    "strNOZA_data_pass='noza_columns' # таблица с названиями колонок для таблицы noza\n",
    "\n",
    "strSPARK_table='spark' # название таблицы SPARK\n",
    "strSPARK_data_pass='spark_columns' # таблица с названиями колонок для таблицы SPARK\n",
    "\n",
    "strLOAN_table='loan' # название таблицы LOAN в базе данных SQLite\n",
    "strLOAN_data_pass='loan_columns' # таблица с названиями колонок для таблицы loan\n",
    "\n",
    "strRNKRP_table='bankrp' # таблица с фактическими банкротствами компаний\n",
    "\n",
    "strLendTable='lending_vol' # таблица с динамикой ссудной задолженности, объемы - не используется\n",
    "strLendPRC='lending' # таблица с динамикой ссудной задолженности, %\n",
    "strLendReserv='lending_reserv' # таблица с резервами на потери по ссудам"
   ]
  },
  {
   "cell_type": "code",
   "execution_count": 36,
   "metadata": {},
   "outputs": [
    {
     "data": {
      "text/markdown": [
       "<div class=\"alert alert-block alert-info\">\n",
       "<b>Рабочая база данных - ../DB/bankrp.sqlite3</b></div>  "
      ],
      "text/plain": [
       "<IPython.core.display.Markdown object>"
      ]
     },
     "execution_count": 36,
     "metadata": {},
     "output_type": "execute_result"
    }
   ],
   "source": [
    "# блок для парсинга параметров вызова данного блокнота \n",
    "# изменяет рабочую базу данных по умолчанию на указанную в параметрах вызова\n",
    "parsed = urlparse.urlparse(URL)\n",
    "try:\n",
    "    strBasePath=parse_qs(parsed.query)['DATABASE'][0] \n",
    "except KeyError:\n",
    "    pass\n",
    "\n",
    "strMess='''<div class=\"alert alert-block alert-info\">\n",
    "<b>Рабочая база данных - {file_name}</b></div>  '''.format(file_name=strBasePath)\n",
    "\n",
    "conWork = sa.create_engine('sqlite+pysqlite:///{db_name}'.format(db_name=strBasePath)) # connection к рабочей базе данных\n",
    "\n",
    "# проверка наличия или создание таблицы с временем обновления данных в рабочей базе\n",
    "strCreateQ='''\n",
    "CREATE TABLE IF NOT EXISTS {tab_name} (\"utable\" TEXT, \"udate\" TEXT NOT NULL, PRIMARY KEY(\"utable\"))\n",
    "'''\n",
    "\n",
    "conWork.execute(strCreateQ.format(tab_name=strInfoTable))\n",
    "\n",
    "\n",
    "md(strMess)"
   ]
  },
  {
   "cell_type": "markdown",
   "metadata": {},
   "source": [
    "## База данных NOZA\n",
    "\n",
    "**Использование в модели:** используется на этапе подготовки данных для основной модели, а так же для расчета показателей на основе результатов основной модели  \n",
    "**Источник данных:** xlsx-файл с данными, передаваемый ДОМ-РФ (NOZA)  \n",
    "**Расположение:** передается в виде файла, оптимально располагается в каталоге ../DB/SRC  \n",
    "\n",
    "**Алгоритм обработки:**\n",
    "  - читаем таблицу из файла Ексель (`strNOZA_XLSX`, преполагается, что там один лист с нужной таблицей - первый)\n",
    "  - выбираем нужные поля, переименовываем их в удобный формат\n",
    "  - из поля `Запланированный срок ввода в эксплуатацию (текущий)` (`Input_date`) выбираем год (`year`) (предварительно поле преобразуется в тип `datetime`), создаем новое поле `year` типа `int`\n",
    "  - поле `ИНН застройщика` (`inn`) преобразуется в тип `string`)\n",
    "  - поле `Идентификационный номер объекта` (`obj_id`) преобразуется в тип `int`)\n",
    "  - поля `'Размер уставного капитала', 'Проектная площадь жилых помещений', 'Минимальная цена 1 кв м всех квартир без учета скидок', 'Минимальная цена проектной площади жилых помещений, руб.', 'Планируемая стоимость строительства', 'Новая планируемая стоимость строительства'`(`'Capital', 'Sq_living_proj', 'Min_proce_1sqm', Min_price_living_r', 'Bld_price_proj', 'Bld_price_proj_new'`)  преобразуется в тип `float`)\n",
    "  - удаляются записи с пустыми полями `ИНН застройщика` (`inn`) и `Запланированный срок ввода в эксплуатацию (текущий)` (`Input_date`)\n",
    "  - в качестве индексов устанавливается поле `obj_id` и `year`.\n",
    "  - полученный `DataFrame` записываем в таблицу `strNOZA_table` базы данных `strBasePath`\n",
    "  \n",
    " <p>Дополнительно в ту же базу записываем словарь переименования полей из исходных в используемые в дальнейшем</p>\n",
    " \n",
    "### Константы и определения:"
   ]
  },
  {
   "cell_type": "code",
   "execution_count": 37,
   "metadata": {},
   "outputs": [],
   "source": [
    "strNOZA_file='noza2020.xlsx' # имя файла с исходными данными\n",
    "strNOZA_inn=path.join('..', 'DB', 'Temp', 'inn_{date}.csv') # пусть к файлу с уникальными ИНН из BD NOZA для запроса BD SPARK\n",
    "\n",
    "strNOZA_XLSX=path.join(strDB_SRC_Path, strNOZA_file) # пусть к файлу с исходными даными для BD (NOZA)\n",
    "strNOZA_sheet='Строящиеся дома'\n",
    "\n",
    "# Маркер формата исходого файла (в данном блокноте возможно обрабатывать 2 разных формата)\n",
    "iNOZAFileType=2\n",
    "\n",
    "# поля базы данных NOZA, используемые для хранения и расчетов (остальные поля импортироваться в базу не будут)\n",
    "if iNOZAFileType==1:\n",
    "    lstNOZA_use_cols=['ИНН застройщика',\n",
    "     'Идентификационный номер объекта', # ключевое поле, уникальное\n",
    "     'Наименование застройщика',\n",
    "     'Организационно-правовая форма',\n",
    "     'Размер уставного капитала',\n",
    "     'Субъект Российской Федерации (регион)',\n",
    "     'Проектная площадь жилых помещений',\n",
    "     'Минимальная цена 1 кв м всех квартир без учета скидок',\n",
    "     'Минимальная цена проектной площади жилых помещений, руб.',\n",
    "     'Запланированный срок ввода в эксплуатацию (текущий)',\n",
    "     'Планируемая стоимость строительства',\n",
    "     'Новая планируемая стоимость строительства']\n",
    "\n",
    "    # список новых имен для используемых полей базы NOZA (порядок соотв. предыдущему списку)\n",
    "    lst_NOZA_names=['inn', 'obj_id', 'Name', 'OPF', 'Capital', 'REGION', 'Sq_living_proj', 'Min_proce_1sqm', \n",
    "               'Min_price_living_r', 'Input_date', 'Bld_price_proj', 'Bld_price_proj_new']\n",
    "    strNOZAKey='obj_id'\n",
    "else:\n",
    "    \n",
    "    lstNOZA_use_cols= ['Отчетная дата',\n",
    "     'Идентификатор дома',\n",
    "     'ИНН юрлица',\n",
    "     'Наименование юрлица',\n",
    "     'Регион',\n",
    "     'Метод обеспечения ответственности',\n",
    "     'Стоимость строительства,\\nруб.',\n",
    "     'Жилая площадь,\\nкв. м',\n",
    "     'Планируемая дата ввода']\n",
    "    lst_NOZA_names=['pub_date', 'obj_id', 'inn', 'Name', 'REGION', 'Resp', 'bld_price', 'sq_living', 'Input_date']\n",
    "    strNOZAKey=['pub_date', 'obj_id']\n",
    "    \n",
    "def NOZA_transform(pdf, file_type=iNOZAFileType):\n",
    "    \"\"\"функция очистки и преобразования таблицы XLS с данными NOZA в Dataframe\"\"\"\n",
    "\n",
    "    pdfN=pdf.rename(columns=dict(zip(lstNOZA_use_cols, lst_NOZA_names))) # переименование колонок\n",
    "    \n",
    "    pdfN=pdfN[pdfN['inn'].notnull() & pdfN['Input_date'].notnull()] # убираем пустые ИНН и даты\n",
    "    pdfN['completion_year']=pdfN['Input_date'].dt.year # выделяем из даты год запланированного ввода в эксплуатацию\n",
    "    pdfN['completion_year']=pdfN['completion_year'].astype(int) \n",
    "    pdfN[strNOZAKey]=pdfN[strNOZAKey].astype(int) \n",
    "     \n",
    "    if file_type==1:\n",
    "        pdfN[['Capital', 'Sq_living_proj', 'Min_proce_1sqm', \n",
    "               'Min_price_living_r', 'Bld_price_proj', 'Bld_price_proj_new']]=pdfN[['Capital', 'Sq_living_proj', 'Min_proce_1sqm', \n",
    "               'Min_price_living_r', 'Bld_price_proj', 'Bld_price_proj_new']].apply(pd.to_numeric)\n",
    "    else:\n",
    "        pdfN[['bld_price', 'sq_living']]=pdfN[['bld_price', 'sq_living']].apply(pd.to_numeric)\n",
    "        pdfN['pub_date']=pd.to_datetime(pdfN['pub_date'], format='%Y-%m-%d')\n",
    "        pdfN=pdfN.loc[pdfN['pub_date']==pdfN.sort_values(by='pub_date', ascending=False)['pub_date'].iloc[0], :] # выбираем данные по последней отчетной дате\n",
    "#         pdfN['pub_date']=pd.to_datetime(pdfN['pub_date'], format='%Y-%m-%d') \n",
    "    return pdfN.set_index(strNOZAKey)"
   ]
  },
  {
   "cell_type": "markdown",
   "metadata": {},
   "source": [
    "### Чтение данных из файла xlsx"
   ]
  },
  {
   "cell_type": "code",
   "execution_count": 38,
   "metadata": {},
   "outputs": [
    {
     "name": "stdout",
     "output_type": "stream",
     "text": [
      "Прочитано из файла Excel -  (111706, 9)\n",
      "После очистки -  (9614, 8)\n",
      "==================================================\n",
      "                          inn                             Name  \\\n",
      "pub_date   obj_id                                                \n",
      "2020-03-26 2230    5321078745                      ПРОЕКТСТРОЙ   \n",
      "           2569    4632005459  МКП УКС АДМИНИСТРАЦИИ Г. КУРСКА   \n",
      "           4796    2311231205                 НЕМЕЦКАЯ ДЕРЕВНЯ   \n",
      "           4892    2311231205                 НЕМЕЦКАЯ ДЕРЕВНЯ   \n",
      "           29059   7448046410                      СЗ 10-Й ДОМ   \n",
      "\n",
      "                                 REGION  \\\n",
      "pub_date   obj_id                         \n",
      "2020-03-26 2230    Новгородская область   \n",
      "           2569         Курская область   \n",
      "           4796      Краснодарский край   \n",
      "           4892      Краснодарский край   \n",
      "           29059    Челябинская область   \n",
      "\n",
      "                                                                Resp  \\\n",
      "pub_date   obj_id                                                      \n",
      "2020-03-26 2230    Соответствуют критериям ПП РФ №480 (продажи бе...   \n",
      "           2569    Соответствуют критериям ПП РФ №480 (продажи бе...   \n",
      "           4796     Осуществляют строительство без средств дольщиков   \n",
      "           4892     Осуществляют строительство без средств дольщиков   \n",
      "           29059           Предусмотрено использование счетов эскроу   \n",
      "\n",
      "                   bld_price  sq_living Input_date  completion_year  \n",
      "pub_date   obj_id                                                    \n",
      "2020-03-26 2230    286936000    7857.22 2020-09-30             2020  \n",
      "           2569    198773600    7162.27 2020-06-30             2020  \n",
      "           4796     27934336     795.80 2022-06-30             2022  \n",
      "           4892     22588200     677.85 2020-12-31             2020  \n",
      "           29059   699660224   16016.04 2020-09-30             2020  \n"
     ]
    }
   ],
   "source": [
    "# тип ИНН - string устанавливаем именно здесь, чтобы не возиться с лидирующими нулями\n",
    "if iNOZAFileType==1:\n",
    "    pdfNOZA=pd.read_excel(strNOZA_XLSX, header=3, usecols=lstNOZA_use_cols,  dtype={'ИНН застройщика':str}) # читаем данные из Excel\n",
    "else:\n",
    "    pdfNOZA=pd.read_excel(strNOZA_XLSX, sheet_name=strNOZA_sheet, usecols=lstNOZA_use_cols,  dtype={'ИНН юрлица':str}) # читаем данные из Excel\n",
    "    \n",
    "print('Прочитано из файла Excel - ', pdfNOZA.shape)\n",
    "# print(pdfNOZA)\n",
    "pdfNOZA=NOZA_transform(pdfNOZA)\n",
    "print('После очистки - ', pdfNOZA.shape)\n",
    "print('='*50)\n",
    "print(pdfNOZA.head())"
   ]
  },
  {
   "cell_type": "markdown",
   "metadata": {},
   "source": [
    "### Запись подготовленного фрейма в рабочую базу\n",
    "*Используется доработанный класс `DataFrame` - `DataFrameDATA` для возможности полноценного использования `UPSERT` - добавления отсутсвующих записей и обновления существующих* "
   ]
  },
  {
   "cell_type": "code",
   "execution_count": null,
   "metadata": {},
   "outputs": [],
   "source": [
    "_pdf=pds.DataFrameDATA(pdfNOZA)\n",
    "\n",
    "_pdf.to_sql(strNOZA_table, con=conWork, if_exists='upsert', chunksize=int(1e4))\n",
    "\n",
    "print('Done writing to SQLite3 {} to table {}'.format(strBasePath, strNOZA_table), _pdf.shape)\n",
    "_ser=pd.Series(dict(zip(lst_NOZA_names, lstNOZA_use_cols)), name='col_name')\n",
    "_ser.at['completion_year']= 'Год планируемого ввода'\n",
    "_ser.to_sql(strNOZA_data_pass, con=conWork, if_exists='replace')\n",
    "\n",
    "print('Done writing NOZA columns names to SQLite3 {} to table {}'.format(strBasePath, strNOZA_data_pass))\n",
    "\n",
    "_=conWork.execute('''INSERT OR REPLACE INTO {tab_info}(utable, udate) VALUES\n",
    "('{table_name}', '{update_date}') '''.format(tab_info=strInfoTable, \n",
    "                                          update_date=dt.datetime.now().strftime('%Y-%m-%d'), table_name=strNOZA_table))"
   ]
  },
  {
   "cell_type": "markdown",
   "metadata": {},
   "source": [
    "### Подготовка запросов для таблицы NOZA\n",
    "Так как имеется два формата данных NOZA (а, возможно, будет и больше) для каждого формата создается отдельный агрегирующий запрос.  \n",
    "Запрос, построенных для другого типа исходного формата данных, в базе работать не будет"
   ]
  },
  {
   "cell_type": "code",
   "execution_count": null,
   "metadata": {},
   "outputs": [],
   "source": [
    "if iNOZAFileType==1:\n",
    "    pass # пока не реализовано, основной формат = 2\n",
    "elif iNOZAFileType==2:\n",
    "    strNOZA_CreateAGGview='''\n",
    "create view if not exists noza_ag as\n",
    "select {noza_table}.pub_date, {noza_table}.inn, {noza_table}.completion_year, \n",
    "sum({noza_table}.bld_price) as price, sum({noza_table}.sq_living) as square\n",
    "from {noza_table}\n",
    "group by {noza_table}.pub_date, {noza_table}.inn, {noza_table}.completion_year;\n",
    "    '''.format(noza_table=strNOZA_table)\n",
    "else:\n",
    "    pass\n",
    "conWork.execute(strNOZA_CreateAGGview)\n",
    "\n",
    "print('done create')"
   ]
  },
  {
   "cell_type": "markdown",
   "metadata": {},
   "source": [
    "### Подготовка данных для запроса в базу данных SPARK\n",
    "\n",
    "Из базы данных SPARK запрашиваем данные только для тех компаний, которые имеются в базе данных NOZA. Для запроса используем список ИНН компаний из NOZA (только уникальные).\n",
    "\n",
    "Список сохраняем в csv (txt) файле, этот файл передаем на вход сервиса SPARK"
   ]
  },
  {
   "cell_type": "code",
   "execution_count": 39,
   "metadata": {},
   "outputs": [
    {
     "name": "stdout",
     "output_type": "stream",
     "text": [
      "3339 ИНН записано в файл ../DB/Temp/inn_2020_12_03.csv\n"
     ]
    }
   ],
   "source": [
    "strFileINN=strNOZA_inn.format(date=dt.datetime.now().strftime('%Y_%m_%d'))\n",
    "# pdfNOZA.inn.unique().to_csv(strFileINN, sep=';', encoding='cp1251')\n",
    "with open(strFileINN, 'w') as inn_file:\n",
    "    for i in pdfNOZA.inn.unique():\n",
    "        inn_file.write(i + '\\n')\n",
    "\n",
    "print('{cnt} ИНН записано в файл {name}'.format(cnt=len(pdfNOZA.inn.unique()), name= strFileINN))"
   ]
  },
  {
   "cell_type": "markdown",
   "metadata": {},
   "source": [
    "## База данных SPARK\n",
    "\n",
    "**Использование в модели:** для промежуточного моделирования (ROA, Z_A), для конечной модели  \n",
    "**Источник данных:** xlsx-файл с данными, скачиваемый из системы СПАРК (система платная)  \n",
    "**Расположение:** передается в виде файла, оптимально располагается в каталоге ../DB/SRC  \n",
    "\n",
    "**Алгоритм обработки:**\n",
    "- читаем даные из файла xlsx, там один лист с данными \n",
    "- преобразуем данные в нужный формат (см. **Особенности** нижд) \n",
    "- выбираем нужные поля (_'Дебиторская задолженность, RUB', 'Активы  всего, RUB', 'Уставный капитал , RUB', 'Кредиторская задолженность, RUB', 'Чистая прибыль (убыток), RUB', 'Рентабельность активов (ROA), %'_)\n",
    "- После преобразования получившиеся колонки переименовываются в удобные для работы названия\n",
    "- Корректируются типы колонок (эти 6 полей должны иметь тип `float`), поле `ИНН` (`inn`) - `string`, поле `year` - `int`\n",
    "- Удяляются записи с пустыми значениями в полях `inn` и `year`\n",
    "- Для получившегося `DataFrame` устанавливаются в качестве индексов комбинация полей `inn` и `year`\n",
    "- Получившийся `DataFrame` записываем в таблицу `strSPARK_table` базы данных `strBasePath`\n",
    "\n",
    "\n",
    "**Особенности**:\n",
    "<p>База SPARK представляет собой файл MS Excel, сформированный программой выдачи интернет-ресурса</p>\n",
    "<p>Особенность формата: годовые данные выводятся в колонках, при этом имя колонки содержит номер года и название поля, то есть : </p>\n",
    "\n",
    "| 2015, Активы  всего, RUB | 2016, Активы  всего, RUB |\t2017, Активы  всего, RUB | ... |  \n",
    "|--------------------------|--------------------------|--------------------------|-----|\n",
    "| 13 222 000 | 103 491 000 |\t126 160 000 | ... |\n",
    "\n",
    "<p>Необходимо разделить названия и года, преобразовать из широкого представления данных в длинный, то есть к виду: <p>\n",
    "\n",
    "| year | Активы  всего, RUB | ... |  \n",
    "|------|----------------|-----|\n",
    "| 2015 | 13 222 000     | ... |\n",
    "|------|----------------|-----|\n",
    "| 2016 | 103 491 000    | ... |\n",
    "|------|----------------|-----|\n",
    "| 2017 | 126 160 000    | ... |\n",
    "    \n",
    "### Константы и определения:"
   ]
  },
  {
   "cell_type": "code",
   "execution_count": 40,
   "metadata": {},
   "outputs": [],
   "source": [
    "strSPARK_XLSX=path.join(strDB_SRC_Path, 'SPARK.xlsx') # пусть к файлу с исходными даными для BD (SPARK)\n",
    "\n",
    "# поля базы данных SPARK, используемые для хранения и расчетов \n",
    "# (кроме этих полей выбираются так же все поля, имеющие 4 цифры года в заголовке)\n",
    "lstSPARK_use_cols=['Наименование',\n",
    " 'Дата ликвидации',\n",
    " 'Код налогоплательщика',\n",
    " 'Регион регистрации']\n",
    "\n",
    "# список новых имен для используемых полей базы SPARK (порядок соотв. предыдущему списку)\n",
    "lst_SPARK_names=['Name', 'Cancel_date', 'inn', 'REGION']\n",
    "\n",
    "# словарь переименования полей базы данных SPARK, содержащих год в заголовке (цифры года уйдут в новое поле индекса)\n",
    "dctDFS={'receivables':'Дебиторская задолженность, RUB', 'actives':'Активы  всего, RUB', \n",
    "            'capital':'Уставный капитал , RUB', 'acc_pay':'Кредиторская задолженность, RUB', \n",
    "            'profit':r'Чистая прибыль \\(убыток\\), RUB', 'roa':r'Рентабельность активов \\(ROA\\), %'}\n",
    "\n",
    "lstSPARKIndexFields=['year', 'inn'] # список ключевых полей для SPARK\n",
    "\n",
    "def SPARK_transform(pdf):\n",
    "    \"\"\" подготовка базы данных СПАРК для использования в обучающей последовательности \"\"\"\n",
    "    \n",
    "    dctRes=dict()\n",
    "    \n",
    "    # p_name=pdfSPARK[['INN', 'Name', 'REGION']].drop_duplicates().set_index('INN')\n",
    "\n",
    "    _use_cols1=lstSPARK_use_cols+[c for c in pdf.columns if re.match(r'\\d{4}', c)] # список: заданные колонки и колонки, начинающиеся с года\n",
    "    pdfSrc=pdf[_use_cols1].rename(columns=dict(zip(lstSPARK_use_cols, lst_SPARK_names))) # переименовываем в новые названия для базы \n",
    "\n",
    "    for k, v in dctDFS.items():\n",
    "        _use_cols=['inn',]+[c for c in pdf.columns if re.search(v, c)] # список: ИНН и колонки, начинающиеся с года\n",
    "        _pdf=pdfSrc[pdfSrc['inn'].notnull()] # новый ДатаФрейм, очищенный от пропусков ИНН\n",
    "        _pdf=_pdf[_use_cols].set_index('inn') # ДатаФрейм с ИНН и одним показателем по нескольким годам\n",
    "        _pdf.columns=_pdf.columns.str[:4].astype(int)\n",
    "        _pdf=_pdf.unstack()\n",
    "        _pdf.index.levels[0].astype(int)\n",
    "        _pdf.name=k\n",
    "        dctRes.setdefault(k, _pdf)\n",
    "        \n",
    "    pdfRes=pd.DataFrame(dctRes).join(pdfSrc[lst_SPARK_names].set_index('inn'), on='inn')\n",
    "    pdfRes.index.names=lstSPARKIndexFields\n",
    "    return pdfRes"
   ]
  },
  {
   "cell_type": "markdown",
   "metadata": {},
   "source": [
    "### Чтение данных из файла"
   ]
  },
  {
   "cell_type": "code",
   "execution_count": 41,
   "metadata": {},
   "outputs": [
    {
     "name": "stdout",
     "output_type": "stream",
     "text": [
      "Прочитано из файла Excel -  (8674, 39)\n",
      "(8674, 39)\n",
      "После очистки -  (43440, 9)\n",
      "==================================================\n",
      "                 receivables      actives    capital      acc_pay     profit  \\\n",
      "year inn                                                                       \n",
      "2015 3906245291          NaN          NaN        NaN          NaN        NaN   \n",
      "     3801132195    3414000.0   13222000.0        NaN    1656000.0   516000.0   \n",
      "     5050102110  139989000.0  973110000.0    10000.0  512847000.0  1556000.0   \n",
      "     7448046410          NaN      10000.0        NaN          NaN        NaN   \n",
      "     1840032987   17597000.0   62803000.0  5050000.0   46430000.0    34000.0   \n",
      "\n",
      "                    roa                                            Name  \\\n",
      "year inn                                                                  \n",
      "2015 3906245291     NaN                     1 СТРОИТЕЛЬНЫЙ ХОЛДИНГ, ООО   \n",
      "     3801132195  0.0781        1-ДСК, ООО СПЕЦИАЛИЗИРОВАННЫЙ ЗАСТРОЙЩИК   \n",
      "     5050102110  0.0020                                 10 КВАРТАЛ, ООО   \n",
      "     7448046410     NaN     10-Й ДОМ, ООО СПЕЦИАЛИЗИРОВАННЫЙ ЗАСТРОЙЩИК   \n",
      "     1840032987  0.0009  1000 ЭТАЖЕЙ, ООО СПЕЦИАЛИЗИРОВАННЫЙ ЗАСТРОЙЩИК   \n",
      "\n",
      "                Cancel_date                   REGION  \n",
      "year inn                                              \n",
      "2015 3906245291         NaT  Калининградская область  \n",
      "     3801132195         NaT        Иркутская область  \n",
      "     5050102110         NaT       Московская область  \n",
      "     7448046410         NaT      Челябинская область  \n",
      "     1840032987         NaT    Удмуртская Республика  \n"
     ]
    }
   ],
   "source": [
    "# для заполнения СПАРК ист-данными - раскомментировать следующее\n",
    "# strSPARK_hist1='СПАРК_Выборка_компаний_20200723_1612.xlsx'\n",
    "# strSPARK_hist2='СПАРК_Выборка_компаний_20200723_1609.xlsx'\n",
    "# strSPARK_hist3='СПАРК_Выборка_компаний_20200723_1614.xlsx' # !!! глючит!! дубликаты в базе !!!\n",
    "\n",
    "# strSP_path=path.join('DB', 'SRC', strSPARK_hist2) # для заполнения базы СПАРК данными предшествующих годов (база позволяет выкачивать по 5 лет за один раз)\n",
    "# pdfSPARK=pd.read_excel(strSP_path, header=3, dtype={'Код налогоплательщика':str})\n",
    "#----------------------------------------\n",
    "\n",
    "# для заполнения последней точки - раскомментировать следующее\n",
    "pdfSPARK=pd.read_excel(strSPARK_XLSX, header=3, dtype={'Код налогоплательщика':str})\n",
    "#---------------------------------------\n",
    "\n",
    "print('Прочитано из файла Excel - ', pdfSPARK.shape)\n",
    "print(pdfSPARK.shape)\n",
    "# pdfSPARK[pdfSPARK['Код налогоплательщика'].duplicated(keep=False)].to_csv('dupls.csv', sep=';')\n",
    "pdfSPARK=SPARK_transform(pdfSPARK)\n",
    "print('После очистки - ', pdfSPARK.shape)\n",
    "print('='*50)\n",
    "print(pdfSPARK.head())"
   ]
  },
  {
   "cell_type": "markdown",
   "metadata": {},
   "source": [
    "### Запись подготовленного фрейма в рабочую базу\n",
    "\n",
    "*Используется доработанный класс `DataFrame` - `DataFrameDATA` для возможности полноценного использования `UPSERT` - добавления отсутсвующих записей и обновления существующих* "
   ]
  },
  {
   "cell_type": "code",
   "execution_count": null,
   "metadata": {},
   "outputs": [],
   "source": [
    "_pdf=pds.DataFrameDATA(pdfSPARK.copy())\n",
    "try:\n",
    "    _pdf['Cancel_date']=_pdf['Cancel_date'].dt.strftime('%Y-%m-%d') # преобразование в строку чтобы убрать NaT (в SQLite все равно в строке лежит)\n",
    "except AttributeError: # уже в строке\n",
    "    pass\n",
    "    \n",
    "_pdf.to_sql(strSPARK_table, con=conWork, if_exists='upsert', chunksize=int(1e4))\n",
    "\n",
    "print('Done writing to SQLite3 {} to table {}'.format(strBasePath, strSPARK_table), _pdf.shape)\n",
    "\n",
    "dctSPARK_pass=dict(zip(lst_SPARK_names, lstSPARK_use_cols))\n",
    "dctSPARK_pass.update({k:v.replace('\\\\', '') for k, v in dctDFS.items()})\n",
    "pd.Series(dctSPARK_pass, name='col_name').to_sql(strSPARK_data_pass, con=conWork, if_exists='replace')\n",
    "\n",
    "print('Done writing SPARK columns names to SQLite3 {} to table {}'.format(strBasePath, strSPARK_data_pass))\n",
    "\n",
    "_=conWork.execute('''INSERT OR REPLACE INTO {tab_info}(utable, udate) VALUES\n",
    "('{table_name}', '{update_date}') '''.format(tab_info=strInfoTable, \n",
    "                                          update_date=dt.datetime.now().strftime('%Y-%m-%d'), table_name=strSPARK_table))"
   ]
  },
  {
   "cell_type": "markdown",
   "metadata": {},
   "source": [
    "### Подготовка запросов для таблицы SPARK\n",
    "Данные модель будет получать посредством этого запроса\n",
    "\n",
    "Готовим два варианта запроса:\n",
    "  1. ROA компании используется из базы данных, не расчитывается; Z_A компании считается по формуле:\n",
    "  \n",
    "$Z\\_A = |\\frac{(КРЕДИТОРСКАЯ\\_ЗАДОЛЖЕННОСТЬ - ДЕБИТОРСКАЯ\\_ЗАДОЛЖЕННОСТЬ)}{АКТИВЫ\\_ВСЕГО}|$\n",
    "      \n",
    "      \n",
    "      \n",
    "  2. ROA компании расчитывается по формуле: \n",
    "  \n",
    "$ROA = ЧИСТАЯ\\_ПРИБЫЛЬ - АКТИВЫ\\_ВСЕГО$\n",
    "      \n",
    "      Z_A компании считается по формуле:\n",
    "      \n",
    "$Z\\_A=|\\dfrac{(КРЕДИТОРСКАЯ\\_ЗАДОЛЖЕННОСТЬ - ДЕБИТОРСКАЯ\\_ЗАДОЛЖЕННОСТЬ)}{АКТИВЫ\\_ВСЕГО}|$"
   ]
  },
  {
   "cell_type": "code",
   "execution_count": null,
   "metadata": {},
   "outputs": [],
   "source": [
    "strSPARK_CreateAGGview='''\n",
    "create view if not exists spark_ag as\n",
    "select {spark_table}.inn, {spark_table}.year, {spark_table}.capital, {spark_table}.Cancel_date, \n",
    "{spark_table}.roa as ROA, \n",
    "abs( ({spark_table}.acc_pay-{spark_table}.receivables )/{spark_table}.actives) as Z_A\n",
    "from {spark_table};\n",
    "    '''.format(spark_table=strSPARK_table)\n",
    "\n",
    "strSPARK_CreateAGGview_ROA_CALC='''\n",
    "create view if not exists spark_ag_roa_calc as\n",
    "select {spark_table}.inn, {spark_table}.year, {spark_table}.capital, {spark_table}.Cancel_date, \n",
    "({spark_table}.profit - {spark_table}.actives) as ROA, \n",
    "abs( ({spark_table}.acc_pay-{spark_table}.receivables )/{spark_table}.actives) as Z_A\n",
    "from {spark_table};\n",
    "    '''.format(spark_table=strSPARK_table)\n",
    "\n",
    "conWork.execute(strSPARK_CreateAGGview)\n",
    "conWork.execute(strSPARK_CreateAGGview_ROA_CALC)\n",
    "\n",
    "print('done create')"
   ]
  },
  {
   "cell_type": "markdown",
   "metadata": {},
   "source": [
    "## База данных кредитной ставки с сайта ЦБР\n",
    "\n",
    "**Использование в модели:** для промежуточного моделирования (LOAN)  \n",
    "**Источник данных:** http://cbr.ru/statistics/bank_sector/int_rat/   \n",
    "&nbsp;&nbsp;&nbsp;&nbsp;На странице источника ищем ссылки с ключевым текстом \"Сведения по кредитам в рублях, долларах США и евро нефинансовым организациям\"  \n",
    "**Расположение:** Интернет  \n",
    "\n",
    "**Алгоритм обработки:**\n",
    "- находим на сайте ЦБ РФ ссылки по ключевому тексту\n",
    "- читаем по ссылкам файлы xlsx, нужный лист - `ставки_руб`, нужный столбец - `F`\n",
    "- преобразуем поля к нужному типу, записывем в таблицу в базе данных\n",
    "\n",
    "### Константы и определения:"
   ]
  },
  {
   "cell_type": "code",
   "execution_count": 42,
   "metadata": {},
   "outputs": [],
   "source": [
    "strCBR_LOAN_SRC=r'http://cbr.ru/statistics/bank_sector/int_rat/' # основной адрес с источниками данных\n",
    "\n",
    "strKeyText='Сведения по кредитам в рублях, долларах США и евро нефинансовым организациям'.replace(' ', '\\s+') # ключевой текст для поиска нужныйх файлов\n",
    "\n",
    "re_t=re.compile(strKeyText)\n",
    "\n",
    "def find_link(div_tags):\n",
    "    # поиск нужного файла, определенияего даты\n",
    "    for d in div_tags:\n",
    "        if d.find('span', class_='document-regular_name_visible', text=re_t) and d.find('div', class_='document-regular_comment', text=re.compile('в целом по Российской Федерации'.replace(' ', '\\s'))):\n",
    "            pub_date=dt.datetime.strptime(d.find('div', class_='document-regular_date').text.strip(), '%d.%m.%Y')\n",
    "            a=d.find('a')\n",
    "            \n",
    "            print('Найден файл с нужными данныи, дата публикации {date}, ссылка - {link}'.format(date=pub_date.date(), link=a['href']))\n",
    "            return pub_date, a['href']\n",
    "\n",
    "\n",
    "def convert_date(x):\n",
    "    # преобразование даты (чтобы не возиться с локалями)\n",
    "    dct_month_transl={'Январь':1, 'Февраль':2, 'Март':3, 'Апрель':4, 'Май':5, 'Июнь':6, \n",
    "                  'Июль':7, 'Август':8, 'Сентябрь':9, 'Октябрь':10, 'Ноябрь':11, 'Декабрь':12}\n",
    "    dtp=x.split(' ')\n",
    "    return dt.date(int(dtp[1]), dct_month_transl[dtp[0]], 1)"
   ]
  },
  {
   "cell_type": "markdown",
   "metadata": {},
   "source": [
    "### Чтение данных  \n",
    "- читаем страницу из Сети, определяем ссылки\n",
    "- читаем файл по ссылке, преобразуем в нужные форматы, получаем фрейм с данными"
   ]
  },
  {
   "cell_type": "markdown",
   "metadata": {},
   "source": [
    "#### Чтение исторических данных по ставке (с 2010 по 2013)  - для выполнения сделать ячейку \"кодовой\" и выполнить\n",
    "```Python\n",
    "    \n",
    "def get_historical_loan_data(lstYs=list(range(10, 14))):\n",
    "    dct_month_transl={'Январь':1, 'Февраль':2, 'Март':3, 'Апрель':4, 'Май':5, 'Июнь':6, \n",
    "                  'Июль':7, 'Август':8, 'Сентябрь':9, 'Октябрь':10, 'Ноябрь':11, 'Декабрь':12}\n",
    "    \n",
    "    strHistLoanURL=r'http://cbr.ru/statistics/b_sector/rates_cr-no-r_{year02}/'\n",
    "    \n",
    "    strsrc='.*(' + ')|('.join(list(dct_month_transl.keys())) + ').*'\n",
    "    lst_res=[]\n",
    "    \n",
    "    for y in lstYs:\n",
    "        resp_l=requests.get(strHistLoanURL.format(year02=y))\n",
    "        loan_sp=BeautifulSoup(resp_l.text, 'html.parser')\n",
    "        loan_data=loan_sp.find('table', class_='data')\n",
    "        try:\n",
    "            trs=loan_data.find_all('tr')#, text=re.compile(strsrc))\n",
    "        except AttributeError:\n",
    "            print('for year {year} has no data'.format(year=y))\n",
    "            continue\n",
    "            \n",
    "        for i, r in enumerate(trs):\n",
    "            f_month=re.search(strsrc, r.text)\n",
    "            if f_month:\n",
    "                hs=r.find_all('td')\n",
    "                lst_res.append({'date':dt.date(day=1, month=dct_month_transl[f_month[0]], year=2000+y), 'loan_nonfin':hs[5].text})\n",
    "\n",
    "    return lst_res\n",
    "\n",
    "_hist_loan=pds.DataFrameDATA(get_historical_loan_data()).set_index('date')\n",
    "_hist_loan=_hist_loan.applymap(lambda x: float(x.replace(',', '.')))\n",
    "\n",
    "_hist_loan.to_sql(strLOAN_table, con=conWork, if_exists='upsert')\n",
    "print('writes to LOAN table {} records'.format(_hist_loan.shape[0]))\n",
    "```"
   ]
  },
  {
   "cell_type": "code",
   "execution_count": 43,
   "metadata": {},
   "outputs": [
    {
     "name": "stdout",
     "output_type": "stream",
     "text": [
      "Найдено инфо-тегов 31\n",
      "Найден файл с нужными данныи, дата публикации 2020-11-12, ссылка - /vfs/statistics/pdko/int_rat/loans_nonfin.xlsx\n"
     ]
    }
   ],
   "source": [
    "resp=requests.get(strCBR_LOAN_SRC)\n",
    "\n",
    "loan_soup=BeautifulSoup(resp.text)\n",
    "\n",
    "div_docs=loan_soup.findAll('div', class_='document-regular')\n",
    "\n",
    "print('Найдено инфо-тегов', len(div_docs))\n",
    "\n",
    "loan_pub_date, loan_href=find_link(div_docs)"
   ]
  },
  {
   "cell_type": "code",
   "execution_count": 44,
   "metadata": {},
   "outputs": [
    {
     "data": {
      "text/html": [
       "<div>\n",
       "<style scoped>\n",
       "    .dataframe tbody tr th:only-of-type {\n",
       "        vertical-align: middle;\n",
       "    }\n",
       "\n",
       "    .dataframe tbody tr th {\n",
       "        vertical-align: top;\n",
       "    }\n",
       "\n",
       "    .dataframe thead th {\n",
       "        text-align: right;\n",
       "    }\n",
       "</style>\n",
       "<table border=\"1\" class=\"dataframe\">\n",
       "  <thead>\n",
       "    <tr style=\"text-align: right;\">\n",
       "      <th></th>\n",
       "      <th>loan_nonfin</th>\n",
       "    </tr>\n",
       "    <tr>\n",
       "      <th>date</th>\n",
       "      <th></th>\n",
       "    </tr>\n",
       "  </thead>\n",
       "  <tbody>\n",
       "    <tr>\n",
       "      <th>2014-01-01</th>\n",
       "      <td>9.15</td>\n",
       "    </tr>\n",
       "    <tr>\n",
       "      <th>2014-02-01</th>\n",
       "      <td>9.43</td>\n",
       "    </tr>\n",
       "    <tr>\n",
       "      <th>2014-03-01</th>\n",
       "      <td>10.29</td>\n",
       "    </tr>\n",
       "    <tr>\n",
       "      <th>2014-04-01</th>\n",
       "      <td>10.53</td>\n",
       "    </tr>\n",
       "    <tr>\n",
       "      <th>2014-05-01</th>\n",
       "      <td>10.60</td>\n",
       "    </tr>\n",
       "    <tr>\n",
       "      <th>...</th>\n",
       "      <td>...</td>\n",
       "    </tr>\n",
       "    <tr>\n",
       "      <th>2020-05-01</th>\n",
       "      <td>7.28</td>\n",
       "    </tr>\n",
       "    <tr>\n",
       "      <th>2020-06-01</th>\n",
       "      <td>6.89</td>\n",
       "    </tr>\n",
       "    <tr>\n",
       "      <th>2020-07-01</th>\n",
       "      <td>6.27</td>\n",
       "    </tr>\n",
       "    <tr>\n",
       "      <th>2020-08-01</th>\n",
       "      <td>6.02</td>\n",
       "    </tr>\n",
       "    <tr>\n",
       "      <th>2020-09-01</th>\n",
       "      <td>6.15</td>\n",
       "    </tr>\n",
       "  </tbody>\n",
       "</table>\n",
       "<p>81 rows × 1 columns</p>\n",
       "</div>"
      ],
      "text/plain": [
       "            loan_nonfin\n",
       "date                   \n",
       "2014-01-01         9.15\n",
       "2014-02-01         9.43\n",
       "2014-03-01        10.29\n",
       "2014-04-01        10.53\n",
       "2014-05-01        10.60\n",
       "...                 ...\n",
       "2020-05-01         7.28\n",
       "2020-06-01         6.89\n",
       "2020-07-01         6.27\n",
       "2020-08-01         6.02\n",
       "2020-09-01         6.15\n",
       "\n",
       "[81 rows x 1 columns]"
      ]
     },
     "execution_count": 44,
     "metadata": {},
     "output_type": "execute_result"
    }
   ],
   "source": [
    "pdf_loan=pd.read_excel(urljoin(strCBR_LOAN_SRC, loan_href), sheet_name='ставки_руб.', \n",
    "                       skiprows=4, usecols='A, F').dropna()\n",
    "\n",
    "pdf_loan.columns=['date', 'loan_nonfin']\n",
    "pdf_loan['date']=pdf_loan['date'].apply(convert_date)\n",
    "pdf_loan.set_index('date', inplace=True)\n",
    "pdf_loan"
   ]
  },
  {
   "cell_type": "markdown",
   "metadata": {},
   "source": [
    "### Запись фрейма в базу данных"
   ]
  },
  {
   "cell_type": "code",
   "execution_count": 19,
   "metadata": {},
   "outputs": [],
   "source": [
    "_pdf=pds.DataFrameDATA(pdf_loan.copy())\n",
    "_pdf.to_sql(strLOAN_table, con=conWork, if_exists='upsert', chunksize=int(1e4))\n",
    "\n",
    "pds.DataFrameDATA([{'index':'date', 'col_name': '''Средневзвешенные процентные ставки по кредитам, \n",
    "предоставленным кредитными организациями нефинансовым организациям в рублях, до 1 года, \n",
    "включая \"до востребования\"'''}] ).set_index('index').to_sql(strLOAN_data_pass, con=conWork, if_exists='upsert')\n",
    "\n",
    "_=conWork.execute('''INSERT OR REPLACE INTO {tab_info}(utable, udate) VALUES\n",
    "('{table_name}', '{update_date}') '''.format(tab_info=strInfoTable, \n",
    "                                          update_date=dt.datetime.now().strftime('%Y-%m-%d'), \n",
    "                                             table_name=strLOAN_table))"
   ]
  },
  {
   "cell_type": "markdown",
   "metadata": {},
   "source": [
    "создание таблицы с описанием колонок loan и запроса выдачи данных"
   ]
  },
  {
   "cell_type": "code",
   "execution_count": 8,
   "metadata": {},
   "outputs": [],
   "source": [
    "strLOAN_CreateView_LOAN='''\n",
    "create view if not exists loan_agg as\n",
    "select {loan_table}.date, {loan_table}.loan_nonfin\n",
    "from {loan_table};\n",
    "    '''.format(loan_table=strLOAN_table)\n",
    "\n",
    "_=conWork.execute(strLOAN_CreateView_LOAN)"
   ]
  },
  {
   "cell_type": "markdown",
   "metadata": {},
   "source": [
    "## Данные по ссудам (таблица 47) и резервам (таблица 51) из \"Обзор банковского сектора Российской Федерации\"\n",
    "\n",
    "\n",
    "**Использование в модели:** для промежуточного моделирования (LOAN)  \n",
    "**Источник данных:** http://cbr.ru/statistics/bank_sector/   \n",
    "&nbsp;&nbsp;Читаем только Excel-файлы (ист. данные из pdf-файлов уже скачены заранее и лежат в базе). Если надо создать базу заново, то все намного сложнее. Используемые листы:\n",
    "- T47, Кредитный риск, Динамика структуры ссудной задолженности банковского сектора\n",
    "- T51, Характеристики резерва на возможные потери по ссудам (РВПС) по различным группам кредитного риска\n",
    "**Расположение:** Интернет  \n",
    "\n",
    "**Алгоритм обработки:**\n",
    "- находим на сайте ЦБ РФ нужные ссылки  \n",
    "- выбираем файл с последней датой, экспресс-обзор игнорируется  \n",
    "- читаем таблицы 47 и 51, из 47-й читаем проценты, из 51-й читаем только \"Фактически сформированный резерв, в % от ссудной задолженности данной категории качества\"\n",
    "- формируем фреймы, записываем в базу данных\n",
    "\n",
    "### Константы и определения:"
   ]
  },
  {
   "cell_type": "code",
   "execution_count": 45,
   "metadata": {},
   "outputs": [],
   "source": [
    "strURL_=r'http://cbr.ru/statistics/bank_sector/review/'\n",
    "\n",
    "strLendTable='lending'\n",
    "strLendPRC='lending_persc'\n",
    "strLendReserv='lending_reserv'\n",
    "\n",
    "# словарь для конверсии русских дат в нормальные (чтобы не возиться с локалями)\n",
    "dct_month={'январь':'Jan', 'февраль':'Feb', 'март':'Mar', 'апрель':'Apr', 'май':'May', 'июнь':'Jun', \n",
    "           'июль':'Jul', 'август':'Aug', 'сентябрь':'Sep', 'октябрь':'Oct', 'ноябрь':'Nov', 'декабрь':'Dec'}\n",
    "\n",
    "\n",
    "# def iterate_group(iterator, count):\n",
    "#     itr = iter(iterator)\n",
    "#     for i in range(0, len(iterator), count):\n",
    "#         yield iterator[i:i + count]"
   ]
  },
  {
   "cell_type": "markdown",
   "metadata": {},
   "source": [
    "### Чтение данных"
   ]
  },
  {
   "cell_type": "code",
   "execution_count": 46,
   "metadata": {},
   "outputs": [
    {
     "name": "stdout",
     "output_type": "stream",
     "text": [
      "<Response [200]>\n"
     ]
    }
   ],
   "source": [
    "resp=requests.get(strURL_)\n",
    "ln2_soup=BeautifulSoup(resp.text)\n",
    "\n",
    "print(resp)"
   ]
  },
  {
   "cell_type": "markdown",
   "metadata": {},
   "source": [
    "Строим список нужный файлов с датой публикацией и текстом ссылки"
   ]
  },
  {
   "cell_type": "code",
   "execution_count": 63,
   "metadata": {},
   "outputs": [
    {
     "name": "stdout",
     "output_type": "stream",
     "text": [
      "some error -  Опубликовано 27 ноября 2020 /Collection/Collection/File/31587/obs_218.xlsx экспресс-выпуск\n",
      "some error -  Опубликовано 03 декабря 2019 /Collection/Collection/File/25496/Metodol_21.pdf Выпуск 21\n",
      "some error -  Опубликовано 17 августа 2016 /Collection/Collection/File/8547/Metodol_20.pdf Выпуск 20\n",
      "some error -  Опубликовано 01 апреля 2014 /Collection/Collection/File/8548/Metodol_19.pdf Выпуск 19\n",
      "some error -  Опубликовано 18 марта 2013 /Collection/Collection/File/8549/Metodol_18.pdf Выпуск 18\n",
      "some error -  Опубликовано 06 августа 2012 /Collection/Collection/File/8550/Metodol_17.pdf Выпуск 17\n",
      "======================================================================\n"
     ]
    },
    {
     "data": {
      "text/html": [
       "<div>\n",
       "<style scoped>\n",
       "    .dataframe tbody tr th:only-of-type {\n",
       "        vertical-align: middle;\n",
       "    }\n",
       "\n",
       "    .dataframe tbody tr th {\n",
       "        vertical-align: top;\n",
       "    }\n",
       "\n",
       "    .dataframe thead th {\n",
       "        text-align: right;\n",
       "    }\n",
       "</style>\n",
       "<table border=\"1\" class=\"dataframe\">\n",
       "  <thead>\n",
       "    <tr style=\"text-align: right;\">\n",
       "      <th></th>\n",
       "      <th>url</th>\n",
       "      <th>date</th>\n",
       "      <th>title</th>\n",
       "    </tr>\n",
       "  </thead>\n",
       "  <tbody>\n",
       "    <tr>\n",
       "      <th>0</th>\n",
       "      <td>http://cbr.ru/Collection/Collection/File/31579...</td>\n",
       "      <td>2020-11-01</td>\n",
       "      <td>2020 г.: ноябрь</td>\n",
       "    </tr>\n",
       "    <tr>\n",
       "      <th>1</th>\n",
       "      <td>http://cbr.ru/Collection/Collection/File/29261...</td>\n",
       "      <td>2020-10-01</td>\n",
       "      <td>2020 г.: октябрь</td>\n",
       "    </tr>\n",
       "    <tr>\n",
       "      <th>2</th>\n",
       "      <td>http://cbr.ru/Collection/Collection/File/29170...</td>\n",
       "      <td>2020-09-01</td>\n",
       "      <td>2020 г.: сентябрь</td>\n",
       "    </tr>\n",
       "    <tr>\n",
       "      <th>3</th>\n",
       "      <td>http://cbr.ru/Collection/Collection/File/28028...</td>\n",
       "      <td>2020-08-01</td>\n",
       "      <td>2020 г.: август</td>\n",
       "    </tr>\n",
       "    <tr>\n",
       "      <th>4</th>\n",
       "      <td>http://cbr.ru/Collection/Collection/File/27973...</td>\n",
       "      <td>2020-07-01</td>\n",
       "      <td>2020 г.: июль</td>\n",
       "    </tr>\n",
       "    <tr>\n",
       "      <th>5</th>\n",
       "      <td>http://cbr.ru/Collection/Collection/File/27902...</td>\n",
       "      <td>2020-06-01</td>\n",
       "      <td>2020 г.: июнь</td>\n",
       "    </tr>\n",
       "    <tr>\n",
       "      <th>6</th>\n",
       "      <td>http://cbr.ru/Collection/Collection/File/27838...</td>\n",
       "      <td>2020-05-01</td>\n",
       "      <td>2020 г.: май</td>\n",
       "    </tr>\n",
       "    <tr>\n",
       "      <th>7</th>\n",
       "      <td>http://cbr.ru/Collection/Collection/File/27388...</td>\n",
       "      <td>2020-03-01</td>\n",
       "      <td>2020 г.: март</td>\n",
       "    </tr>\n",
       "    <tr>\n",
       "      <th>8</th>\n",
       "      <td>http://cbr.ru/Collection/Collection/File/25668...</td>\n",
       "      <td>2020-01-01</td>\n",
       "      <td>2020 г.: январь</td>\n",
       "    </tr>\n",
       "  </tbody>\n",
       "</table>\n",
       "</div>"
      ],
      "text/plain": [
       "                                                 url       date  \\\n",
       "0  http://cbr.ru/Collection/Collection/File/31579... 2020-11-01   \n",
       "1  http://cbr.ru/Collection/Collection/File/29261... 2020-10-01   \n",
       "2  http://cbr.ru/Collection/Collection/File/29170... 2020-09-01   \n",
       "3  http://cbr.ru/Collection/Collection/File/28028... 2020-08-01   \n",
       "4  http://cbr.ru/Collection/Collection/File/27973... 2020-07-01   \n",
       "5  http://cbr.ru/Collection/Collection/File/27902... 2020-06-01   \n",
       "6  http://cbr.ru/Collection/Collection/File/27838... 2020-05-01   \n",
       "7  http://cbr.ru/Collection/Collection/File/27388... 2020-03-01   \n",
       "8  http://cbr.ru/Collection/Collection/File/25668... 2020-01-01   \n",
       "\n",
       "               title  \n",
       "0    2020 г.: ноябрь  \n",
       "1  2020 г.: октябрь   \n",
       "2  2020 г.: сентябрь  \n",
       "3    2020 г.: август  \n",
       "4      2020 г.: июль  \n",
       "5      2020 г.: июнь  \n",
       "6       2020 г.: май  \n",
       "7      2020 г.: март  \n",
       "8    2020 г.: январь  "
      ]
     },
     "execution_count": 63,
     "metadata": {},
     "output_type": "execute_result"
    }
   ],
   "source": [
    "strCBR=r'http://cbr.ru'\n",
    "\n",
    "a_refs=ln2_soup.findAll('a', class_='versions_item')\n",
    "\n",
    "lst_xsl_hrefs=[]\n",
    "\n",
    "for a in a_refs:\n",
    "    try:\n",
    "        iyear=re.search(r'(?m)(?P<year>\\d{4})', a['title']).group('year') \n",
    "        strSM=r'(?m)(?P<month>({months}))'.format(months=')|('.join(dct_month.keys()))\n",
    "        str_month=re.search(strSM, a.text).group('month') \n",
    "#         print(str_month)\n",
    "    except:\n",
    "        print('some error - ', a['title'], a['href'], a.text)\n",
    "        continue\n",
    "        \n",
    "    dtpub=dt.datetime.strptime('1 {month} {year}'.format(month=dct_month[str_month], year= iyear), '%d %b %Y')\n",
    "    \n",
    "    if re.search(r'\\.xls\\w', a['href']) and not bool(re.search('экспресс-выпуск', a.text)):\n",
    "        lst_xsl_hrefs.append({'url':strCBR + a['href'], 'date':dtpub, 'title':a.text})\n",
    "        \n",
    "pdf_files=pd.DataFrame(lst_xsl_hrefs).sort_values(by='date', ascending=False)\n",
    "print('='*70)\n",
    "pdf_files"
   ]
  },
  {
   "cell_type": "markdown",
   "metadata": {},
   "source": [
    "#### Читаем данные по выбранной ссылке (по споследней дате, можно изменить)\n",
    "\n",
    "Читаем три таблицы в три фрейма"
   ]
  },
  {
   "cell_type": "code",
   "execution_count": 92,
   "metadata": {},
   "outputs": [
    {
     "name": "stdout",
     "output_type": "stream",
     "text": [
      "Для обновления берем файл (один) с последней датой -  2020-11-01 00:00:00\n",
      "Читаем по ссылке -  http://cbr.ru/Collection/Collection/File/31579/obs_217.xlsx\n",
      "47           standart  nonstandart  doubtful   problem  hopeless\n",
      "date                                                         \n",
      "1.01.19  43.987777    39.239509  6.649249  2.934367  7.189099\n",
      "1.01.20  41.445623    42.533939  6.727371  2.478985  6.814082\n",
      "1.07.20  40.588374    42.634103  7.201736  2.631722  6.944064\n",
      "1.09.20  39.197872    44.246431  7.009018  2.570800  6.975878\n",
      "1.10.20  39.181985    44.505869  7.010093  2.537782  6.764272\n",
      "51          nonstandart  doubtful  problem  hopeless\n",
      "date                                             \n",
      "1.01.19         2.17     18.08    46.99     81.28\n",
      "1.01.20         2.37     18.33    50.39     82.09\n",
      "1.07.20         2.38     18.04    51.27     83.71\n",
      "1.09.20         2.44     18.26    51.80     83.75\n",
      "1.10.20         2.49     18.44    52.68     84.37\n"
     ]
    }
   ],
   "source": [
    "iLoc=0\n",
    "\n",
    "print('Для обновления берем файл (один) с последней датой - ', pdf_files.iloc[iLoc, 1])\n",
    "\n",
    "href=pdf_files.iloc[iLoc, 0]\n",
    "print('Читаем по ссылке - ', href)\n",
    "\n",
    "def read_excel_bank_review(strUrl):\n",
    "    lst_head=['standart', 'nonstandart', 'doubtful', 'problem', 'hopeless']\n",
    "    \n",
    "    def upwork(pdf, lstHead=lst_head):\n",
    "        _p=pdf.T\n",
    "        _p.columns=lstHead\n",
    "        _p.index.name='date'\n",
    "        _p=_p.astype(float)\n",
    "        return _p\n",
    "        \n",
    "    def read_t51(strUrl):\n",
    "        _p=pd.read_excel(strUrl, sheet_name='T51', header=3,\n",
    "                        usecols='A:K', nrows=4).rename(columns={'Unnamed: 0':'row_head'}).set_index('row_head')\n",
    "#         _p.columns=[re.sub('^0', '', pd.to_datetime(c).strftime('%d.%m.%y'), count=1) for c in _p.columns]\n",
    "        _p.columns=[pd.to_datetime(re.search('\\d{,2}\\.\\d{,2}\\.\\d{,4}', c)[0], format='%d.%m.%y') for c in _p.columns]\n",
    "        _p=_p.iloc[:, _p.shape[1]//2:]\n",
    "        \n",
    "        _p=upwork(_p, lstHead=lst_head[1:])\n",
    "        return pds.DataFrameDATA(_p)\n",
    "    \n",
    "    def read_t47(strUrl):\n",
    "        _p=pd.read_excel(strUrl, sheet_name='T47', header=5, \n",
    "                        usecols='C:M', nrows=5, \n",
    "                        skiprows=[6,] ).rename(columns={'Unnamed: 2':'row_head'}).set_index('row_head')\n",
    "\n",
    "        lst_new_col=[c for c in _p.columns if not re.search('Unnamed\\:', str(c))]\n",
    "        _p1 = _p[[c for c in _p.columns if c not in lst_new_col]]\n",
    "        _p  = _p[lst_new_col]\n",
    "        \n",
    "#         _p.columns=[re.sub('^0', '', c.strftime('%d.%m.%y'), count=1) for c in _p.columns]\n",
    "        _p.columns=[pd.to_datetime(c, format='%d.%m.%y') for c in _p.columns]\n",
    "\n",
    "        _p1.columns=_p.columns\n",
    "        \n",
    "        _p=upwork(_p)\n",
    "        _p1=upwork(_p1)\n",
    "        return pds.DataFrameDATA(_p1), pds.DataFrameDATA(_p)\n",
    "    \n",
    "    t47_prc, t47=read_t47(strUrl)\n",
    "    t51=read_t51(strUrl)\n",
    "    \n",
    "    return t47_prc, t47, t51\n",
    "\n",
    "\n",
    "p47_prct, _, p51=read_excel_bank_review(href)\n",
    "\n",
    "p47_prct.index=p47_prct.index.strftime('%d.%m.%y').str.replace('^0', '', 1)\n",
    "p51.index=p51.index.strftime('%d.%m.%y').str.replace('^0', '', 1)\n",
    "\n",
    "print('47', p47_prct)\n",
    "\n",
    "print('51', p51)"
   ]
  },
  {
   "cell_type": "markdown",
   "metadata": {},
   "source": [
    "### Запись в базу данных информации по ссудам и резервам, обновление таблицы апдейтов"
   ]
  },
  {
   "cell_type": "code",
   "execution_count": 93,
   "metadata": {},
   "outputs": [],
   "source": [
    "# p47.to_sql(strLendTable, con=conWork, if_exists='upsert')\n",
    "# _=conWork.execute('''INSERT OR REPLACE INTO {tab_info}(utable, udate) VALUES\n",
    "# ('{table_name}', '{update_date}') '''.format(tab_info=strInfoTable, \n",
    "#                                           update_date=dt.datetime.now().strftime('%Y-%m-%d'), \n",
    "#                                              table_name=strLendTable))\n",
    "\n",
    "p47_prct.to_sql(strLendPRC, con=conWork, if_exists='upsert')\n",
    "_=conWork.execute('''INSERT OR REPLACE INTO {tab_info}(utable, udate) VALUES\n",
    "('{table_name}', '{update_date}') '''.format(tab_info=strInfoTable, \n",
    "                                          update_date=dt.datetime.now().strftime('%Y-%m-%d'), \n",
    "                                             table_name=strLendPRC))\n",
    "\n",
    "p51.to_sql(strLendReserv, con=conWork, if_exists='upsert')\n",
    "_=conWork.execute('''INSERT OR REPLACE INTO {tab_info}(utable, udate) VALUES\n",
    "('{table_name}', '{update_date}') '''.format(tab_info=strInfoTable, \n",
    "                                          update_date=dt.datetime.now().strftime('%Y-%m-%d'), \n",
    "                                             table_name=strLendReserv))"
   ]
  },
  {
   "cell_type": "markdown",
   "metadata": {},
   "source": [
    "## База данных с фактическими банкротствами компаний\n",
    "\n",
    "**Использование в модели:** для обучение конечной модели  \n",
    "**Источник данных:** https://www.kp.ru/guide/bankrotstvo-predprijatija.html, файл `Bnk_graphics.xlsx`, в лист `base_bnk`\n",
    "&nbsp;&nbsp;Данные скачиваются отдельно, специальной программой (используется silenium)  \n",
    "**Расположение:** файл xlsx в ../DB/SRC/    \n",
    "\n",
    "**Алгоритм обработки:** Читаем данные из этого файла, формируем таблицу и записываем ее в базу данных.\n",
    "\n",
    "### Константы и определения:"
   ]
  },
  {
   "cell_type": "code",
   "execution_count": 94,
   "metadata": {},
   "outputs": [],
   "source": [
    "strBNKRP_path=path.join(strDB_SRC_Path, 'Bnk_graphics.xlsx') # пусть к файлу с фактическими банкротствами компаний\n",
    "\n",
    "#  DB/SRC/Bnk_graphics.xlsx, лист `base_bnk` данные получены из  возможна перестройка на внутреннюю базу данных заказчика)"
   ]
  },
  {
   "cell_type": "markdown",
   "metadata": {},
   "source": [
    "### Чтение данных"
   ]
  },
  {
   "cell_type": "code",
   "execution_count": 95,
   "metadata": {},
   "outputs": [
    {
     "data": {
      "text/html": [
       "<div>\n",
       "<style scoped>\n",
       "    .dataframe tbody tr th:only-of-type {\n",
       "        vertical-align: middle;\n",
       "    }\n",
       "\n",
       "    .dataframe tbody tr th {\n",
       "        vertical-align: top;\n",
       "    }\n",
       "\n",
       "    .dataframe thead th {\n",
       "        text-align: right;\n",
       "    }\n",
       "</style>\n",
       "<table border=\"1\" class=\"dataframe\">\n",
       "  <thead>\n",
       "    <tr style=\"text-align: right;\">\n",
       "      <th></th>\n",
       "      <th>y_pub</th>\n",
       "    </tr>\n",
       "    <tr>\n",
       "      <th>inn</th>\n",
       "      <th></th>\n",
       "    </tr>\n",
       "  </thead>\n",
       "  <tbody>\n",
       "    <tr>\n",
       "      <th>1001000647</th>\n",
       "      <td>2019</td>\n",
       "    </tr>\n",
       "    <tr>\n",
       "      <th>1001000809</th>\n",
       "      <td>2012</td>\n",
       "    </tr>\n",
       "    <tr>\n",
       "      <th>1001000975</th>\n",
       "      <td>2015</td>\n",
       "    </tr>\n",
       "    <tr>\n",
       "      <th>1001001295</th>\n",
       "      <td>2014</td>\n",
       "    </tr>\n",
       "    <tr>\n",
       "      <th>1001003560</th>\n",
       "      <td>2012</td>\n",
       "    </tr>\n",
       "  </tbody>\n",
       "</table>\n",
       "</div>"
      ],
      "text/plain": [
       "            y_pub\n",
       "inn              \n",
       "1001000647   2019\n",
       "1001000809   2012\n",
       "1001000975   2015\n",
       "1001001295   2014\n",
       "1001003560   2012"
      ]
     },
     "execution_count": 95,
     "metadata": {},
     "output_type": "execute_result"
    }
   ],
   "source": [
    "pdf_BankrupsFact=pd.read_excel(strBNKRP_path, sheet_name='base_bnk', usecols='G, P', \n",
    "                               header=5, converters={'inn':str,'y_pub':int})\n",
    "# pdf_BankrupsFact['inn']=pdf_BankrupsFact['inn'].astype(str)\n",
    "# pdf_BankrupsFact['y_pub']=pdf_BankrupsFact['y_pub'].astype(int)\n",
    "pdf_BankrupsFact=pdf_BankrupsFact.set_index('inn')\n",
    "pdf_BankrupsFact=pdf_BankrupsFact.loc[pdf_BankrupsFact['y_pub']>2008].sort_index()\n",
    "pdf_BankrupsFact.head()"
   ]
  },
  {
   "cell_type": "code",
   "execution_count": 96,
   "metadata": {},
   "outputs": [
    {
     "data": {
      "text/html": [
       "<div>\n",
       "<style scoped>\n",
       "    .dataframe tbody tr th:only-of-type {\n",
       "        vertical-align: middle;\n",
       "    }\n",
       "\n",
       "    .dataframe tbody tr th {\n",
       "        vertical-align: top;\n",
       "    }\n",
       "\n",
       "    .dataframe thead th {\n",
       "        text-align: right;\n",
       "    }\n",
       "</style>\n",
       "<table border=\"1\" class=\"dataframe\">\n",
       "  <thead>\n",
       "    <tr style=\"text-align: right;\">\n",
       "      <th></th>\n",
       "      <th></th>\n",
       "      <th>Y</th>\n",
       "    </tr>\n",
       "    <tr>\n",
       "      <th>inn</th>\n",
       "      <th>year</th>\n",
       "      <th></th>\n",
       "    </tr>\n",
       "  </thead>\n",
       "  <tbody>\n",
       "    <tr>\n",
       "      <th>1001000647</th>\n",
       "      <th>2019</th>\n",
       "      <td>1</td>\n",
       "    </tr>\n",
       "    <tr>\n",
       "      <th>1001000809</th>\n",
       "      <th>2012</th>\n",
       "      <td>1</td>\n",
       "    </tr>\n",
       "    <tr>\n",
       "      <th>1001000975</th>\n",
       "      <th>2015</th>\n",
       "      <td>1</td>\n",
       "    </tr>\n",
       "    <tr>\n",
       "      <th>1001001295</th>\n",
       "      <th>2014</th>\n",
       "      <td>1</td>\n",
       "    </tr>\n",
       "    <tr>\n",
       "      <th>1001003560</th>\n",
       "      <th>2012</th>\n",
       "      <td>1</td>\n",
       "    </tr>\n",
       "    <tr>\n",
       "      <th>...</th>\n",
       "      <th>...</th>\n",
       "      <td>...</td>\n",
       "    </tr>\n",
       "    <tr>\n",
       "      <th>9901007664</th>\n",
       "      <th>2012</th>\n",
       "      <td>1</td>\n",
       "    </tr>\n",
       "    <tr>\n",
       "      <th>9901034467</th>\n",
       "      <th>2015</th>\n",
       "      <td>1</td>\n",
       "    </tr>\n",
       "    <tr>\n",
       "      <th>9999999991</th>\n",
       "      <th>2016</th>\n",
       "      <td>1</td>\n",
       "    </tr>\n",
       "    <tr>\n",
       "      <th>9999999995</th>\n",
       "      <th>2016</th>\n",
       "      <td>1</td>\n",
       "    </tr>\n",
       "    <tr>\n",
       "      <th>9999999999</th>\n",
       "      <th>2012</th>\n",
       "      <td>1</td>\n",
       "    </tr>\n",
       "  </tbody>\n",
       "</table>\n",
       "<p>107226 rows × 1 columns</p>\n",
       "</div>"
      ],
      "text/plain": [
       "                 Y\n",
       "inn        year   \n",
       "1001000647 2019  1\n",
       "1001000809 2012  1\n",
       "1001000975 2015  1\n",
       "1001001295 2014  1\n",
       "1001003560 2012  1\n",
       "...             ..\n",
       "9901007664 2012  1\n",
       "9901034467 2015  1\n",
       "9999999991 2016  1\n",
       "9999999995 2016  1\n",
       "9999999999 2012  1\n",
       "\n",
       "[107226 rows x 1 columns]"
      ]
     },
     "execution_count": 96,
     "metadata": {},
     "output_type": "execute_result"
    }
   ],
   "source": [
    "pdf_BankrupsFact=pdf_BankrupsFact.reset_index().rename(columns={'y_pub':'year'}).dropna()\n",
    "pdf_BankrupsFact['Y']=1\n",
    "pdf_BankrupsFact=pdf_BankrupsFact[['inn', 'year', 'Y']].set_index(['inn', 'year'])\n",
    "pdf_BankrupsFact"
   ]
  },
  {
   "cell_type": "markdown",
   "metadata": {},
   "source": [
    "сохраняем полученные данные в базе данных"
   ]
  },
  {
   "cell_type": "code",
   "execution_count": 33,
   "metadata": {},
   "outputs": [
    {
     "name": "stdout",
     "output_type": "stream",
     "text": [
      "Done writing  bankrp table\n"
     ]
    }
   ],
   "source": [
    "_pdf=pds.DataFrameDATA(pdf_BankrupsFact.copy())\n",
    "_pdf.to_sql(strRNKRP_table, con=conWork, if_exists='upsert', chunksize=int(1e4))\n",
    "\n",
    "_=conWork.execute('''INSERT OR REPLACE INTO {tab_info}(utable, udate) VALUES\n",
    "('{table_name}', '{update_date}') '''.format(tab_info=strInfoTable, \n",
    "                                          update_date=dt.datetime.now().strftime('%Y-%m-%d'), \n",
    "                                             table_name=strRNKRP_table))\n",
    "print('Done writing ', strRNKRP_table, 'table')"
   ]
  },
  {
   "cell_type": "markdown",
   "metadata": {},
   "source": [
    "## Окончание работы: очистка и сжатие конечного файла SQLite3"
   ]
  },
  {
   "cell_type": "code",
   "execution_count": 37,
   "metadata": {},
   "outputs": [
    {
     "data": {
      "text/markdown": [
       "\n",
       "<div class=\"alert alert-block alert-success\">\n",
       "<b>База данных - ../DB/bankrp.sqlite3 успешно обновлена<br>\n",
       "<a href=\"bankrupt_prob.ipynb?DATABASE=../DB/bankrp.sqlite3\" target=\"_blank\">Перейти в Модель микроуровневого стресс-тестирования</a></b><br>\n",
       "</div>\n"
      ],
      "text/plain": [
       "<IPython.core.display.Markdown object>"
      ]
     },
     "execution_count": 37,
     "metadata": {},
     "output_type": "execute_result"
    }
   ],
   "source": [
    "# ВНИМАНИЕ!!! УДАЛЕНИЕ ФАЙЛА С ИНН ДЛЯ ЗАПРОСА БАЗЫ СПАРК!!!\n",
    "try:\n",
    "    remove(strFileINN)\n",
    "except FileNotFoundError:\n",
    "    pass\n",
    "#==========================================================\n",
    "\n",
    "import sqlite3\n",
    "conn = sqlite3.connect(strBasePath, isolation_level=None)\n",
    "conn.execute(\"VACUUM\") # сжатие базы данных\n",
    "conn.close()\n",
    "\n",
    "strMD='''\n",
    "<div class=\"alert alert-block alert-success\">\n",
    "<b>База данных - {bd_path} успешно обновлена<br>\n",
    "<a href=\"{bankrupt_prob}?DATABASE={bd_path}\" target=\"_blank\">Перейти в Модель микроуровневого стресс-тестирования</a></b><br>\n",
    "</div>\n",
    "'''.format(bankrupt_prob='bankrupt_prob.ipynb', bd_path=strBasePath)\n",
    "md(strMD)"
   ]
  },
  {
   "cell_type": "code",
   "execution_count": null,
   "metadata": {},
   "outputs": [],
   "source": []
  }
 ],
 "metadata": {
  "kernelspec": {
   "display_name": "Python 3",
   "language": "python",
   "name": "python3"
  },
  "language_info": {
   "codemirror_mode": {
    "name": "ipython",
    "version": 3
   },
   "file_extension": ".py",
   "mimetype": "text/x-python",
   "name": "python",
   "nbconvert_exporter": "python",
   "pygments_lexer": "ipython3",
   "version": "3.6.7"
  }
 },
 "nbformat": 4,
 "nbformat_minor": 4
}
