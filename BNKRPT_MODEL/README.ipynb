{
 "cells": [
  {
   "cell_type": "code",
   "execution_count": 1,
   "metadata": {},
   "outputs": [
    {
     "data": {
      "text/markdown": [
       "# Описание программного пакета модели микроуровнего тестирования (банкротства застройщиков)\n",
       "\n",
       "Модель определяет вероятность банкротства для каждой компании-застройщика по годам.\n",
       "\n",
       "## Структура \n",
       "\n",
       "Все блокноты модели лежат в каталоге AIGK/BNKRPT_MODEL\n",
       "База даных модели: AIGK/DB/bankrp.sqlite3\n",
       "Исходные данные для базы данных и \n",
       "промежуточных моделей - в каталоге AIGK/DB/SRC\n",
       "\n",
       "Модель обрана на следующих блокнотах (jupyter notebook):\n",
       "- <a href=\"bankrupt_prob.ipynb\" \n",
       "target=\"_blank\">baknkrutp_prob.ipynb</a> - блокнот расчета основной модели\n",
       "- <a href=\"bankrupt_prob_prepare.ipynb\" \n",
       "target=\"_blank\">bankrupt_prob_prepare.ipynb</a> - блокнот расчета \n",
       "промежуточных моделей и формирования фрейма данных для основной модели. \n",
       "- <a href=\"bankrupt_prob_DB.ipynb\" \n",
       "target=\"_blank\">bankrupt_prob_DB.ipynb</a> - блокнот обновления \n",
       "(создания) базы данных модели из различных источников \n",
       "- <a href=\"bankrpt_test.ipynb\" \n",
       "target=\"_blank\">bankrpt_test.ipynb</a> - блокнот проверок и \n",
       "тестирования моделей на разных стадиях.\n",
       "- README.ipynb - вывод справки readme.\n",
       "\n",
       "Используются следующие файлы с данными:\n",
       "- AIGK/DB/bankrp.sqlite3 (основная база данных)\n",
       "- AIGK/DB/year.sqlite3 (долгосрочная модель - факт)\n",
       "- AIGK/DB/SRC/Долгосрочная модель.xlsx (долгосрочная модель - прогноз)\n",
       "- AIGK/DB/SRC/SPARK.xlsx (показатели компаний)\n",
       "- AIGK/DB/SRC/Bnk_graphics.xlsx (фактические флаги банкротств)\n",
       "\n",
       "Используются следующие источники данных:\n",
       "- <a \n",
       "href=\"http://cbr.ru/statistics/bank_sector/\" \n",
       "target=\"_blank\">http://cbr.ru/statistics/bank_sector/</a> - ссуды \n",
       "и резервы (lending  lending_reserv)\n",
       "- <a href=\"http://cbr.ru/statistics/bank_sector/int_rat/\" \n",
       "target=\"_blank\">http://cbr.ru/statistics/bank_sector/int_rat/</a> - \n",
       "кредиты нефинансовым организациям (loan)\n",
       "\n",
       "## Алгоритм работы с моделью \n",
       "\n",
       "При поступлении новых данных в \n",
       "источниках выполняется блокнот \n",
       "**baknkrutp_prob_DB.ipynb**. При этом неокторые \n",
       "данные недоступны для программного \n",
       "считывания напрямую, файлы с данными \n",
       "должны быть скачаны вручную и \n",
       "размещеные в соотв. каталоге. Рабочий \n",
       "блокнот выбирает нужные для работы \n",
       "данные, формирует таблицы данных в \n",
       "нужных форматах и сохраняет их в файле базы данных модели.  \n",
       "*Входные данные*: файлы или \n",
       "интернет-ресурсы с \"сырыми\" данными от \n",
       "поставщиков (источников) данных.   \n",
       "*Выходные данные* - файл базы данных модели (AIGK/DB/bankrp.sqlite3) \n",
       "\n",
       "Блокнот **baknkrutp_prob_prepare.ipynb** выполняется \n",
       "для оценки и пересчета промежуточных \n",
       "моделей. Так же в этом блокноте \n",
       "формируется фрейм для работы основной \n",
       "модели - данные продлеваются на \n",
       "прогнозный период, пропуски \n",
       "заполняются, остутсвующие данные \n",
       "удаляется. Готовый фрейм сохраняется в \n",
       "виде таблицы в файле базы данных модели.   \n",
       "*Входные данные* - файл базы данных \n",
       "модели (AIGK/DB/bankrp.sqlite3) и файлы долгосрочной модели ЦМАКП.   \n",
       "*Выходные данные* - файл базы данных модели (AIGK/DB/bankrp.sqlite3) \n",
       "\n",
       "Блокнот **baknkrutp_prob.ipynb** выполняется для \n",
       "оценки и расчета основной модели \"Банкротства застройщиков\".   \n",
       "*Входные данные* - файл базы данных \n",
       "модели (AIGK/DB/bankrp.sqlite3).   \n",
       "*Выходные данные* - файл базы данных модели (AIGK/DB/bankrp.sqlite3) \n"
      ],
      "text/plain": [
       "<IPython.core.display.Markdown object>"
      ]
     },
     "metadata": {},
     "output_type": "display_data"
    }
   ],
   "source": [
    "from IPython.display import Markdown, display\n",
    "\n",
    "display(Markdown(\"README.md\"))"
   ]
  },
  {
   "cell_type": "code",
   "execution_count": null,
   "metadata": {},
   "outputs": [],
   "source": []
  }
 ],
 "metadata": {
  "kernelspec": {
   "display_name": "Python 3",
   "language": "python",
   "name": "python3"
  },
  "language_info": {
   "codemirror_mode": {
    "name": "ipython",
    "version": 3
   },
   "file_extension": ".py",
   "mimetype": "text/x-python",
   "name": "python",
   "nbconvert_exporter": "python",
   "pygments_lexer": "ipython3",
   "version": "3.8.5"
  }
 },
 "nbformat": 4,
 "nbformat_minor": 4
}
