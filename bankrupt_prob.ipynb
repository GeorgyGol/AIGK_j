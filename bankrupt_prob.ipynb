{
 "cells": [
  {
   "cell_type": "markdown",
   "metadata": {},
   "source": [
    "# Модель микроуровневого стресс-тестирования (на уровне отдельных компаний-застройщиков) - \"Банкротства застройщиков\""
   ]
  },
  {
   "cell_type": "code",
   "execution_count": 362,
   "metadata": {},
   "outputs": [
    {
     "data": {
      "text/markdown": [
       "\n",
       "<div class=\"alert alert-block alert-success\">\n",
       "<b>База данных - DB/bankrp.sqlite3<br>\n",
       "<a href=\"bankrupt_prob_DB.ipynb?DATABASE=DB/bankrp.sqlite3\" target=\"_blank\">Работа с базой данных для этой модели</a></b><br>\n",
       "</div>\n"
      ],
      "text/plain": [
       "<IPython.core.display.Markdown object>"
      ]
     },
     "execution_count": 362,
     "metadata": {},
     "output_type": "execute_result"
    }
   ],
   "source": [
    "%matplotlib inline\n",
    "\n",
    "from os import path, getcwd\n",
    "from IPython.display import Markdown as md\n",
    "import pandas as pd\n",
    "import numpy as np\n",
    "import sqlalchemy as sa\n",
    "import statsmodels.api as sm\n",
    "import matplotlib.pyplot as plt\n",
    "\n",
    "# общие константы и функции\n",
    "idx=pd.IndexSlice # объект для индексации мультииндексного фрейма\n",
    "strDB_path=path.join('DB', 'bankrp.sqlite3')\n",
    "\n",
    "# константы базы данных SQLite3\n",
    "strNOZA_table='noza' # название таблицы NOZA в базе данных SQLite\n",
    "strNOZA_agg='noza_ag' # название рабочего  представления для таблицы NOZA в базе данных SQLite (агрегация исходных показателей по инн и году запуска проекта)\n",
    "strNOZA_data_pass='noza_columns' # таблица с названиями колонок для таблицы noza\n",
    "strSPARK_table='spark' # название таблицы SPARK в базе данных SQLite\n",
    "strSPARK_agg='spark_ag' # название рабочего  представления для таблицы SPARK в базе данных SQLite (ROA из базы)\n",
    "strSPARK_agg_roa_calc='spark_ag_roa_calc' # название рабочего  представления для таблицы SPARK (ROA считаем)\n",
    "strSPARK_data_pass='spark_columns' # таблица с названиями колонок для таблицы SPARK\n",
    "strLOAN_table='loan' # название таблицы LOAN в базе данных SQLite\n",
    "strLOAN_data_pass='loan_columns' # таблица с названиями колонок для таблицы loan\n",
    "strLOAN_agg='loan_agg' # название рабочего  представления для таблицы LOAN в базе данных SQLite (агрегация исходных показателей по инн и году запуска проекта)\n",
    "\n",
    "# ------------\n",
    "\n",
    "# пути и константы для данных из Excel-версии модели и базы данных\n",
    "strModelSource=path.join('.', 'DB', 'SRC', 'Долгосрочная модель.xlsx')\n",
    "strMargaSheet='Новостройки'\n",
    "strModelSheet='Модель'\n",
    "#---------------\n",
    "\n",
    "strMD='''\n",
    "<div class=\"alert alert-block alert-success\">\n",
    "<b>База данных - {bd_path}<br>\n",
    "<a href=\"{bankrupt_prob_DB}?DATABASE={bd_path}\" target=\"_blank\">Работа с базой данных для этой модели</a></b><br>\n",
    "</div>\n",
    "'''.format(bankrupt_prob_DB='bankrupt_prob_DB.ipynb', bd_path=strDB_path)\n",
    "md(strMD)"
   ]
  },
  {
   "cell_type": "markdown",
   "metadata": {},
   "source": [
    "## Подготовка данных\n",
    "\n",
    " \n",
    "  1. **Чтение данных из базы данных (таблицы SPARK, NOZA и LOAN).** Данные читаются посредством запросов, созданных на этапе созднания базы данных. Первичный счет показателей осуществляется в этих запросах. При желании можно загрузить данные непосредственно из таблиц, для этого надо поменять название таблицы в строке запроса, в коде, в данном блокноте. Однако вычисления на стороне базы данных несколько быстрее, чем вычисления в коде.   \n",
    "  2. **Чтение данных из \"Долгосрочной модели\".** Эти данные предполагается в будущем моделировать в Питоне, однако в настоящий момент они беруться из модели в файле Excel. Эти данные необходимы для построения и расчета промежуточных под-моделей, используемых в основном блоке расчета модели банкротств  \n",
    "  3. **Построение и расчет промежуточных под-моделей**. Под-модели используются в качестве поставщиков данных для основной модели"
   ]
  },
  {
   "cell_type": "markdown",
   "metadata": {},
   "source": [
    "### Чтение данных из базы\n",
    "\n",
    "Даные из таблицы NOZA читаются запросом noza_agg. В запросе данные группируются по ИНН застройщика, по году сдачи проекта, суммируются цены проектов и вводимая жилая площадь построек (т.е. считается суммарная стоимость всех проектов и вся вводимая жилая площадь каждого застройщика в год).  \n",
    "\n",
    "\n",
    "Данные из таблицы SPARK читаются запросом spark_ag. В запросе расчитывается показатель Z_A: \n",
    "`модуль((Кредиторская задолженность - Дебиторская задолженность) / Активы всего)`.\n",
    "\n",
    "Показатель ROA берется из базы данных, одноко он так же может расчитываться по формуле `Чистая прибыль/Активы всего` (для этого надо использовать запрос spark_ag_roa_calc)\n",
    "\n",
    "\n",
    "Данные из таблицы LOAN читаются запросом loan_agg. Расчеты выполняются в блокноте"
   ]
  },
  {
   "cell_type": "code",
   "execution_count": 363,
   "metadata": {},
   "outputs": [],
   "source": [
    "strSELECT_NOZA='select * from {noza_table}'.format(noza_table=strNOZA_agg)\n",
    "strSELECT_spark='select * from {spark_table}'.format(spark_table=strSPARK_agg)\n",
    "strSELECT_LOAN='select * from {loan_table}'.format(loan_table=strLOAN_agg)\n",
    "\n",
    "conWork = sa.create_engine('sqlite+pysqlite:///{db_name}'.format(db_name=strDB_path)) # connection к рабочей базе данных\n"
   ]
  },
  {
   "cell_type": "markdown",
   "metadata": {},
   "source": [
    "из таблицы NOZA берем только последнюю точку по дате публикации"
   ]
  },
  {
   "cell_type": "code",
   "execution_count": 364,
   "metadata": {},
   "outputs": [
    {
     "name": "stdout",
     "output_type": "stream",
     "text": [
      "(4616, 4)\n"
     ]
    },
    {
     "data": {
      "text/html": [
       "<div>\n",
       "<style scoped>\n",
       "    .dataframe tbody tr th:only-of-type {\n",
       "        vertical-align: middle;\n",
       "    }\n",
       "\n",
       "    .dataframe tbody tr th {\n",
       "        vertical-align: top;\n",
       "    }\n",
       "\n",
       "    .dataframe thead th {\n",
       "        text-align: right;\n",
       "    }\n",
       "</style>\n",
       "<table border=\"1\" class=\"dataframe\">\n",
       "  <thead>\n",
       "    <tr style=\"text-align: right;\">\n",
       "      <th></th>\n",
       "      <th>inn</th>\n",
       "      <th>completion_year</th>\n",
       "      <th>price</th>\n",
       "      <th>square</th>\n",
       "    </tr>\n",
       "  </thead>\n",
       "  <tbody>\n",
       "    <tr>\n",
       "      <th>0</th>\n",
       "      <td>0105003792</td>\n",
       "      <td>2020</td>\n",
       "      <td>367349984</td>\n",
       "      <td>9327.82</td>\n",
       "    </tr>\n",
       "    <tr>\n",
       "      <th>1</th>\n",
       "      <td>0105008695</td>\n",
       "      <td>2020</td>\n",
       "      <td>284736960</td>\n",
       "      <td>6943.00</td>\n",
       "    </tr>\n",
       "    <tr>\n",
       "      <th>2</th>\n",
       "      <td>0106003795</td>\n",
       "      <td>2020</td>\n",
       "      <td>249000000</td>\n",
       "      <td>9639.37</td>\n",
       "    </tr>\n",
       "    <tr>\n",
       "      <th>3</th>\n",
       "      <td>0107008891</td>\n",
       "      <td>2020</td>\n",
       "      <td>98972928</td>\n",
       "      <td>4680.96</td>\n",
       "    </tr>\n",
       "    <tr>\n",
       "      <th>4</th>\n",
       "      <td>0107022575</td>\n",
       "      <td>2020</td>\n",
       "      <td>582293936</td>\n",
       "      <td>18055.21</td>\n",
       "    </tr>\n",
       "  </tbody>\n",
       "</table>\n",
       "</div>"
      ],
      "text/plain": [
       "          inn  completion_year      price    square\n",
       "0  0105003792             2020  367349984   9327.82\n",
       "1  0105008695             2020  284736960   6943.00\n",
       "2  0106003795             2020  249000000   9639.37\n",
       "3  0107008891             2020   98972928   4680.96\n",
       "4  0107022575             2020  582293936  18055.21"
      ]
     },
     "execution_count": 364,
     "metadata": {},
     "output_type": "execute_result"
    }
   ],
   "source": [
    "pdfNoza=pd.read_sql(strSELECT_NOZA, con=conWork)\n",
    "pdfNoza['pub_date']=pd.to_datetime(pdfNoza['pub_date'], format='%Y-%m-%d')\n",
    "pdfNoza.sort_values(by='pub_date', ascending=False)\n",
    "pdfNoza=pdfNoza.loc[pdfNoza['pub_date']==pdfNoza['pub_date'].max(), (c for c in pdfNoza.columns if c !='pub_date')] # берем последнюю по дате публикации точку - теоретически возможно хранить в БД несколько временных точек\n",
    "print(pdfNoza.shape)\n",
    "pdfNoza.head()"
   ]
  },
  {
   "cell_type": "code",
   "execution_count": 365,
   "metadata": {},
   "outputs": [
    {
     "name": "stdout",
     "output_type": "stream",
     "text": [
      "(103968, 6)\n"
     ]
    },
    {
     "data": {
      "text/html": [
       "<div>\n",
       "<style scoped>\n",
       "    .dataframe tbody tr th:only-of-type {\n",
       "        vertical-align: middle;\n",
       "    }\n",
       "\n",
       "    .dataframe tbody tr th {\n",
       "        vertical-align: top;\n",
       "    }\n",
       "\n",
       "    .dataframe thead th {\n",
       "        text-align: right;\n",
       "    }\n",
       "</style>\n",
       "<table border=\"1\" class=\"dataframe\">\n",
       "  <thead>\n",
       "    <tr style=\"text-align: right;\">\n",
       "      <th></th>\n",
       "      <th>inn</th>\n",
       "      <th>year</th>\n",
       "      <th>capital</th>\n",
       "      <th>Cancel_date</th>\n",
       "      <th>ROA</th>\n",
       "      <th>Z_A</th>\n",
       "    </tr>\n",
       "  </thead>\n",
       "  <tbody>\n",
       "    <tr>\n",
       "      <th>0</th>\n",
       "      <td>3906245291</td>\n",
       "      <td>2018</td>\n",
       "      <td>10000000.0</td>\n",
       "      <td>NaN</td>\n",
       "      <td>-0.0103</td>\n",
       "      <td>0.155739</td>\n",
       "    </tr>\n",
       "    <tr>\n",
       "      <th>1</th>\n",
       "      <td>3801132195</td>\n",
       "      <td>2018</td>\n",
       "      <td>10000000.0</td>\n",
       "      <td>NaN</td>\n",
       "      <td>-0.0208</td>\n",
       "      <td>0.050148</td>\n",
       "    </tr>\n",
       "    <tr>\n",
       "      <th>2</th>\n",
       "      <td>5050102110</td>\n",
       "      <td>2018</td>\n",
       "      <td>20000.0</td>\n",
       "      <td>NaN</td>\n",
       "      <td>0.0003</td>\n",
       "      <td>0.357920</td>\n",
       "    </tr>\n",
       "    <tr>\n",
       "      <th>3</th>\n",
       "      <td>7448046410</td>\n",
       "      <td>2018</td>\n",
       "      <td>150010000.0</td>\n",
       "      <td>NaN</td>\n",
       "      <td>0.0548</td>\n",
       "      <td>0.103509</td>\n",
       "    </tr>\n",
       "    <tr>\n",
       "      <th>4</th>\n",
       "      <td>1840032987</td>\n",
       "      <td>2018</td>\n",
       "      <td>5050000.0</td>\n",
       "      <td>NaN</td>\n",
       "      <td>-0.0189</td>\n",
       "      <td>0.041587</td>\n",
       "    </tr>\n",
       "  </tbody>\n",
       "</table>\n",
       "</div>"
      ],
      "text/plain": [
       "          inn  year      capital Cancel_date     ROA       Z_A\n",
       "0  3906245291  2018   10000000.0         NaN -0.0103  0.155739\n",
       "1  3801132195  2018   10000000.0         NaN -0.0208  0.050148\n",
       "2  5050102110  2018      20000.0         NaN  0.0003  0.357920\n",
       "3  7448046410  2018  150010000.0         NaN  0.0548  0.103509\n",
       "4  1840032987  2018    5050000.0         NaN -0.0189  0.041587"
      ]
     },
     "execution_count": 365,
     "metadata": {},
     "output_type": "execute_result"
    }
   ],
   "source": [
    "pdfSPARK=pd.read_sql(strSELECT_spark, con=conWork)\n",
    "pdfSPARK.replace({None:np.nan}, inplace=True)\n",
    "print(pdfSPARK.shape)\n",
    "pdfSPARK.head()"
   ]
  },
  {
   "cell_type": "markdown",
   "metadata": {},
   "source": [
    "в таблице loan считаем среднюю ставку за год "
   ]
  },
  {
   "cell_type": "code",
   "execution_count": 366,
   "metadata": {},
   "outputs": [
    {
     "data": {
      "text/plain": [
       "date\n",
       "2014-12-31    11.135000\n",
       "2015-12-31    15.716667\n",
       "2016-12-31    12.592500\n",
       "2017-12-31    10.560000\n",
       "2018-12-31     8.866667\n",
       "2019-12-31     8.753333\n",
       "2020-12-31     7.554000\n",
       "Freq: A-DEC, Name: loan_nonfin, dtype: float64"
      ]
     },
     "execution_count": 366,
     "metadata": {},
     "output_type": "execute_result"
    }
   ],
   "source": [
    "pdfLOAN=pd.read_sql(strSELECT_LOAN, con=conWork)\n",
    "\n",
    "pdfLOAN['date']=pd.to_datetime(pdfLOAN['date'], format='%Y-%m-%d')\n",
    "pdfLOAN.set_index('date').groupby(by=pd.Grouper(freq='Y'))['loan_nonfin'].mean()"
   ]
  },
  {
   "cell_type": "markdown",
   "metadata": {},
   "source": [
    "## Загрузка данных из долгосрочной модели\n",
    "\n",
    "<div class=\"alert alert-block alert-info\">\n",
    "    В данном блокноте источник - excel-файл с долгосрочной моделью - располагается локально, в каталоге ./DB/SRC<br>\n",
    "    Чтобы использовать последнюю версию модели сохранить  файл с моделью с расширением xlsx и загрузить его по этому пути\n",
    "</div>\n",
    "\n",
    "Эти данные используются для расчета под-моделей: моделирования средней по отрасли рентабельности застройщиков и ...\n",
    "\n",
    "Читаем:  \n",
    "   - Изменение среднесписочной численности работников (лист Модель, строка 493)\n",
    "   - Индекс физобъема выпуска (лист Модель, строка 489)\n",
    "   - Маржа прибыли застройщиков (лист Новостройки, строка 10)\n",
    "   - Индексы номинальных цен на рынке жилья, на вторичном рынке (лист Модель, строка 687, делить на 100)"
   ]
  },
  {
   "cell_type": "code",
   "execution_count": 367,
   "metadata": {},
   "outputs": [
    {
     "name": "stdout",
     "output_type": "stream",
     "text": [
      "Прочитано из файла ексель (28, 3)\n",
      "Читаем маржу из листа Новостройки, добавляем во фрейм...сделано -  (28, 4)\n",
      "Переименовывыние колонок для удоства использования...сделано\n"
     ]
    },
    {
     "data": {
      "text/html": [
       "<div>\n",
       "<style scoped>\n",
       "    .dataframe tbody tr th:only-of-type {\n",
       "        vertical-align: middle;\n",
       "    }\n",
       "\n",
       "    .dataframe tbody tr th {\n",
       "        vertical-align: top;\n",
       "    }\n",
       "\n",
       "    .dataframe thead th {\n",
       "        text-align: right;\n",
       "    }\n",
       "</style>\n",
       "<table border=\"1\" class=\"dataframe\">\n",
       "  <thead>\n",
       "    <tr style=\"text-align: right;\">\n",
       "      <th></th>\n",
       "      <th>I_phyvol_issue</th>\n",
       "      <th>Chng_avrg_num_empls</th>\n",
       "      <th>I_nom_prices_sec_market</th>\n",
       "      <th>marga</th>\n",
       "    </tr>\n",
       "  </thead>\n",
       "  <tbody>\n",
       "    <tr>\n",
       "      <th>2009</th>\n",
       "      <td>NaN</td>\n",
       "      <td>NaN</td>\n",
       "      <td>0.9455</td>\n",
       "      <td>1.434751</td>\n",
       "    </tr>\n",
       "    <tr>\n",
       "      <th>2010</th>\n",
       "      <td>1.050</td>\n",
       "      <td>0.960931</td>\n",
       "      <td>0.9843</td>\n",
       "      <td>1.343579</td>\n",
       "    </tr>\n",
       "    <tr>\n",
       "      <th>2011</th>\n",
       "      <td>1.051</td>\n",
       "      <td>1.007171</td>\n",
       "      <td>1.0827</td>\n",
       "      <td>1.137379</td>\n",
       "    </tr>\n",
       "    <tr>\n",
       "      <th>2012</th>\n",
       "      <td>1.025</td>\n",
       "      <td>1.016925</td>\n",
       "      <td>1.1524</td>\n",
       "      <td>1.210883</td>\n",
       "    </tr>\n",
       "    <tr>\n",
       "      <th>2013</th>\n",
       "      <td>1.001</td>\n",
       "      <td>0.987682</td>\n",
       "      <td>1.0782</td>\n",
       "      <td>1.210797</td>\n",
       "    </tr>\n",
       "  </tbody>\n",
       "</table>\n",
       "</div>"
      ],
      "text/plain": [
       "      I_phyvol_issue  Chng_avrg_num_empls  I_nom_prices_sec_market     marga\n",
       "2009             NaN                  NaN                   0.9455  1.434751\n",
       "2010           1.050             0.960931                   0.9843  1.343579\n",
       "2011           1.051             1.007171                   1.0827  1.137379\n",
       "2012           1.025             1.016925                   1.1524  1.210883\n",
       "2013           1.001             0.987682                   1.0782  1.210797"
      ]
     },
     "execution_count": 367,
     "metadata": {},
     "output_type": "execute_result"
    }
   ],
   "source": [
    "pdfXLS_model=pd.read_excel(strModelSource, sheet_name=strModelSheet, usecols='B, G:AZ', \n",
    "                           skiprows=[i for i in range(1500) if i not in [2, 686, 492, 488]], index_col=0)\n",
    "pdfXLS_model=pdfXLS_model.T\n",
    "print('Прочитано из файла ексель', pdfXLS_model.shape)\n",
    "# print(pdfXLS_model.head())\n",
    "print('Читаем маржу из листа Новостройки, добавляем во фрейм', end='...')\n",
    "pdfXLS_model['marga']=pd.read_excel(strModelSource, sheet_name=strMargaSheet, usecols='B, K:AZ',\n",
    "                      skiprows=[i for i in range(255) if i not in [0, 9, 10]], \n",
    "                      index_col=0).loc['маржа прибыли застройщиков'] / 100\n",
    "print('сделано - ', pdfXLS_model.shape)\n",
    "print('Переименовывыние колонок для удоства использования', end='...')\n",
    "pdfXLS_model.columns=['I_phyvol_issue', 'Chng_avrg_num_empls', 'I_nom_prices_sec_market', 'marga']\n",
    "print('сделано')\n",
    "pdfXLS_model.head()"
   ]
  },
  {
   "cell_type": "markdown",
   "metadata": {},
   "source": [
    "## Построение и расчет промежуточных моделей\n",
    "\n",
    "### Подготовка данных для моделирования\n",
    "\n",
    "    X - предикторы фактических значений\n",
    "    x - предикторы прогнозных значений\n",
    "    Y - известные объясняемые значения\n",
    "    y - прогнозные объясняемые значения\n",
    "    \n",
    "К `X` и `x` добавляется **интерсептор**. Переменная `lag` задает сдвиг (положительное значение - вправо, отрицательное - влево)\n",
    "\n",
    "   `pdfSubModResult` - датафрейм с результатами расчета под-моделей"
   ]
  },
  {
   "cell_type": "code",
   "execution_count": 368,
   "metadata": {},
   "outputs": [],
   "source": [
    "def prepare_x_data(pdfX, print_pars=False, lag=0):\n",
    "    X_=pdfX.shift(lag).dropna()\n",
    "    X_=sm.add_constant(X_)\n",
    "\n",
    "    if print_pars:\n",
    "        print('X = \\n', X_)\n",
    "        print('-'*40)\n",
    "    return X_\n",
    "\n",
    "def prepare_fit_data(pdfY, pdfX, print_pars=False, lag=0):\n",
    "    \"\"\"Возвращает X, Y и x для обучения (оценки) модели\"\"\"\n",
    "    Y_=pdfY.groupby(by='year').agg(np.median)\n",
    "    Y_.rename(columns={ Y_.columns[0]: '{}, факт'.format(Y_.columns[0]) }, inplace = True)\n",
    "    X_ = prepare_x_data(pdfX, lag=lag)\n",
    "\n",
    "    X=X_.loc[X_.index.intersection(Y_.index, sort=None)]\n",
    "    Y=Y_.loc[Y_.index.intersection(X_.index, sort=None)]\n",
    "    x=X_.loc[X_.index.difference(Y_.index)].dropna()\n",
    "    \n",
    "    if print_pars:\n",
    "        print('X = \\n', X)\n",
    "        print('-'*40)\n",
    "        print('Y = \\n', Y)\n",
    "        print('-'*40)\n",
    "        print('x = \\n', x)\n",
    "        print('-'*40)\n",
    "    return X, Y, x\n",
    "\n",
    "pdfSubModResult=pd.DataFrame(pdfXLS_model.index, columns=['year',]).set_index('year')\n",
    "\n",
    "# pdfSubModResult\n",
    "# X_roa, Y_roa, x_roa=prepare_fit_data(pdfSPARK[['year', 'ROA']].copy(), \n",
    "#                          pdfXLS_model[['I_nom_prices_sec_market', 'marga']].copy(), print_pars=True)\n",
    "\n",
    "# prepare_x_data(pdfXLS_model[['I_nom_prices_sec_market', 'marga']].copy(), print_pars=True, lag=1)\n"
   ]
  },
  {
   "attachments": {},
   "cell_type": "markdown",
   "metadata": {},
   "source": [
    "### Модель *Рентабельность застройщиков, медиана по отрасли  (ROA)*\n",
    "\n",
    "**Предикторы:**\n",
    "  - Индексы номинальных цен на рынке жилья, на вторичном рынке (`I_nom_prices_sec_market`, из данных Долгосрочной модели)\n",
    "  - Маржа прибыли застройщиков (`marga`, из данных Долгосрочной модели)  \n",
    "  \n",
    "**Объясняемая переменная** - медианная по отрасли рентабельность застройщика (`ROA` датафрейма `pdfSPARK`)"
   ]
  },
  {
   "cell_type": "code",
   "execution_count": 369,
   "metadata": {},
   "outputs": [
    {
     "name": "stderr",
     "output_type": "stream",
     "text": [
      "/home/egor/anaconda3/lib/python3.6/site-packages/scipy/stats/stats.py:1604: UserWarning: kurtosistest only valid for n>=20 ... continuing anyway, n=11\n",
      "  \"anyway, n=%i\" % int(n))\n"
     ]
    },
    {
     "data": {
      "text/html": [
       "<table class=\"simpletable\">\n",
       "<caption>OLS Regression Results</caption>\n",
       "<tr>\n",
       "  <th>Dep. Variable:</th>        <td>ROA, факт</td>    <th>  R-squared:         </th> <td>   0.192</td>\n",
       "</tr>\n",
       "<tr>\n",
       "  <th>Model:</th>                   <td>OLS</td>       <th>  Adj. R-squared:    </th> <td>  -0.010</td>\n",
       "</tr>\n",
       "<tr>\n",
       "  <th>Method:</th>             <td>Least Squares</td>  <th>  F-statistic:       </th> <td>  0.9513</td>\n",
       "</tr>\n",
       "<tr>\n",
       "  <th>Date:</th>             <td>Tue, 28 Jul 2020</td> <th>  Prob (F-statistic):</th>  <td> 0.426</td> \n",
       "</tr>\n",
       "<tr>\n",
       "  <th>Time:</th>                 <td>16:16:44</td>     <th>  Log-Likelihood:    </th> <td>  60.121</td>\n",
       "</tr>\n",
       "<tr>\n",
       "  <th>No. Observations:</th>      <td>    11</td>      <th>  AIC:               </th> <td>  -114.2</td>\n",
       "</tr>\n",
       "<tr>\n",
       "  <th>Df Residuals:</th>          <td>     8</td>      <th>  BIC:               </th> <td>  -113.0</td>\n",
       "</tr>\n",
       "<tr>\n",
       "  <th>Df Model:</th>              <td>     2</td>      <th>                     </th>     <td> </td>   \n",
       "</tr>\n",
       "<tr>\n",
       "  <th>Covariance Type:</th>      <td>nonrobust</td>    <th>                     </th>     <td> </td>   \n",
       "</tr>\n",
       "</table>\n",
       "<table class=\"simpletable\">\n",
       "<tr>\n",
       "             <td></td>                <th>coef</th>     <th>std err</th>      <th>t</th>      <th>P>|t|</th>  <th>[0.025</th>    <th>0.975]</th>  \n",
       "</tr>\n",
       "<tr>\n",
       "  <th>const</th>                   <td>   -0.0122</td> <td>    0.010</td> <td>   -1.182</td> <td> 0.271</td> <td>   -0.036</td> <td>    0.012</td>\n",
       "</tr>\n",
       "<tr>\n",
       "  <th>I_nom_prices_sec_market</th> <td>    0.0080</td> <td>    0.007</td> <td>    1.211</td> <td> 0.261</td> <td>   -0.007</td> <td>    0.023</td>\n",
       "</tr>\n",
       "<tr>\n",
       "  <th>marga</th>                   <td>    0.0049</td> <td>    0.004</td> <td>    1.106</td> <td> 0.301</td> <td>   -0.005</td> <td>    0.015</td>\n",
       "</tr>\n",
       "</table>\n",
       "<table class=\"simpletable\">\n",
       "<tr>\n",
       "  <th>Omnibus:</th>       <td> 0.481</td> <th>  Durbin-Watson:     </th> <td>   0.561</td>\n",
       "</tr>\n",
       "<tr>\n",
       "  <th>Prob(Omnibus):</th> <td> 0.786</td> <th>  Jarque-Bera (JB):  </th> <td>   0.424</td>\n",
       "</tr>\n",
       "<tr>\n",
       "  <th>Skew:</th>          <td> 0.377</td> <th>  Prob(JB):          </th> <td>   0.809</td>\n",
       "</tr>\n",
       "<tr>\n",
       "  <th>Kurtosis:</th>      <td> 2.404</td> <th>  Cond. No.          </th> <td>    65.0</td>\n",
       "</tr>\n",
       "</table><br/><br/>Warnings:<br/>[1] Standard Errors assume that the covariance matrix of the errors is correctly specified."
      ],
      "text/plain": [
       "<class 'statsmodels.iolib.summary.Summary'>\n",
       "\"\"\"\n",
       "                            OLS Regression Results                            \n",
       "==============================================================================\n",
       "Dep. Variable:              ROA, факт   R-squared:                       0.192\n",
       "Model:                            OLS   Adj. R-squared:                 -0.010\n",
       "Method:                 Least Squares   F-statistic:                    0.9513\n",
       "Date:                Tue, 28 Jul 2020   Prob (F-statistic):              0.426\n",
       "Time:                        16:16:44   Log-Likelihood:                 60.121\n",
       "No. Observations:                  11   AIC:                            -114.2\n",
       "Df Residuals:                       8   BIC:                            -113.0\n",
       "Df Model:                           2                                         \n",
       "Covariance Type:            nonrobust                                         \n",
       "===========================================================================================\n",
       "                              coef    std err          t      P>|t|      [0.025      0.975]\n",
       "-------------------------------------------------------------------------------------------\n",
       "const                      -0.0122      0.010     -1.182      0.271      -0.036       0.012\n",
       "I_nom_prices_sec_market     0.0080      0.007      1.211      0.261      -0.007       0.023\n",
       "marga                       0.0049      0.004      1.106      0.301      -0.005       0.015\n",
       "==============================================================================\n",
       "Omnibus:                        0.481   Durbin-Watson:                   0.561\n",
       "Prob(Omnibus):                  0.786   Jarque-Bera (JB):                0.424\n",
       "Skew:                           0.377   Prob(JB):                        0.809\n",
       "Kurtosis:                       2.404   Cond. No.                         65.0\n",
       "==============================================================================\n",
       "\n",
       "Warnings:\n",
       "[1] Standard Errors assume that the covariance matrix of the errors is correctly specified.\n",
       "\"\"\""
      ]
     },
     "execution_count": 369,
     "metadata": {},
     "output_type": "execute_result"
    }
   ],
   "source": [
    "X_roa, Y_roa, x_roa=prepare_fit_data(pdfSPARK[['year', 'ROA']].copy(), \n",
    "                         pdfXLS_model[['I_nom_prices_sec_market', 'marga']].copy(), print_pars=False)\n",
    "\n",
    "resROA = sm.OLS(Y_roa, X_roa, missing='drop').fit()\n",
    "\n",
    "resROA.summary()"
   ]
  },
  {
   "cell_type": "code",
   "execution_count": 370,
   "metadata": {},
   "outputs": [],
   "source": [
    "Ym_roa=pd.DataFrame(resROA.predict(), index=X_roa.index, columns=['ROA, модель'])\n",
    "y_roa=pd.DataFrame(resROA.predict(xr), columns=['ROA, прогноз'])\n",
    "\n",
    "# для графика - соединяем последнюю точку модели и первую прогноза\n",
    "Ym_roa.loc[y_roa.index.tolist()[0]]=y_roa.iloc[0].values \n",
    "\n",
    "# формируем датафрейм с данными для основной модели - модели банкротств\n",
    "pdfSubModResult.loc[Y_roa.index, 'ROA_']=Y_roa.iloc[:, 0]\n",
    "pdfSubModResult.loc[y_roa.index, 'ROA_']=y_roa.iloc[:, 0]\n",
    "# pdfSubModResult"
   ]
  },
  {
   "cell_type": "code",
   "execution_count": 371,
   "metadata": {},
   "outputs": [
    {
     "data": {
      "image/png": "[encoded data removed]",
      "text/plain": [
       "<Figure size 576x360 with 1 Axes>"
      ]
     },
     "metadata": {
      "needs_background": "light"
     },
     "output_type": "display_data"
    }
   ],
   "source": [
    "ax_roa=Ym_roa.plot.line(figsize=(8, 5), linewidth=4, alpha=0.5, grid=True,\n",
    "         title='Рентабельность застройщиков, медиана по отрасли', color='g')\n",
    "Y_roa.plot.line(ax=ax_roa, color='b', linewidth=4, alpha=0.5)\n",
    "y_roa.plot.line(ax=ax_roa, color='g', style=':', linewidth=4, alpha=0.5, grid=True)\n",
    "# pdfSubModResult.dropna().plot.line(ax=ax_roa, style='.-', color='maroon', linewidth=14, alpha=0.2)\n",
    "plt.tight_layout()\n",
    "plt.show();"
   ]
  },
  {
   "cell_type": "markdown",
   "metadata": {},
   "source": [
    "### Модель *Чистая кредиторская задолженность (по модулю), медиана по отрасли (Z_A)*\n",
    "\n",
    "**Предикторы:**  \n",
    "  - Индекс физобъема выпуска (`I_phyvol_issue`, из данных Долгосрочной модели)\n",
    "  - Изменение среднесписочной численности работников (`Chng_avrg_num_empls`, из данных Долгосрочной модели)\n",
    "  \n",
    "**Объясняемая переменная** - медианная по отрасли Чистая кредиторская задолженность(`Z_A` датафрейма `pdfSPARK`)"
   ]
  },
  {
   "cell_type": "code",
   "execution_count": 380,
   "metadata": {},
   "outputs": [
    {
     "name": "stderr",
     "output_type": "stream",
     "text": [
      "/home/egor/anaconda3/lib/python3.6/site-packages/scipy/stats/stats.py:1604: UserWarning: kurtosistest only valid for n>=20 ... continuing anyway, n=9\n",
      "  \"anyway, n=%i\" % int(n))\n"
     ]
    },
    {
     "data": {
      "text/html": [
       "<table class=\"simpletable\">\n",
       "<caption>OLS Regression Results</caption>\n",
       "<tr>\n",
       "  <th>Dep. Variable:</th>        <td>Z_A, факт</td>    <th>  R-squared:         </th> <td>   0.852</td>\n",
       "</tr>\n",
       "<tr>\n",
       "  <th>Model:</th>                   <td>OLS</td>       <th>  Adj. R-squared:    </th> <td>   0.802</td>\n",
       "</tr>\n",
       "<tr>\n",
       "  <th>Method:</th>             <td>Least Squares</td>  <th>  F-statistic:       </th> <td>   17.21</td>\n",
       "</tr>\n",
       "<tr>\n",
       "  <th>Date:</th>             <td>Tue, 28 Jul 2020</td> <th>  Prob (F-statistic):</th>  <td>0.00327</td>\n",
       "</tr>\n",
       "<tr>\n",
       "  <th>Time:</th>                 <td>16:46:22</td>     <th>  Log-Likelihood:    </th> <td>  39.635</td>\n",
       "</tr>\n",
       "<tr>\n",
       "  <th>No. Observations:</th>      <td>     9</td>      <th>  AIC:               </th> <td>  -73.27</td>\n",
       "</tr>\n",
       "<tr>\n",
       "  <th>Df Residuals:</th>          <td>     6</td>      <th>  BIC:               </th> <td>  -72.68</td>\n",
       "</tr>\n",
       "<tr>\n",
       "  <th>Df Model:</th>              <td>     2</td>      <th>                     </th>     <td> </td>   \n",
       "</tr>\n",
       "<tr>\n",
       "  <th>Covariance Type:</th>      <td>nonrobust</td>    <th>                     </th>     <td> </td>   \n",
       "</tr>\n",
       "</table>\n",
       "<table class=\"simpletable\">\n",
       "<tr>\n",
       "           <td></td>              <th>coef</th>     <th>std err</th>      <th>t</th>      <th>P>|t|</th>  <th>[0.025</th>    <th>0.975]</th>  \n",
       "</tr>\n",
       "<tr>\n",
       "  <th>const</th>               <td>   -0.1516</td> <td>    0.065</td> <td>   -2.330</td> <td> 0.059</td> <td>   -0.311</td> <td>    0.008</td>\n",
       "</tr>\n",
       "<tr>\n",
       "  <th>I_phyvol_issue</th>      <td>   -0.0887</td> <td>    0.039</td> <td>   -2.283</td> <td> 0.063</td> <td>   -0.184</td> <td>    0.006</td>\n",
       "</tr>\n",
       "<tr>\n",
       "  <th>Chng_avrg_num_empls</th> <td>    0.4391</td> <td>    0.075</td> <td>    5.839</td> <td> 0.001</td> <td>    0.255</td> <td>    0.623</td>\n",
       "</tr>\n",
       "</table>\n",
       "<table class=\"simpletable\">\n",
       "<tr>\n",
       "  <th>Omnibus:</th>       <td> 0.903</td> <th>  Durbin-Watson:     </th> <td>   2.145</td>\n",
       "</tr>\n",
       "<tr>\n",
       "  <th>Prob(Omnibus):</th> <td> 0.637</td> <th>  Jarque-Bera (JB):  </th> <td>   0.720</td>\n",
       "</tr>\n",
       "<tr>\n",
       "  <th>Skew:</th>          <td> 0.526</td> <th>  Prob(JB):          </th> <td>   0.698</td>\n",
       "</tr>\n",
       "<tr>\n",
       "  <th>Kurtosis:</th>      <td> 2.098</td> <th>  Cond. No.          </th> <td>    138.</td>\n",
       "</tr>\n",
       "</table><br/><br/>Warnings:<br/>[1] Standard Errors assume that the covariance matrix of the errors is correctly specified."
      ],
      "text/plain": [
       "<class 'statsmodels.iolib.summary.Summary'>\n",
       "\"\"\"\n",
       "                            OLS Regression Results                            \n",
       "==============================================================================\n",
       "Dep. Variable:              Z_A, факт   R-squared:                       0.852\n",
       "Model:                            OLS   Adj. R-squared:                  0.802\n",
       "Method:                 Least Squares   F-statistic:                     17.21\n",
       "Date:                Tue, 28 Jul 2020   Prob (F-statistic):            0.00327\n",
       "Time:                        16:46:22   Log-Likelihood:                 39.635\n",
       "No. Observations:                   9   AIC:                            -73.27\n",
       "Df Residuals:                       6   BIC:                            -72.68\n",
       "Df Model:                           2                                         \n",
       "Covariance Type:            nonrobust                                         \n",
       "=======================================================================================\n",
       "                          coef    std err          t      P>|t|      [0.025      0.975]\n",
       "---------------------------------------------------------------------------------------\n",
       "const                  -0.1516      0.065     -2.330      0.059      -0.311       0.008\n",
       "I_phyvol_issue         -0.0887      0.039     -2.283      0.063      -0.184       0.006\n",
       "Chng_avrg_num_empls     0.4391      0.075      5.839      0.001       0.255       0.623\n",
       "==============================================================================\n",
       "Omnibus:                        0.903   Durbin-Watson:                   2.145\n",
       "Prob(Omnibus):                  0.637   Jarque-Bera (JB):                0.720\n",
       "Skew:                           0.526   Prob(JB):                        0.698\n",
       "Kurtosis:                       2.098   Cond. No.                         138.\n",
       "==============================================================================\n",
       "\n",
       "Warnings:\n",
       "[1] Standard Errors assume that the covariance matrix of the errors is correctly specified.\n",
       "\"\"\""
      ]
     },
     "execution_count": 380,
     "metadata": {},
     "output_type": "execute_result"
    }
   ],
   "source": [
    "X_za, Y_za, x_za=prepare_fit_data(pdfSPARK[['year', 'Z_A']].copy(), \n",
    "                                  pdfXLS_model[['I_phyvol_issue', 'Chng_avrg_num_empls']].copy(), lag=1)\n",
    "\n",
    "mdl_Z_A = sm.OLS(Y_za, X_za, missing='drop').fit()\n",
    "\n",
    "resZ_A.summary()"
   ]
  },
  {
   "cell_type": "code",
   "execution_count": 373,
   "metadata": {
    "scrolled": false
   },
   "outputs": [],
   "source": [
    "Ym_za=pd.DataFrame(resZ_A.predict(), index=X_za.index, columns=['Z_A, модель'])\n",
    "y_za=pd.DataFrame(resZ_A.predict(x_za), columns=['Z_A, прогноз'])[:-1]\n",
    "\n",
    "# для графика - соединяем последнюю точку модели и первую прогноза\n",
    "Ym_za.loc[y_za.index.tolist()[0]]=y_za.iloc[0].values \n",
    "\n",
    "# формируем датафрейм с данными для основной модели - модели банкротств\n",
    "pdfSubModResult.loc[Y_za.index, 'Z_A_']=Y_za.iloc[:, 0]\n",
    "pdfSubModResult.loc[y_za.index, 'Z_A_']=y_za.iloc[:, 0]\n",
    "# pdfSubModResult"
   ]
  },
  {
   "cell_type": "code",
   "execution_count": 374,
   "metadata": {},
   "outputs": [
    {
     "data": {
      "image/png": "[encoded data removed]",
      "text/plain": [
       "<Figure size 576x360 with 1 Axes>"
      ]
     },
     "metadata": {
      "needs_background": "light"
     },
     "output_type": "display_data"
    }
   ],
   "source": [
    "ax_za=Ym_za.plot.line(figsize=(8, 5), linewidth=4, alpha=0.5, grid=True,\n",
    "         title='Чистая кредиторская задолженность (по модулю), медиана по отрасли', color='g')\n",
    "Y_za.plot.line(ax=ax_za, color='b', linewidth=4, alpha=0.5)\n",
    "y_za.plot.line(ax=ax_za, color='g', style=':', linewidth=4, alpha=0.5, grid=True)\n",
    "\n",
    "# pdfSubModResult['Z_A_'].dropna().plot.line(ax=ax_za, color='grey', linewidth=14, alpha=0.3)\n",
    "\n",
    "plt.tight_layout()\n",
    "plt.show();"
   ]
  },
  {
   "cell_type": "markdown",
   "metadata": {},
   "source": [
    "### Модель *Ставка по кредитам*\n"
   ]
  },
  {
   "cell_type": "code",
   "execution_count": 404,
   "metadata": {},
   "outputs": [
    {
     "data": {
      "text/plain": [
       "<AxesSubplot:xlabel='date'>"
      ]
     },
     "execution_count": 404,
     "metadata": {},
     "output_type": "execute_result"
    },
    {
     "data": {
      "image/png": "[encoded data removed]",
      "text/plain": [
       "<Figure size 432x288 with 1 Axes>"
      ]
     },
     "metadata": {
      "needs_background": "light"
     },
     "output_type": "display_data"
    }
   ],
   "source": [
    "pdf=pdfLOAN.set_index('date').groupby(by=pd.Grouper(freq='Y')).agg(np.median)\n",
    "pdf.index=pdf.index.year\n",
    "pdf.plot.line()"
   ]
  },
  {
   "cell_type": "markdown",
   "metadata": {},
   "source": [
    "## Оценка и расчет основной модели \"Банкротства застройщиков\"\n",
    "\n",
    "Данные - в `pdfSubModResult`"
   ]
  },
  {
   "cell_type": "code",
   "execution_count": 413,
   "metadata": {},
   "outputs": [
    {
     "data": {
      "text/html": [
       "<div>\n",
       "<style scoped>\n",
       "    .dataframe tbody tr th:only-of-type {\n",
       "        vertical-align: middle;\n",
       "    }\n",
       "\n",
       "    .dataframe tbody tr th {\n",
       "        vertical-align: top;\n",
       "    }\n",
       "\n",
       "    .dataframe thead th {\n",
       "        text-align: right;\n",
       "    }\n",
       "</style>\n",
       "<table border=\"1\" class=\"dataframe\">\n",
       "  <thead>\n",
       "    <tr style=\"text-align: right;\">\n",
       "      <th></th>\n",
       "      <th>inn</th>\n",
       "      <th>completion_year</th>\n",
       "      <th>price</th>\n",
       "      <th>square</th>\n",
       "    </tr>\n",
       "  </thead>\n",
       "  <tbody>\n",
       "    <tr>\n",
       "      <th>0</th>\n",
       "      <td>0105003792</td>\n",
       "      <td>2020</td>\n",
       "      <td>367349984</td>\n",
       "      <td>9327.82</td>\n",
       "    </tr>\n",
       "    <tr>\n",
       "      <th>1</th>\n",
       "      <td>0105008695</td>\n",
       "      <td>2020</td>\n",
       "      <td>284736960</td>\n",
       "      <td>6943.00</td>\n",
       "    </tr>\n",
       "    <tr>\n",
       "      <th>2</th>\n",
       "      <td>0106003795</td>\n",
       "      <td>2020</td>\n",
       "      <td>249000000</td>\n",
       "      <td>9639.37</td>\n",
       "    </tr>\n",
       "    <tr>\n",
       "      <th>3</th>\n",
       "      <td>0107008891</td>\n",
       "      <td>2020</td>\n",
       "      <td>98972928</td>\n",
       "      <td>4680.96</td>\n",
       "    </tr>\n",
       "    <tr>\n",
       "      <th>4</th>\n",
       "      <td>0107022575</td>\n",
       "      <td>2020</td>\n",
       "      <td>582293936</td>\n",
       "      <td>18055.21</td>\n",
       "    </tr>\n",
       "    <tr>\n",
       "      <th>...</th>\n",
       "      <td>...</td>\n",
       "      <td>...</td>\n",
       "      <td>...</td>\n",
       "      <td>...</td>\n",
       "    </tr>\n",
       "    <tr>\n",
       "      <th>4611</th>\n",
       "      <td>9721014302</td>\n",
       "      <td>2022</td>\n",
       "      <td>3670516032</td>\n",
       "      <td>86832.00</td>\n",
       "    </tr>\n",
       "    <tr>\n",
       "      <th>4612</th>\n",
       "      <td>9729020072</td>\n",
       "      <td>2021</td>\n",
       "      <td>830013248</td>\n",
       "      <td>4973.35</td>\n",
       "    </tr>\n",
       "    <tr>\n",
       "      <th>4613</th>\n",
       "      <td>9729055420</td>\n",
       "      <td>2020</td>\n",
       "      <td>12000000000</td>\n",
       "      <td>103241.10</td>\n",
       "    </tr>\n",
       "    <tr>\n",
       "      <th>4614</th>\n",
       "      <td>9731000154</td>\n",
       "      <td>2021</td>\n",
       "      <td>2738303104</td>\n",
       "      <td>41658.12</td>\n",
       "    </tr>\n",
       "    <tr>\n",
       "      <th>4615</th>\n",
       "      <td>9731017278</td>\n",
       "      <td>2022</td>\n",
       "      <td>423431104</td>\n",
       "      <td>9409.58</td>\n",
       "    </tr>\n",
       "  </tbody>\n",
       "</table>\n",
       "<p>4616 rows × 4 columns</p>\n",
       "</div>"
      ],
      "text/plain": [
       "             inn  completion_year        price     square\n",
       "0     0105003792             2020    367349984    9327.82\n",
       "1     0105008695             2020    284736960    6943.00\n",
       "2     0106003795             2020    249000000    9639.37\n",
       "3     0107008891             2020     98972928    4680.96\n",
       "4     0107022575             2020    582293936   18055.21\n",
       "...          ...              ...          ...        ...\n",
       "4611  9721014302             2022   3670516032   86832.00\n",
       "4612  9729020072             2021    830013248    4973.35\n",
       "4613  9729055420             2020  12000000000  103241.10\n",
       "4614  9731000154             2021   2738303104   41658.12\n",
       "4615  9731017278             2022    423431104    9409.58\n",
       "\n",
       "[4616 rows x 4 columns]"
      ]
     },
     "execution_count": 413,
     "metadata": {},
     "output_type": "execute_result"
    }
   ],
   "source": [
    "# pdfSubModResult.dropna()\n",
    "# pdfNoza.sort_values('completion_year').join(pdfSPARK, on='inn')\n",
    "pdfNoza"
   ]
  },
  {
   "cell_type": "code",
   "execution_count": 397,
   "metadata": {},
   "outputs": [
    {
     "data": {
      "text/html": [
       "<table class=\"simpletable\">\n",
       "<caption>OLS Regression Results</caption>\n",
       "<tr>\n",
       "  <th>Dep. Variable:</th>           <td>ROA</td>       <th>  R-squared:         </th> <td>   0.192</td>\n",
       "</tr>\n",
       "<tr>\n",
       "  <th>Model:</th>                   <td>OLS</td>       <th>  Adj. R-squared:    </th> <td>  -0.010</td>\n",
       "</tr>\n",
       "<tr>\n",
       "  <th>Method:</th>             <td>Least Squares</td>  <th>  F-statistic:       </th> <td>  0.9513</td>\n",
       "</tr>\n",
       "<tr>\n",
       "  <th>Date:</th>             <td>Tue, 28 Jul 2020</td> <th>  Prob (F-statistic):</th>  <td> 0.426</td> \n",
       "</tr>\n",
       "<tr>\n",
       "  <th>Time:</th>                 <td>17:16:55</td>     <th>  Log-Likelihood:    </th> <td>  60.121</td>\n",
       "</tr>\n",
       "<tr>\n",
       "  <th>No. Observations:</th>      <td>    11</td>      <th>  AIC:               </th> <td>  -114.2</td>\n",
       "</tr>\n",
       "<tr>\n",
       "  <th>Df Residuals:</th>          <td>     8</td>      <th>  BIC:               </th> <td>  -113.0</td>\n",
       "</tr>\n",
       "<tr>\n",
       "  <th>Df Model:</th>              <td>     2</td>      <th>                     </th>     <td> </td>   \n",
       "</tr>\n",
       "<tr>\n",
       "  <th>Covariance Type:</th>      <td>nonrobust</td>    <th>                     </th>     <td> </td>   \n",
       "</tr>\n",
       "</table>\n",
       "<table class=\"simpletable\">\n",
       "<tr>\n",
       "             <td></td>                <th>coef</th>     <th>std err</th>      <th>t</th>      <th>P>|t|</th>  <th>[0.025</th>    <th>0.975]</th>  \n",
       "</tr>\n",
       "<tr>\n",
       "  <th>Intercept</th>               <td>   -0.0122</td> <td>    0.010</td> <td>   -1.182</td> <td> 0.271</td> <td>   -0.036</td> <td>    0.012</td>\n",
       "</tr>\n",
       "<tr>\n",
       "  <th>I_nom_prices_sec_market</th> <td>    0.0080</td> <td>    0.007</td> <td>    1.211</td> <td> 0.261</td> <td>   -0.007</td> <td>    0.023</td>\n",
       "</tr>\n",
       "<tr>\n",
       "  <th>marga</th>                   <td>    0.0049</td> <td>    0.004</td> <td>    1.106</td> <td> 0.301</td> <td>   -0.005</td> <td>    0.015</td>\n",
       "</tr>\n",
       "</table>\n",
       "<table class=\"simpletable\">\n",
       "<tr>\n",
       "  <th>Omnibus:</th>       <td> 0.481</td> <th>  Durbin-Watson:     </th> <td>   0.561</td>\n",
       "</tr>\n",
       "<tr>\n",
       "  <th>Prob(Omnibus):</th> <td> 0.786</td> <th>  Jarque-Bera (JB):  </th> <td>   0.424</td>\n",
       "</tr>\n",
       "<tr>\n",
       "  <th>Skew:</th>          <td> 0.377</td> <th>  Prob(JB):          </th> <td>   0.809</td>\n",
       "</tr>\n",
       "<tr>\n",
       "  <th>Kurtosis:</th>      <td> 2.404</td> <th>  Cond. No.          </th> <td>    65.0</td>\n",
       "</tr>\n",
       "</table><br/><br/>Warnings:<br/>[1] Standard Errors assume that the covariance matrix of the errors is correctly specified."
      ],
      "text/plain": [
       "<class 'statsmodels.iolib.summary.Summary'>\n",
       "\"\"\"\n",
       "                            OLS Regression Results                            \n",
       "==============================================================================\n",
       "Dep. Variable:                    ROA   R-squared:                       0.192\n",
       "Model:                            OLS   Adj. R-squared:                 -0.010\n",
       "Method:                 Least Squares   F-statistic:                    0.9513\n",
       "Date:                Tue, 28 Jul 2020   Prob (F-statistic):              0.426\n",
       "Time:                        17:16:55   Log-Likelihood:                 60.121\n",
       "No. Observations:                  11   AIC:                            -114.2\n",
       "Df Residuals:                       8   BIC:                            -113.0\n",
       "Df Model:                           2                                         \n",
       "Covariance Type:            nonrobust                                         \n",
       "===========================================================================================\n",
       "                              coef    std err          t      P>|t|      [0.025      0.975]\n",
       "-------------------------------------------------------------------------------------------\n",
       "Intercept                  -0.0122      0.010     -1.182      0.271      -0.036       0.012\n",
       "I_nom_prices_sec_market     0.0080      0.007      1.211      0.261      -0.007       0.023\n",
       "marga                       0.0049      0.004      1.106      0.301      -0.005       0.015\n",
       "==============================================================================\n",
       "Omnibus:                        0.481   Durbin-Watson:                   0.561\n",
       "Prob(Omnibus):                  0.786   Jarque-Bera (JB):                0.424\n",
       "Skew:                           0.377   Prob(JB):                        0.809\n",
       "Kurtosis:                       2.404   Cond. No.                         65.0\n",
       "==============================================================================\n",
       "\n",
       "Warnings:\n",
       "[1] Standard Errors assume that the covariance matrix of the errors is correctly specified.\n",
       "\"\"\""
      ]
     },
     "execution_count": 397,
     "metadata": {},
     "output_type": "execute_result"
    }
   ],
   "source": [
    "import patsy\n",
    "import statsmodels.formula.api as smf\n",
    "\n",
    "# resROA = sm.OLS(Y_roa, X_roa, missing='drop').fit()\n",
    "\n",
    "# resROA.summary()\n",
    "\n",
    "pdf=pdfXLS_model[['I_nom_prices_sec_market', 'marga']].copy()\n",
    "pdf['ROA']=Y_roa\n",
    "\n",
    "resROA_f = smf.ols(formula='ROA ~ I_nom_prices_sec_market + marga', missing='drop', data=pdf).fit()\n",
    "\n",
    "resROA_f.summary()"
   ]
  },
  {
   "cell_type": "code",
   "execution_count": 398,
   "metadata": {},
   "outputs": [
    {
     "data": {
      "text/plain": [
       "array([0.00234028, 0.00220217, 0.00197468, 0.002891  , 0.00229909,\n",
       "       0.00186619, 0.00142219, 0.00112016, 0.00150752, 0.00223908,\n",
       "       0.00253764])"
      ]
     },
     "execution_count": 398,
     "metadata": {},
     "output_type": "execute_result"
    }
   ],
   "source": [
    "resROA_f.predict()"
   ]
  },
  {
   "cell_type": "code",
   "execution_count": 120,
   "metadata": {},
   "outputs": [],
   "source": [
    "# pdfSPARK=pdfSPARK.loc[pdfSPARK[['capital', 'Cancel_date', 'ROA', 'Z_A']].dropna(how='all').index, :]\n",
    "# pdfM=pdfSPARK.merge(pdfNoza, on='inn')\n",
    "# pdfM.loc[pdfM['inn']=='5050102110']"
   ]
  },
  {
   "cell_type": "code",
   "execution_count": 121,
   "metadata": {},
   "outputs": [],
   "source": [
    "# pdfSPARK.loc[pdfSPARK['inn']=='6232001460']"
   ]
  },
  {
   "cell_type": "code",
   "execution_count": 122,
   "metadata": {},
   "outputs": [],
   "source": [
    "# pdfT=pd.read_sql('select * from spark', con=conWork)\n",
    "# pdfT.loc[(pdfT['inn']=='6232001460')]"
   ]
  },
  {
   "cell_type": "code",
   "execution_count": 15,
   "metadata": {},
   "outputs": [],
   "source": [
    "\n",
    "# res.loc[idx[2015:2019, :], idx[:]]"
   ]
  },
  {
   "cell_type": "markdown",
   "metadata": {},
   "source": [
    "<div class=\"alert alert-block alert-info\">\n",
    "<b>Для изменения данных в ручном режиме использовать шаблон</b>\n",
    "\n",
    "</div>\n",
    "\n",
    "```python\n",
    "pdfXLS_model.loc[2010, 'I_nom_prices_sec_market'] = 0\n",
    "```\n",
    "\n",
    "pdfXLS_model.loc[<год>, <название нужной колонки или список колонок>] = <нужное значение или список значений>"
   ]
  },
  {
   "cell_type": "code",
   "execution_count": 263,
   "metadata": {},
   "outputs": [
    {
     "data": {
      "text/html": [
       "<table class=\"simpletable\">\n",
       "<caption>GEE Regression Results</caption>\n",
       "<tr>\n",
       "  <th>Dep. Variable:</th>              <td>rent_otr</td>       <th>  No. Observations:  </th>    <td>11</td>   \n",
       "</tr>\n",
       "<tr>\n",
       "  <th>Model:</th>                         <td>GEE</td>         <th>  No. clusters:      </th>     <td>1</td>   \n",
       "</tr>\n",
       "<tr>\n",
       "  <th>Method:</th>                    <td>Generalized</td>     <th>  Min. cluster size: </th>    <td>11</td>   \n",
       "</tr>\n",
       "<tr>\n",
       "  <th></th>                      <td>Estimating Equations</td> <th>  Max. cluster size: </th>    <td>11</td>   \n",
       "</tr>\n",
       "<tr>\n",
       "  <th>Family:</th>                     <td>Gaussian</td>       <th>  Mean cluster size: </th>   <td>11.0</td>  \n",
       "</tr>\n",
       "<tr>\n",
       "  <th>Dependence structure:</th>     <td>Independence</td>     <th>  Num. iterations:   </th>     <td>2</td>   \n",
       "</tr>\n",
       "<tr>\n",
       "  <th>Date:</th>                   <td>Fri, 24 Jul 2020</td>   <th>  Scale:             </th>   <td>0.000</td> \n",
       "</tr>\n",
       "<tr>\n",
       "  <th>Covariance type: </th>            <td>robust</td>        <th>  Time:              </th> <td>17:04:15</td>\n",
       "</tr>\n",
       "</table>\n",
       "<table class=\"simpletable\">\n",
       "<tr>\n",
       "      <td></td>         <th>coef</th>     <th>std err</th>      <th>z</th>      <th>P>|z|</th>  <th>[0.025</th>    <th>0.975]</th>  \n",
       "</tr>\n",
       "<tr>\n",
       "  <th>Intercept</th> <td>   -0.0122</td> <td>  7.4e-17</td> <td>-1.65e+14</td> <td> 0.000</td> <td>   -0.012</td> <td>   -0.012</td>\n",
       "</tr>\n",
       "<tr>\n",
       "  <th>marga</th>     <td>    0.0049</td> <td> 2.52e-17</td> <td> 1.95e+14</td> <td> 0.000</td> <td>    0.005</td> <td>    0.005</td>\n",
       "</tr>\n",
       "<tr>\n",
       "  <th>i_price</th>   <td>    0.0080</td> <td> 4.31e-17</td> <td> 1.85e+14</td> <td> 0.000</td> <td>    0.008</td> <td>    0.008</td>\n",
       "</tr>\n",
       "</table>\n",
       "<table class=\"simpletable\">\n",
       "<tr>\n",
       "  <th>Skew:</th>          <td>      0.3773</td> <th>  Kurtosis:          </th> <td>     -0.5960</td>\n",
       "</tr>\n",
       "<tr>\n",
       "  <th>Centered skew:</th> <td>      0.3773</td> <th>  Centered kurtosis: </th> <td>     -0.5960</td>\n",
       "</tr>\n",
       "</table>"
      ],
      "text/plain": [
       "<class 'statsmodels.iolib.summary.Summary'>\n",
       "\"\"\"\n",
       "                               GEE Regression Results                              \n",
       "===================================================================================\n",
       "Dep. Variable:                    rent_otr   No. Observations:                   11\n",
       "Model:                                 GEE   No. clusters:                        1\n",
       "Method:                        Generalized   Min. cluster size:                  11\n",
       "                      Estimating Equations   Max. cluster size:                  11\n",
       "Family:                           Gaussian   Mean cluster size:                11.0\n",
       "Dependence structure:         Independence   Num. iterations:                     2\n",
       "Date:                     Fri, 24 Jul 2020   Scale:                           0.000\n",
       "Covariance type:                    robust   Time:                         17:04:15\n",
       "==============================================================================\n",
       "                 coef    std err          z      P>|z|      [0.025      0.975]\n",
       "------------------------------------------------------------------------------\n",
       "Intercept     -0.0122    7.4e-17  -1.65e+14      0.000      -0.012      -0.012\n",
       "marga          0.0049   2.52e-17   1.95e+14      0.000       0.005       0.005\n",
       "i_price        0.0080   4.31e-17   1.85e+14      0.000       0.008       0.008\n",
       "==============================================================================\n",
       "Skew:                          0.3773   Kurtosis:                      -0.5960\n",
       "Centered skew:                 0.3773   Centered kurtosis:             -0.5960\n",
       "==============================================================================\n",
       "\"\"\""
      ]
     },
     "execution_count": 263,
     "metadata": {},
     "output_type": "execute_result"
    }
   ],
   "source": [
    "pdf['const']=1.0\n",
    "model_indep = sm.GEE.from_formula(\n",
    "    \"rent_otr ~ marga + i_price\",\n",
    "    cov_struct = sm.cov_struct.Independence(),\n",
    "    groups = 'const',\n",
    "    data=pdf.reset_index()\n",
    "    ).fit()\n",
    "model_indep.summary()"
   ]
  },
  {
   "cell_type": "code",
   "execution_count": 143,
   "metadata": {},
   "outputs": [
    {
     "data": {
      "image/png": "[encoded data removed]",
      "text/plain": [
       "<Figure size 360x360 with 1 Axes>"
      ]
     },
     "metadata": {
      "needs_background": "light"
     },
     "output_type": "display_data"
    }
   ],
   "source": [
    "# Import necessary libraries\n",
    "import seaborn as sns\n",
    "import matplotlib.pyplot as plt\n",
    "import pandas as pd\n",
    "\n",
    "# Store the url string that hosts our .csv file\n",
    "# url = \"Cartwheeldata.csv\"\n",
    "\n",
    "# Read the .csv file and store it as a pandas Data Frame\n",
    "# df = pd.read_csv(url)\n",
    "\n",
    "# Create Scatterplot\n",
    "sns.lmplot(x='marga', y='i_price', data=pdf)\n",
    "\n",
    "plt.show()"
   ]
  },
  {
   "cell_type": "code",
   "execution_count": null,
   "metadata": {},
   "outputs": [],
   "source": [
    "# Scatterplot arguments\n",
    "# sns.lmplot(x='Wingspan', y='CWDistance', data=df,\n",
    "#            fit_reg=False, # No regression line\n",
    "#            hue='Gender')   # Color by evolution stage\n",
    "\n",
    "# plt.show()"
   ]
  },
  {
   "cell_type": "code",
   "execution_count": null,
   "metadata": {},
   "outputs": [],
   "source": []
  }
 ],
 "metadata": {
  "kernelspec": {
   "display_name": "Python 3",
   "language": "python",
   "name": "python3"
  },
  "language_info": {
   "codemirror_mode": {
    "name": "ipython",
    "version": 3
   },
   "file_extension": ".py",
   "mimetype": "text/x-python",
   "name": "python",
   "nbconvert_exporter": "python",
   "pygments_lexer": "ipython3",
   "version": "3.6.7"
  }
 },
 "nbformat": 4,
 "nbformat_minor": 4
}
