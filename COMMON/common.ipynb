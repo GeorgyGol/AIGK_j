{
 "cells": [
  {
   "cell_type": "markdown",
   "metadata": {},
   "source": [
    "# Общие функции и константы для всех блоков модели"
   ]
  },
  {
   "cell_type": "code",
   "execution_count": 68,
   "metadata": {},
   "outputs": [],
   "source": [
    "import sqlalchemy as sa\n",
    "import warnings\n",
    "from os import path, getcwd\n",
    "warnings.filterwarnings('ignore')\n",
    "\n",
    "strYearDBPath=path.join('..','DB', 'year.sqlite3') # путь к рабочей базе данных фактических рядов SQLite \n",
    "strExYearDBPath=path.join('..','DB', 'exog_year.sqlite3') # путь к рабочей базе данных экзогенных переменных SQLite\n",
    "strExParamDBPath=path.join('..','DB', 'exog_param.sqlite3') # путь к рабочей базе данных экзогенных параметров SQLite\n",
    "strSvodDBPath=path.join('..','DB', 'svod.sqlite3') # путь к рабочей базе данных итоговых рядов SQLite \n",
    "\n",
    "# константы базы данных SQLite3\n",
    "strDatas_table='datas' # название таблицы с данными в базе данных SQLite\n",
    "strHeaders_table='headers' # название таблицы с текстовыми и кодовыми именами рядов в базе данных SQLite\n",
    "\n",
    "\n",
    "import matplotlib.pyplot as plt"
   ]
  },
  {
   "cell_type": "code",
   "execution_count": 56,
   "metadata": {},
   "outputs": [],
   "source": [
    "def make_SELECT_YEAR_string(rowCodes, datas_table=strDatas_table, header_table=strHeaders_table):\n",
    "    assert type(rowCodes) in (str, list, tuple), 'make_SELECT_YEAR_string from() COMMON module: error in param type'\n",
    "    strSelect='''select {datas_table}.date, {datas_table}.value, {header_table}.code2 from {datas_table} join {header_table}\n",
    "                  on {datas_table}.code={header_table}.code {where_condiiton}'''\n",
    "    \n",
    "    \n",
    "    if type(rowCodes)==str:\n",
    "        return strSelect.format(where_condiiton = 'where {header_table}.code2==\"{code2}\"'.format(header_table=header_table, code2=rowCodes),\n",
    "                               datas_table=datas_table, header_table=header_table)\n",
    "    elif type(rowCodes) in (tuple, list):\n",
    "        return strSelect.format(where_condiiton = 'where {header_table}.code2 in {codes2}'.format(header_table=header_table, \n",
    "                                                                                                  codes2=tuple(rowCodes)),\n",
    "                               datas_table=datas_table, header_table=header_table)\n",
    "    return None\n",
    "\n",
    "def make_frame(pdf):\n",
    "    k=pdf.set_index(['date', 'code2']).unstack().reset_index().set_index('date')\n",
    "    k.columns=[c[1] for c in k.columns]\n",
    "    return k\n",
    "\n",
    "def scale(pdf, list_fields=[], multiplier=1):\n",
    "    pdf[list_fields] *= multiplier\n",
    "    return pdf\n",
    "\n",
    "def add(pdf, list_fields=[], param=0):\n",
    "    pdf[list_fields] += param\n",
    "    return pdf"
   ]
  },
  {
   "cell_type": "markdown",
   "metadata": {},
   "source": [
    "## Ниже - тесты функций. Чтобы работало, нужно убрать магию"
   ]
  },
  {
   "cell_type": "code",
   "execution_count": 67,
   "metadata": {},
   "outputs": [],
   "source": [
    "%%script false --no-raise-error\n",
    "\n",
    "import pandas as pd\n",
    "\n",
    "strDB_path=path.join('..', 'DB', 'bankrp.sqlite3')\n",
    "\n",
    "strYearDBPath=path.join('..','DB', 'year.sqlite3') # путь к рабочей базе данных фактических рядов SQLite \n",
    "strExYearDBPath=path.join('..','DB', 'exog_year.sqlite3') # путь к рабочей базе данных экзогенных переменных SQLite\n",
    "strExParamDBPath=path.join('..','DB', 'exog_param.sqlite3') # путь к рабочей базе данных экзогенных параметров SQLite\n",
    "strSvodDBPath=path.join('..','DB', 'svod.sqlite3') # путь к рабочей базе данных итоговых рядов SQLite \n",
    "\n",
    "\n",
    "# ------------\n",
    "\n",
    "conWork = sa.create_engine('sqlite+pysqlite:///{db_name}'.format(db_name=strYearDBPath)) # connection к рабочей базе данных\n",
    "\n",
    "pdf=(pd.read_sql(make_SELECT_YEAR_string(['GDP_x', 'GDP_Iq','CPIAv','KeyRate','Unmpl_s']), con=conWork)\n",
    "     .pipe(make_frame)\n",
    "     .pipe(scale, list_fields=['GDP_x', 'GDP_Iq'], multiplier=100)\n",
    "     .pipe(add, 'Unmpl_s', -100))\n",
    "pdf"
   ]
  },
  {
   "cell_type": "code",
   "execution_count": null,
   "metadata": {},
   "outputs": [],
   "source": [
    "\n",
    "\n"
   ]
  },
  {
   "cell_type": "code",
   "execution_count": null,
   "metadata": {},
   "outputs": [],
   "source": []
  }
 ],
 "metadata": {
  "kernelspec": {
   "display_name": "Python 3",
   "language": "python",
   "name": "python3"
  },
  "language_info": {
   "codemirror_mode": {
    "name": "ipython",
    "version": 3
   },
   "file_extension": ".py",
   "mimetype": "text/x-python",
   "name": "python",
   "nbconvert_exporter": "python",
   "pygments_lexer": "ipython3",
   "version": "3.8.5"
  }
 },
 "nbformat": 4,
 "nbformat_minor": 4
}
