{
 "cells": [
  {
   "cell_type": "markdown",
   "metadata": {},
   "source": [
    "# Сервисные функции \n",
    "\n",
    "не нужные для работы моделей, но нужные для обслуживания"
   ]
  },
  {
   "cell_type": "code",
   "execution_count": 19,
   "metadata": {},
   "outputs": [],
   "source": [
    "from cmasf import pandas_sql as pds\n",
    "\n",
    "%run common.ipynb # загрузка общих функций и констант, все, что оттуда, должно иметь префикс common.\n",
    "\n",
    "conWork = sa.create_engine('sqlite+pysqlite:///{db_name}'.format(db_name=common.strYearDBPath)) # connection к рабочей базе данных\n",
    "conWorkEx = sa.create_engine('sqlite+pysqlite:///{db_name}'.format(db_name=common.strExYearDBPath)) # connection к к рабочей базе данных экзогенных переменных\n",
    "conWorkExH=sa.create_engine('sqlite+pysqlite:///{db_name}'.format(db_name=common.strExParamDBPath)) # connection к рабочей базе данных экзогенных параметров\n",
    "conWorkSvod=sa.create_engine('sqlite+pysqlite:///{db_name}'.format(db_name=common.strSvodDBPath)) # connection к рабочей базе данных СВОД\n"
   ]
  },
  {
   "cell_type": "markdown",
   "metadata": {},
   "source": [
    "<div class=\"alert alert-block alert-danger\">\n",
    "    <b>ПОКА НЕ ОТЛАЖЕНО!!! КОПИЮ БАЗЫ ДАННЫХ ПЕРЕД ОБНОВЛЕНИЕМ ДЕЛАТЬ ОБЯЗАТЕЛЬНО!!!</b>\n",
    "</div>"
   ]
  },
  {
   "cell_type": "code",
   "execution_count": 157,
   "metadata": {},
   "outputs": [],
   "source": [
    "import pandas as pd\n",
    "\n",
    "class service:\n",
    "    \n",
    "    def make_headers4db(pdfHeaders, con=None):\n",
    "        pdfH=pdfHeaders.copy()\n",
    "        pdfh=pd.read_sql('select * from headers', con=con, index_col='code')\n",
    "        max_index=pdfh.index.max()\n",
    "\n",
    "        dct={v['code2']:int(v['code']) for _, v in pdfh.reset_index().iterrows()}\n",
    "        pdfH['code']=pdfH['code2'].map(dct)\n",
    "        len_na=pdfH[pdfH['code'].isna()].shape[0]\n",
    "        pdfH.loc[pdfH['code'].isna(), 'code']=range(max_index+1, max_index+1+len_na)\n",
    "        pdfH['code']=pdfH['code'].round().astype(int)\n",
    "        pdfH.set_index('code', inplace=True)\n",
    "        return pdfH\n",
    "    \n",
    "    def make_datas4db(pdfData, con=None):\n",
    "        pdf=pdfData.stack().reset_index().rename(columns={'level_0':'date', 'level_1':'code2', 0:'value'})\n",
    "        pdfH=service.make_headers4db(pdfH1, con=con)\n",
    "\n",
    "        pdf['code']=pdf['code2'].map({v['code2']:v['code'] for _, v in pdfH.reset_index().iterrows()})\n",
    "        pdf.set_index(['code', 'date'], inplace=True)\n",
    "        return pdf[['value']]\n",
    "    \n",
    "    def update_db(pdfData, pdfHeader=None, con=None, data_table='datas', header_table='headers'):\n",
    "        \n",
    "        cols=pdfData.columns.to_list()\n",
    "#         ltmp=['p_sq1room_x', 'p_sq3room_x']\n",
    "        strChecHeaders='select * from {headers} where code2 in {list_fields}'.format(headers=header_table, list_fields=tuple(cols))\n",
    "        ph=pd.read_sql(strChecHeaders, con=con)\n",
    "        \n",
    "        diff=set(cols) - set(ph.code2.unique())\n",
    "        if diff != set():\n",
    "            strErr='В базе данных \"{db_name}\" нет следующих рядов: {lst}'.format(lst=diff, db_name=con.url.database)\n",
    "            if pdfHeader is None:\n",
    "                raise NameError('{}, необходим фрейм с заголовками рядов'.format(strErr))\n",
    "            elif set(set(cols) - set(pdfHeader.code2.unique())) != set():\n",
    "                raise NameError('{}, фрейм с заголовками рядов не содержит данных для {}'.format(strErr, \n",
    "                                                                                                 set(cols) - set(pdfHeader.code2.unique())))\n",
    "        pdfH=pds.DataFrameDATA(service.make_headers4db(pdfHeader, con=con))\n",
    "        pdfH['update_time']=common.update_dt_s(datetime_value=dt.datetime.now())\n",
    "        pdfH.to_sql(header_table, con=con, if_exists='upsert')\n",
    "        pdfs=pds.DataFrameDATA(service.make_datas4db(pdfData, con=con))\n",
    "        pdfs.to_sql(data_table, con=con, if_exists='upsert')\n",
    "        print('write to {}'.format(con.url.database), 'done')\n",
    "        print(header_table, '\\n', pdfH)\n",
    "        print(data_table, '\\n', pdfs)\n",
    "        \n"
   ]
  },
  {
   "cell_type": "markdown",
   "metadata": {},
   "source": [
    "## Ниже - тесты функций. Чтобы работало, нужно убрать магию"
   ]
  },
  {
   "cell_type": "code",
   "execution_count": 158,
   "metadata": {},
   "outputs": [
    {
     "name": "stdout",
     "output_type": "stream",
     "text": [
      "write to ../DB/exog_param.sqlite3 done\n",
      "headers \n",
      "             code2                                         name  \\\n",
      "code                                                             \n",
      "111         MEPop      Параметр а логнормального распределения   \n",
      "112       DispPop  Параметр sigma логнормального распределения   \n",
      "27    p_sq1room_x                                однокомнатная   \n",
      "\n",
      "                     update_time  \n",
      "code                              \n",
      "111   2021-01-27 17:50:41 607317  \n",
      "112   2021-01-27 17:50:41 607317  \n",
      "27    2021-01-27 17:50:41 607317  \n",
      "datas \n",
      "                value\n",
      "code date           \n",
      "111  2020  10.177509\n",
      "112  2020   0.764492\n",
      "111  2021  10.234940\n",
      "112  2021   0.764492\n",
      "111  2022  10.301182\n",
      "112  2022   0.764492\n",
      "111  2023  10.371241\n",
      "112  2023   0.764492\n",
      "111  2024  10.445628\n",
      "112  2024   0.764492\n",
      "111  2025  10.522183\n",
      "112  2025   0.764492\n",
      "111  2026  10.598180\n",
      "112  2026   0.764492\n",
      "111  2027  10.674408\n",
      "112  2027   0.764492\n",
      "111  2028  10.748756\n",
      "112  2028   0.764492\n",
      "111  2029  10.822207\n",
      "112  2029   0.764492\n",
      "111  2030  10.892690\n",
      "112  2030   0.764492\n"
     ]
    }
   ],
   "source": [
    "# %%script false --no-raise-error\n",
    "\n",
    "\n",
    "pdf=pds.DataFrameDATA({'MEPop':[10.1775090888518,10.2349395704228,10.3011821606418,10.3712411806194,10.4456277754351,10.5221830043789,\n",
    "10.5981795394509,10.674408483961,10.7487557680358,10.8222068116406,10.8926895654648],\n",
    "'DispPop':[0.76449173,0.76449173,0.76449173,0.76449173,0.76449173,0.76449173,0.76449173,0.76449173,0.76449173,\n",
    "0.76449173,0.76449173]}, index=range(2020, 2031))\n",
    "\n",
    "\n",
    "pdfH1=pd.DataFrame([{'code2': 'MEPop', 'name': 'Параметр а логнормального распределения'} , \n",
    "                   {'code2': 'DispPop', 'name': 'Параметр sigma логнормального распределения'}, \n",
    "                  {'code2': 'p_sq1room_x', 'name': 'однокомнатная'}])\n",
    "           \n",
    "\n",
    "# print(make_headers(pdfH1, con=conWorkExH))\n",
    "\n",
    "# print(pdfH)\n",
    "\n",
    "# print(service.make_datas4db(pdf, con=conWorkExH))\n",
    "\n",
    "service.update_db(pdf, con=conWorkExH, pdfHeader=pdfH)\n",
    "\n"
   ]
  },
  {
   "cell_type": "code",
   "execution_count": 159,
   "metadata": {},
   "outputs": [
    {
     "data": {
      "text/plain": [
       "'../DB/year.sqlite3'"
      ]
     },
     "execution_count": 159,
     "metadata": {},
     "output_type": "execute_result"
    }
   ],
   "source": [
    "conWork.url.database"
   ]
  },
  {
   "cell_type": "code",
   "execution_count": null,
   "metadata": {},
   "outputs": [],
   "source": []
  }
 ],
 "metadata": {
  "kernelspec": {
   "display_name": "Python 3",
   "language": "python",
   "name": "python3"
  },
  "language_info": {
   "codemirror_mode": {
    "name": "ipython",
    "version": 3
   },
   "file_extension": ".py",
   "mimetype": "text/x-python",
   "name": "python",
   "nbconvert_exporter": "python",
   "pygments_lexer": "ipython3",
   "version": "3.8.5"
  }
 },
 "nbformat": 4,
 "nbformat_minor": 4
}
