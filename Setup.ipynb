{
 "cells": [
  {
   "cell_type": "markdown",
   "metadata": {},
   "source": [
    "# Установки и настройки модели АИЖК\n",
    "\n",
    "<div class=\"alert alert-block alert-info\">\n",
    "<p>Все настройки хранятся в файле <b>models.sqlite3</b></p>\n",
    "<p>В таблице <b>scenarious</b> хранятся описания и настройки сценариев:</p>\n",
    "    <ul>\n",
    "        <li>Название сценария</li>\n",
    "        <li>Путь к файлу с экзогенными параметрами</li>\n",
    "        <li>Путь к файлам базы данных (могут быть общими для нескольких моделей и сценариев)</li>\n",
    "    </ul>\n",
    "<p>Данный блокнок предназначен для добавления-удаления-редактирования этой таблицы. </p>\n",
    "</div>"
   ]
  },
  {
   "cell_type": "markdown",
   "metadata": {},
   "source": [
    "## Установки путей к файлам, открытие связей с базами"
   ]
  },
  {
   "cell_type": "code",
   "execution_count": 20,
   "metadata": {},
   "outputs": [],
   "source": [
    "import sqlite3\n",
    "from os import path, getcwd\n",
    "from IPython.display import Markdown as md\n",
    "from pathlib import Path"
   ]
  },
  {
   "cell_type": "markdown",
   "metadata": {},
   "source": [
    "### Путь к файлу models.sqlite3\n",
    "<p>Печать списка сценариев</p>\n",
    "<p>Для создания нового сценария введите новое уникальное имя, для редактирования старого - задайте его имя в переменной</p>"
   ]
  },
  {
   "cell_type": "code",
   "execution_count": 58,
   "metadata": {},
   "outputs": [
    {
     "data": {
      "text/plain": [
       "[{'id': 'ifrs',\n",
       "  'name': 'first test',\n",
       "  'exog_file': 'not now',\n",
       "  'start_date': None}]"
      ]
     },
     "execution_count": 58,
     "metadata": {},
     "output_type": "execute_result"
    }
   ],
   "source": [
    "strModelsPath='models.sqlite3'\n",
    "strTableName='scenarious'\n",
    "\n",
    "cn=sqlite3.connect(strModelsPath)\n",
    "cursor = cn.cursor()\n",
    "\n",
    "strSQLGetScenariosList='SELECT * from scenarious'\n",
    "    \n",
    "    \n",
    "def check_database(strModelsPath=strModelsPath, table_name=strTableName):\n",
    "    def create_scen_table(strTName):\n",
    "        print('SQLITE: create empty table ', strTName, end='...')\n",
    "        strSQLCreate='''\n",
    "CREATE TABLE IF NOT EXISTS {t_name} (id string PRIMARY KEY, name text NOT NULL, \n",
    "exog_file text NOT NULL, start_date text); '''.format(t_name=strTName)\n",
    "        cursor.execute(strSQLCreate)\n",
    "        cursor.commit()\n",
    "        print('done')\n",
    "        \n",
    "    def read_scen_table(strTName):\n",
    "        strSQLGetScenariosList='SELECT * from {t_name}'.format(t_name=strTName)\n",
    "        cn.row_factory = sqlite3.Row\n",
    "        cr_sel=cn.cursor()\n",
    "        cr_sel.execute(strSQLGetScenariosList)\n",
    "        return [dict(row) for row in cr_sel.fetchall()]\n",
    "\n",
    "            \n",
    "    cn=sqlite3.connect(strModelsPath)\n",
    "    cursor = cn.cursor()\n",
    "\n",
    "    strSQLGetScenariosList=\"SELECT count(*) FROM sqlite_master WHERE type='table' AND name='{t_name}';\".format(t_name=table_name)\n",
    "    cursor.execute(strSQLGetScenariosList)\n",
    "\n",
    "    if cursor.fetchone()[0]==0:\n",
    "        create_scen_table(strTableName)\n",
    "    else:\n",
    "        return read_scen_table(strTableName)\n",
    "\n",
    "   \n",
    "    \n",
    "check_database()"
   ]
  },
  {
   "cell_type": "code",
   "execution_count": 52,
   "metadata": {},
   "outputs": [],
   "source": [
    "# путь к каталогу с базами данных (годовые, квартальные, помесячные)\n",
    "pathToDataBaseFiles=path.join(getcwd(), r'DB') \n",
    "\n",
    "# путь к блокноту настройки параметров сезонности\n",
    "strPathToSEasonalDecompose=path.join(getcwd(), r'seasonal_decompose/seasonal_adj.ipynb').replace(str(Path.home()), r'/notebooks')"
   ]
  },
  {
   "cell_type": "code",
   "execution_count": 53,
   "metadata": {},
   "outputs": [
    {
     "data": {
      "text/markdown": [
       "\n",
       "<div class=\"alert alert-block alert-success\">\n",
       "<b><a href=\"/notebooks/git/jupyter/AIGK/seasonal_decompose/seasonal_adj.ipynb?DATABASE=/home/egor/git/jupyter/AIGK/DB\" target=\"_blank\">Настройки параметров снятия сезонности</a></b><br>\n",
       "Параметры снятия сезонности\n",
       "хранятся в sqlite3-файлах базы данных, настраиваются для каждого ряда отдельно.\n",
       "</div>\n"
      ],
      "text/plain": [
       "<IPython.core.display.Markdown object>"
      ]
     },
     "execution_count": 53,
     "metadata": {},
     "output_type": "execute_result"
    }
   ],
   "source": [
    "strMD='''\n",
    "<div class=\"alert alert-block alert-success\">\n",
    "<b><a href=\"{season_path}?DATABASE={bd_path}\" target=\"_blank\">Настройки параметров снятия сезонности</a></b><br>\n",
    "Параметры снятия сезонности\n",
    "хранятся в sqlite3-файлах базы данных, настраиваются для каждого ряда отдельно.\n",
    "</div>\n",
    "'''.format(season_path=path.join(getcwd(), strPathToSEasonalDecompose), bd_path=pathToDataBaseFiles)\n",
    "md(strMD)"
   ]
  },
  {
   "cell_type": "code",
   "execution_count": null,
   "metadata": {},
   "outputs": [],
   "source": []
  }
 ],
 "metadata": {
  "kernelspec": {
   "display_name": "Python 3",
   "language": "python",
   "name": "python3"
  },
  "language_info": {
   "codemirror_mode": {
    "name": "ipython",
    "version": 3
   },
   "file_extension": ".py",
   "mimetype": "text/x-python",
   "name": "python",
   "nbconvert_exporter": "python",
   "pygments_lexer": "ipython3",
   "version": "3.6.7"
  }
 },
 "nbformat": 4,
 "nbformat_minor": 4
}
