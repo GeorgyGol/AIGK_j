{
 "cells": [
  {
   "cell_type": "code",
   "execution_count": 8,
   "metadata": {},
   "outputs": [
    {
     "data": {
      "text/markdown": [
       "# Описание программного пакета модели выбытия ЖФ\n",
       "\n",
       "Расчитывает выбытия жилой площади на периоде 2015 - 2035 гг.\n",
       "\n",
       "## Структура \n",
       "\n",
       "- Все блокноты модели лежат в каталоге AIGK/DISPS_HOUSES_MODEL\n",
       "- База даных модели: AIGK/DB/Houses.sqlite3\n",
       "- База данных, использовавшаяся в экселевской версии модели, \n",
       "для сверки результатов с полученными на новых данных с помощью модели DISPS_HOUSES_MODEL: AIGK/DB/SRC/Houses.xlsx\n",
       "\n",
       "Модель собрана на следующих блокнотах (jupyter notebook):\n",
       "- <a href=\"Vibitija_main-final.ipynb\" \n",
       "target=\"_blank\">Vibitija_main-final.ipynb</a> - блокнот расчета основной модели\n",
       "- <a href=\"Vibitija-check.ipynb\" \n",
       "target=\"_blank\">Vibitija-check.ipynb</a> - блокнот расчета \n",
       "модели на основе данных, использовавшихся в экселевской версии модели, \n",
       "и сравнение с результатами основной модели. \n",
       "- <a href=\"houses_out_db.ipynb\" \n",
       "target=\"_blank\">houses_out_db.ipynb</a> - блокнот обновления \n",
       "(создания) базы данных модели. \n",
       "- README-V.ipynb - вывод справки readme.\n",
       "\n",
       "Используются следующие файлы с данными:\n",
       "- AIGK/DB/Houses.sqlite3 (основная база данных)\n",
       "- AIGK/DB/SRC/Houses.xlsx (база данных, использовавшаяся в экселевской версии модели)\n",
       "\n",
       "Используется следующий источник данных:\n",
       "- <a \n",
       "href=\"https://www.reformagkh.ru/opendata?gid=2208161&cids=house_management&page=1&pageSize=100\" \n",
       "target=\"_blank\">https://www.reformagkh.ru/opendata?gid=2208161&cids=house_management&page=1&pageSize=100</a> - реестры домов по областям РФ\n",
       "\n",
       "\n",
       "## Алгоритм работы с моделью \n",
       "\n",
       "При поступлении новых данных в \n",
       "источниках выполняется блокнот \n",
       "**houses_out_db.ipynb**. Рабочий \n",
       "блокнот выбирает нужные для работы \n",
       "данные, формирует таблицы данных в \n",
       "нужных форматах и сохраняет их в файле базы данных модели.  \n",
       "*Входные данные*: файлы или \n",
       "интернет-ресурсы с \"сырыми\" данными от \n",
       "поставщиков (источников) данных.   \n",
       "*Выходные данные* - файл базы данных модели (AIGK/DB/Houses.sqlite3), временные файлы реестров домов по областям\n",
       "\n",
       "Блокнот **Vibitija_main-final.ipynb** выполняется \n",
       "для расчёта основной модели. Готовый фрейм сохраняется в \n",
       "виде таблицы в файле базы данных модели.   \n",
       "*Входные данные* - файл базы данных \n",
       "модели (AIGK/DB/Houses.sqlite3).   \n",
       "*Выходные данные* - таблица disps_result в файле базы данных модели (AIGK/DB/Houses.sqlite3)\n",
       "\n",
       "Блокнот **Vibitija-check.ipynb** выполняется для \n",
       "расчета результатов по старым данным и сравнения с полученными в основной модели.\n",
       "Запускать только после завершения расчетов в основной модели.\n",
       "*Входные данные* - файл экселевской базы данных \n",
       "модели (AIGK/SRC/Houses.xlsx) и результирующий фрейм из основной модели.   \n"
      ],
      "text/plain": [
       "<IPython.core.display.Markdown object>"
      ]
     },
     "metadata": {},
     "output_type": "display_data"
    }
   ],
   "source": [
    "from IPython.display import Markdown, display\n",
    "\n",
    "display(Markdown(\"README-V.md\"))"
   ]
  }
 ],
 "metadata": {
  "kernelspec": {
   "display_name": "Python 3",
   "language": "python",
   "name": "python3"
  },
  "language_info": {
   "codemirror_mode": {
    "name": "ipython",
    "version": 3
   },
   "file_extension": ".py",
   "mimetype": "text/x-python",
   "name": "python",
   "nbconvert_exporter": "python",
   "pygments_lexer": "ipython3",
   "version": "3.6.7"
  }
 },
 "nbformat": 4,
 "nbformat_minor": 4
}
